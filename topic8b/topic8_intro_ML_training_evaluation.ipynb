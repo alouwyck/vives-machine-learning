{
  "cells": [
    {
      "cell_type": "markdown",
      "metadata": {
        "id": "view-in-github",
        "colab_type": "text"
      },
      "source": [
        "<a href=\"https://colab.research.google.com/github/alouwyck/vives-machine-learning/blob/main/topic8b/topic8_intro_ML_training_evaluation.ipynb\" target=\"_parent\"><img src=\"https://colab.research.google.com/assets/colab-badge.svg\" alt=\"Open In Colab\"/></a>"
      ]
    },
    {
      "cell_type": "markdown",
      "metadata": {
        "id": "1N1kqUSWctSM"
      },
      "source": [
        "<img src=\"data:image/png;base64,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\" align=\"right\" /><br>\n",
        "\n",
        "\n",
        "**INTRODUCTION TO ARTIFICIAL INTELLIGENCE**<br>\n",
        "VIVES BUSINESS ACADEMY<br>\n",
        "Academic Year 2023-2024<br>\n",
        "Andy Louwyck\n",
        "\n",
        "---\n",
        "\n",
        "\n",
        "\n",
        "---\n",
        "\n"
      ]
    },
    {
      "cell_type": "markdown",
      "metadata": {
        "id": "H-KkWI-G73CE"
      },
      "source": [
        "# **INTRODUCTION TO MACHINE LEARNING: TRAINING AND EVALUATION**"
      ]
    },
    {
      "cell_type": "markdown",
      "metadata": {
        "id": "yR5EpwMuXPx9"
      },
      "source": [
        "This notebook is a brief introduction to training and evaluating machine learning models with Python. We give some examples of supervised and unsupervised learning:\n",
        "\n",
        "- classification with K Nearest Neighbors (supervised)\n",
        "- classification with logistic regression (supervised)\n",
        "- simple linear regression (supervised)\n",
        "- polynomial regression (supervised)\n",
        "- K-Means clustering (unsupervised)\n",
        "\n",
        "We also explain how hyperparameters are fine-tuned using a validation set in order to overcome overfitting."
      ]
    },
    {
      "cell_type": "markdown",
      "source": [
        "## **Python libraries**"
      ],
      "metadata": {
        "id": "vUZNY65q76E0"
      }
    },
    {
      "cell_type": "markdown",
      "metadata": {
        "id": "CU5vv0RedwWH"
      },
      "source": [
        "We need the following libraries:\n",
        "- NumPy: library for numerical computation.\n",
        "- Pandas: library for analyzing structured data\n",
        "- Matplotlib: library for visualizing data\n",
        "- Scikit-Learn: machine learning library"
      ]
    },
    {
      "cell_type": "markdown",
      "metadata": {
        "id": "3ncwW20yBB7O"
      },
      "source": [
        "As we already know, we import these libraries using the `import` command:"
      ]
    },
    {
      "cell_type": "code",
      "execution_count": null,
      "metadata": {
        "id": "8_1dJHyy8jHr"
      },
      "outputs": [],
      "source": [
        "import numpy as np  # numeric python\n",
        "import pandas as pd  # python data analysis library\n",
        "import matplotlib.pyplot as plt  # python library for visualizations"
      ]
    },
    {
      "cell_type": "markdown",
      "metadata": {
        "id": "6UoMJIXvgJoU"
      },
      "source": [
        "From Scikit-Learn we import only the classes we use at the time we need them."
      ]
    },
    {
      "cell_type": "markdown",
      "source": [
        "## **Classification**"
      ],
      "metadata": {
        "id": "z532EdkhoXFp"
      }
    },
    {
      "cell_type": "markdown",
      "source": [
        "Classification is a type of **supervised learning** used to **predict qualitative variables**, also called categorical variables, by learning a function that maps input features to output **labels**.\n",
        "\n",
        "In this section we discuss K Nearest Neighbors and Logistic Regression. We give two **binary classification** examples in which there are two possible labels only."
      ],
      "metadata": {
        "id": "PkOFI7u8qrI9"
      }
    },
    {
      "cell_type": "markdown",
      "metadata": {
        "id": "vbCuiG0SK5sn"
      },
      "source": [
        "### K Nearest Neighbors"
      ]
    },
    {
      "cell_type": "markdown",
      "metadata": {
        "id": "fhJN0SXGcNGb"
      },
      "source": [
        "As already indicated in previous notebook, the \"K Nearest Neighbors\" algorithms (KNN) are very well-known in machine learning and also have a lot of applications. They can be used in classification, regression, and even unsupervised learning. Here, we only discuss 2 classification examples.\n",
        "\n",
        "The \"nearest neighbors\" principle is quite simple: the algorithm takes the K data points from the training set that are closest to a new data point, and in case of classification, it gives that new data point the label that is most common among the K surrounding data points."
      ]
    },
    {
      "cell_type": "markdown",
      "metadata": {
        "id": "DMp7_cEUgbIz"
      },
      "source": [
        "The question is: how does the algorithm find the K nearest data points? The answer is: by calculating the distances between the new data point and the data points in the training set. This can be the Manhattan distance, but very often the Euclidean distance is used, which is the straight-line distance 'as the crow flies' between 2 points.\n",
        "\n",
        "Considering 2 points with respective coordinates $(x_1, y_1)$ and $(x_2, y_2)$, then the **Manhattan distance** is $m$:\n",
        "\n",
        "> $m = |x_2 - x_1| + |y_2 - y_1|$.\n",
        "\n",
        "We find the **Euclidean distance** $d$ by applying the Pythagorean theorem:\n",
        "\n",
        "> $d = \\sqrt{(x_2 - x_1)^2 + (y_2 - y_1)^2}$"
      ]
    },
    {
      "cell_type": "markdown",
      "metadata": {
        "id": "4UitptMKiw6n"
      },
      "source": [
        "![image.png](data:image/png;base64,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)"
      ]
    },
    {
      "cell_type": "markdown",
      "metadata": {
        "id": "VpwAnD7bi7Xw"
      },
      "source": [
        "In machine learning, the coordinates are the features, and so the algorithm computes the differences between the features of the data points. To present our results graphically, the data points are restricted here to 2 features $x_1$ and $x_2$, and a label $y$. Of course, the algorithm can also be applied to data points having more than 2 features."
      ]
    },
    {
      "cell_type": "markdown",
      "metadata": {
        "id": "L-A50cwG65dH"
      },
      "source": [
        "Here, only 2 simple examples are discussed, in each case reading a small data set as a Pandas dataframe, plotting the data points in a scatterplot, and then predicting the class of some new data points. Since this is a classification task, we need to use class `KNeighborsClassifier` from Scikit-Learn:"
      ]
    },
    {
      "cell_type": "code",
      "execution_count": null,
      "metadata": {
        "id": "yP4Vs8c365dI"
      },
      "outputs": [],
      "source": [
        "from sklearn.neighbors import KNeighborsClassifier"
      ]
    },
    {
      "cell_type": "markdown",
      "metadata": {
        "id": "iN8p--7YkKNe"
      },
      "source": [
        "Unlike most other machine learning models, there is no training phase in KNN. We have to specify the value for K ourselves (i.e., it is a **hyperparameter**), and so the algorithm does not need to derive any parameters. Therefore, we call this **lazy learning** (in contrast to **eager learning** when there is a training of the model needed)."
      ]
    },
    {
      "cell_type": "markdown",
      "metadata": {
        "id": "rFVRHDtI5QVN"
      },
      "source": [
        "#### Example 1"
      ]
    },
    {
      "cell_type": "markdown",
      "metadata": {
        "id": "rN7lmm_Q38ED"
      },
      "source": [
        "We start with a dataset containing the height in cm and the weight in kg of 100 biological women and 100 biological men. On average, women are slightly smaller and lighter than men. Can we use this dataset to predict whether a person is a biological male or female based on their height and weight? Let's try that by applying KNN."
      ]
    },
    {
      "cell_type": "markdown",
      "source": [
        "##### *Data exploration*"
      ],
      "metadata": {
        "id": "mFy_TSqElTr1"
      }
    },
    {
      "cell_type": "markdown",
      "metadata": {
        "id": "kWgS-gPt4rtE"
      },
      "source": [
        "We read the csv file `\"height_weight_sex.csv\"`. Note that this file uses a comma as a separator, so we can just pass the name of the file to Pandas function `read_csv`:"
      ]
    },
    {
      "cell_type": "code",
      "execution_count": null,
      "metadata": {
        "id": "ROT30d1-4Gl6"
      },
      "outputs": [],
      "source": [
        "df = pd.read_csv(\"height_weight_sex.csv\")\n",
        "df.head()"
      ]
    },
    {
      "cell_type": "markdown",
      "metadata": {
        "id": "bRzhOJOqh4ck"
      },
      "source": [
        "Using the `head` method, we print out the first 5 records from our dataframe. As you already know, a dataframe is simply a table. The columns are the **features**, the rows are the data points or **examples**. In this case, the last column contains the **labels**. To know how many data points are in our dataset, we can just apply function `len` to our `DataFrame` object:"
      ]
    },
    {
      "cell_type": "code",
      "source": [
        "len(df)  # length of dataframe = number of rows!"
      ],
      "metadata": {
        "id": "2he-jXL1iGTG"
      },
      "execution_count": null,
      "outputs": []
    },
    {
      "cell_type": "markdown",
      "metadata": {
        "id": "W-9aXOLb5Ft3"
      },
      "source": [
        "The first 5 examples contain data from females. We can see this by the label `'f'`. Males probably get the label `'m'`. Let's check that by calling method `unique` on column `df.sex`:"
      ]
    },
    {
      "cell_type": "code",
      "execution_count": null,
      "metadata": {
        "id": "pGEV6tslli1e"
      },
      "outputs": [],
      "source": [
        "df.sex.unique()  # method 'unique' returns unique values"
      ]
    },
    {
      "cell_type": "markdown",
      "source": [
        "Methode `info` gives an overview of the DataFrame we're dealing with:"
      ],
      "metadata": {
        "id": "-DHflpFSge22"
      }
    },
    {
      "cell_type": "code",
      "source": [
        "df.info()"
      ],
      "metadata": {
        "id": "mqdHJpDugjKV"
      },
      "execution_count": null,
      "outputs": []
    },
    {
      "cell_type": "markdown",
      "metadata": {
        "id": "HcAMl3Bt5dHF"
      },
      "source": [
        "By invoking method `describe` we can retrieve the statistics of the numeric features:"
      ]
    },
    {
      "cell_type": "code",
      "execution_count": null,
      "metadata": {
        "id": "s7zkt0QgleAZ"
      },
      "outputs": [],
      "source": [
        "df.describe()"
      ]
    },
    {
      "cell_type": "markdown",
      "metadata": {
        "id": "ZL5mDw9B5pAt"
      },
      "source": [
        "To know the average height and weight of males and females separately, we can use method `groupby`, just like in SQL:"
      ]
    },
    {
      "cell_type": "code",
      "execution_count": null,
      "metadata": {
        "id": "yVleX77I54oA"
      },
      "outputs": [],
      "source": [
        "df.groupby('sex').mean()  # method mean calculates the average"
      ]
    },
    {
      "cell_type": "markdown",
      "metadata": {
        "id": "fHhJadZY8Fbe"
      },
      "source": [
        "Indeed, we see that the females in the dataset are, on average, smaller and lighter than the males."
      ]
    },
    {
      "cell_type": "markdown",
      "metadata": {
        "id": "_MAl2MGZ6JUK"
      },
      "source": [
        "Let's visualize the data in a scatterplot, giving the data points a color based on the labels. We are going to color data points corresponding to men yellow, and data points corresponding to women green. In order to be able to reuse the code, we define a function:"
      ]
    },
    {
      "cell_type": "code",
      "execution_count": null,
      "metadata": {
        "id": "n8D6n1TZ4Q08"
      },
      "outputs": [],
      "source": [
        "def scatter_plot(df):\n",
        "    _, ax = plt.subplots()\n",
        "    df.loc[df.sex=='m', :].plot.scatter(x='height', y='weight', c='y', ax=ax);  # men: yellow\n",
        "    df.loc[df.sex=='f', :].plot.scatter(x='height', y='weight', c='g', ax=ax);  # women: green\n",
        "    plt.grid()\n",
        "    return ax\n",
        "\n",
        "scatter_plot(df);"
      ]
    },
    {
      "cell_type": "markdown",
      "metadata": {
        "id": "40jlN0bQALBz"
      },
      "source": [
        "We see that there are indeed 2 distinct groups. Although there is some overlap between the two groups, they can be separated. So it is possible to predict from this dataset whether someone is female or male when we know their height and weight, and we can do that accurately, despite some possible mistakes because of the overlap."
      ]
    },
    {
      "cell_type": "markdown",
      "metadata": {
        "id": "pP2X6Uxq8J5Y"
      },
      "source": [
        "The interface of the `KNeighborsClassifier` class is the same as that of other Scikit-Learn classes. For convenience, we are going to put the features and labels into NumPy arrays `X` and `y`, respectively. However, we still need to convert the labels to integers because the algorithm can only perform calculations using numbers. We do that by replacing label `'f'` by `1` and label `'m'` by `0`. This is called **feature encoding**."
      ]
    },
    {
      "cell_type": "code",
      "execution_count": null,
      "metadata": {
        "id": "Dr4T3wm24x4I"
      },
      "outputs": [],
      "source": [
        "X = df[['height', 'weight']].values  # put features height and weight into matrix X\n",
        "y = (df.sex==\"f\").values.astype(int)  # convert column df.sex containing the labels to boolean vector y"
      ]
    },
    {
      "cell_type": "markdown",
      "metadata": {
        "id": "MASmgsgT9D3w"
      },
      "source": [
        "With NumPy and Pandas, we can perform operations on entire arrays without using loops! As we already know, these are called *vectorized* expressions."
      ]
    },
    {
      "cell_type": "markdown",
      "source": [
        "##### *Model training*"
      ],
      "metadata": {
        "id": "ONVvvS7Blarw"
      }
    },
    {
      "cell_type": "markdown",
      "metadata": {
        "id": "KoaD70-f9rqr"
      },
      "source": [
        "Now we are ready to apply the KNN algorithm. First, we need to instantiate class `KNeighborsClassifier`. As we explained above, we need to specify K, as it is a **hyperparameter**. We do that by passing input parameter `n_neighbors`, which we set to 5:"
      ]
    },
    {
      "cell_type": "code",
      "execution_count": null,
      "metadata": {
        "id": "TLWNdXFR4sMj"
      },
      "outputs": [],
      "source": [
        "model = KNeighborsClassifier(n_neighbors=5)  # K = 5\n",
        "model.fit(X, y)"
      ]
    },
    {
      "cell_type": "markdown",
      "metadata": {
        "id": "YC_v9Lbx-kOl"
      },
      "source": [
        "Recall that we do not have to train a model when we apply KNN. As we have to pass our data to the `KNeighborsClassifier` object, we still need to call method `fit`, which is usually invoked to train a model."
      ]
    },
    {
      "cell_type": "markdown",
      "source": [
        "##### *Model evaluation*"
      ],
      "metadata": {
        "id": "XHVIqeSflfEC"
      }
    },
    {
      "cell_type": "markdown",
      "metadata": {
        "id": "LEJYsMsA_BNv"
      },
      "source": [
        "We can also evaluate our model by calling method `score`. We are dealing with classification here, so we get the **accuracy** of the model. This is simply the number of correctly classified data points divided by the total number of points:"
      ]
    },
    {
      "cell_type": "code",
      "execution_count": null,
      "metadata": {
        "id": "-OFFuyvp-buv"
      },
      "outputs": [],
      "source": [
        "model.score(X, y)  # calculates the accuracy"
      ]
    },
    {
      "cell_type": "markdown",
      "metadata": {
        "id": "fv-EkDKY_aTJ"
      },
      "source": [
        "95.5% of the data points are correctly classified by the KNN algorithm! Because of the overlap between the female and male data points, the model does not perform 100% accurately."
      ]
    },
    {
      "cell_type": "markdown",
      "source": [
        "In case of imbalanced datasets, the accuracy may give a wrong impression of the model's performance. Suppose you want to test if people are infected with COVID. If in reality only 0.1 % of the population is infected, then the following test has an accuracy of 99.9%, although it is useless!\n",
        "\n",
        "```python\n",
        "def is_infected(*symptoms):\n",
        "    return False\n",
        "```\n"
      ],
      "metadata": {
        "id": "nfKvWo5LoggE"
      }
    },
    {
      "cell_type": "markdown",
      "source": [
        "A **confusion matrix** may give us a better idea of how well the model performs, as it gives an overview of:\n",
        "- *True Positives* (TP): the number of samples labeled as 1 which have a predicted label of 1;\n",
        "- *True Negatives* (TN): the number of samples labeled as 0 which have a predicted label of 0;\n",
        "- *False Positives* (FP): the number of samples labeled as 0 which have a predicted label of 1;\n",
        "- *False Negatives* (FN): the number of samples labeled as 1 which have a predicted label of 0."
      ],
      "metadata": {
        "id": "ve3FBNcGpuq6"
      }
    },
    {
      "cell_type": "markdown",
      "source": [
        "![image.png](data:image/png;base64,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)"
      ],
      "metadata": {
        "id": "LD_FBNC7q_GK"
      }
    },
    {
      "cell_type": "markdown",
      "source": [
        "In case of our simple COVID test, we get the following confusion matrix:"
      ],
      "metadata": {
        "id": "w2-ezdd6rFe8"
      }
    },
    {
      "cell_type": "markdown",
      "source": [
        "![image.png](data:image/png;base64,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)"
      ],
      "metadata": {
        "id": "tQhjeki8vruW"
      }
    },
    {
      "cell_type": "markdown",
      "source": [
        "Now we clearly see our test is useless indeed as we cannot identify any of the infected persons! In other words, we have zero True Positives and too much False Negatives!"
      ],
      "metadata": {
        "id": "t1B6tm47vtpv"
      }
    },
    {
      "cell_type": "markdown",
      "source": [
        "Using Scikit-Learn, we can easily plot a confusion matrix for our KNN model:"
      ],
      "metadata": {
        "id": "f3pHpgvLwiKV"
      }
    },
    {
      "cell_type": "code",
      "source": [
        "from sklearn.metrics import ConfusionMatrixDisplay\n",
        "\n",
        "ConfusionMatrixDisplay.from_estimator(model, X, y,\n",
        "                                      display_labels=('m', 'f'),  # labels for 0 and 1\n",
        "                                      colorbar=False);  # no colorbar"
      ],
      "metadata": {
        "id": "UuQ8CJeUxRSz"
      },
      "execution_count": null,
      "outputs": []
    },
    {
      "cell_type": "markdown",
      "source": [
        "That looks good! The dataset is balanced and the TP and TN are very high!"
      ],
      "metadata": {
        "id": "KDDYhUNty0Yk"
      }
    },
    {
      "cell_type": "markdown",
      "source": [
        "Using function `classification_report`, we are able to evaluate the model easily using other **evaluation metrics** such as precision and recall. To do use this function, we need both the actual labels `y` and the predicted labels `y_pred`, which are returned by method `predict`:"
      ],
      "metadata": {
        "id": "mPgrDrisi0tY"
      }
    },
    {
      "cell_type": "code",
      "source": [
        "y_pred = model.predict(X)"
      ],
      "metadata": {
        "id": "HiV99gBcjWQ5"
      },
      "execution_count": null,
      "outputs": []
    },
    {
      "cell_type": "markdown",
      "source": [
        "Now we can pass both `y` and `y_pred` to function `classification_report`:"
      ],
      "metadata": {
        "id": "58aItnmljcDB"
      }
    },
    {
      "cell_type": "code",
      "source": [
        "from sklearn.metrics import classification_report\n",
        "\n",
        "print(classification_report(y_true=y, y_pred=y_pred))"
      ],
      "metadata": {
        "id": "WeGmhzXgjFd6"
      },
      "execution_count": null,
      "outputs": []
    },
    {
      "cell_type": "markdown",
      "source": [
        "Precision and recall are virtually the same because the number of false positives and the number of false negatives are almost the same, as is seen on the confusion matrix. This explains the high f1-score, which is the harmonic mean of both."
      ],
      "metadata": {
        "id": "FgRqy74bjnKc"
      }
    },
    {
      "cell_type": "markdown",
      "source": [
        "##### *Making predictions*"
      ],
      "metadata": {
        "id": "d9KOjzfhljjJ"
      }
    },
    {
      "cell_type": "markdown",
      "metadata": {
        "id": "CkCdbyi-BJYc"
      },
      "source": [
        "Method `predict` can also be used to predict the labels of new data. As an example, let's try to **predict** whether the following persons are biological males or females:\n",
        "- person of 165 cm and 55 kg\n",
        "- person of 185 cm and 70 kg\n",
        "- person of 175 cm and 65 kg"
      ]
    },
    {
      "cell_type": "code",
      "execution_count": null,
      "metadata": {
        "id": "PCLoEif15Zjf"
      },
      "outputs": [],
      "source": [
        "X_new = np.array([[165, 55],   # person of 165cm and 55kg\n",
        "                  [185, 70],   # person of 185cm and 70kg\n",
        "                  [175, 65]])  # person of 175cm and 65kg\n",
        "model.predict(X_new)"
      ]
    },
    {
      "cell_type": "markdown",
      "metadata": {
        "id": "ry9urH9KBoxJ"
      },
      "source": [
        "The first 2 persons are pretty clear. However, the third person is questionable. To see why the model chooses \"male\", we create the scatterplot again, and now add the 3 new data points:"
      ]
    },
    {
      "cell_type": "code",
      "execution_count": null,
      "metadata": {
        "id": "Ima6vuHz5m4D"
      },
      "outputs": [],
      "source": [
        "scatter_plot(df)\n",
        "plt.plot(X_new[:, 0], X_new[:, 1], 'ro');  # new points are red"
      ]
    },
    {
      "cell_type": "markdown",
      "metadata": {
        "id": "SE5hR0fJCMF6"
      },
      "source": [
        "Since we have taken K = 5, the KNN algorithm looks at the 5 points closest to a new point. The third person corresponds to the middle red point. Indeed, of the 5 closest points, 4 are yellow and only 1 is green, so the new point is also given a yellow color, which corresponds to label `'m'`."
      ]
    },
    {
      "cell_type": "markdown",
      "source": [
        "##### *The optimal K value*"
      ],
      "metadata": {
        "id": "lQVFizvnlnUQ"
      }
    },
    {
      "cell_type": "markdown",
      "source": [
        "We've arbitrarily chosen to set K to 5. In general, assigning a higher value to K may lead to **underfitting**, whereas the lower the value assigned to K, the more likely the model will suffer from **overfitting**. So how do we get to know the optimal value for K? To answer this question, we will optimize its value by evaluating a range of K values using a validation set!"
      ],
      "metadata": {
        "id": "5PnoeTU_lstm"
      }
    },
    {
      "cell_type": "markdown",
      "source": [
        "We use Scikit-Learn function `train_test_split` to divide the dataset in two subsets:"
      ],
      "metadata": {
        "id": "MsOgkEcqLRFx"
      }
    },
    {
      "cell_type": "code",
      "source": [
        "from sklearn.model_selection import train_test_split\n",
        "\n",
        "X_train, X_val, y_train, y_val = train_test_split(X, y, train_size=0.5, random_state=1)\n",
        "\n",
        "print('training set:')\n",
        "print(X_train.shape)\n",
        "print(y_train.shape)\n",
        "\n",
        "print('validation set:')\n",
        "print(X_val.shape)\n",
        "print(y_val.shape)"
      ],
      "metadata": {
        "id": "X8FCqnoVm67K"
      },
      "execution_count": null,
      "outputs": []
    },
    {
      "cell_type": "markdown",
      "source": [
        "We define an array of K values ranging from 1 to 21. As KNN adopts the most frequent label of the nearest neighbors, it is helpful to choose K to be an odd number as this avoids tied votes in case of binary classification. Using a `for`-loop these values are evaluated on both the training and validation set. The resulting accuracies are stored in variables `acc_train` and `acc_val`:"
      ],
      "metadata": {
        "id": "5OFGSHnuADK9"
      }
    },
    {
      "cell_type": "code",
      "source": [
        "Ks = np.arange(start=1, stop=23, step=2)  # 23 is not included!\n",
        "\n",
        "acc_train = np.zeros(len(Ks))\n",
        "acc_val = np.zeros(len(Ks))\n",
        "for i, K in enumerate(Ks):\n",
        "    model = KNeighborsClassifier(K)\n",
        "    model.fit(X_train, y_train)\n",
        "    acc_train[i] = model.score(X_train, y_train)\n",
        "    acc_val[i] = model.score(X_val, y_val)"
      ],
      "metadata": {
        "id": "fsr8ICmSm0JX"
      },
      "execution_count": null,
      "outputs": []
    },
    {
      "cell_type": "markdown",
      "source": [
        "Plotting the accuracies for both training and validation set as a function of the K value:"
      ],
      "metadata": {
        "id": "qeyjxCt7Af6Q"
      }
    },
    {
      "cell_type": "code",
      "source": [
        "plt.plot(Ks, acc_train, 'b.-',\n",
        "         Ks, acc_val, 'r.-');\n",
        "plt.grid();\n",
        "plt.xlabel('K');\n",
        "plt.ylabel('accuracy');\n",
        "plt.legend(['training set', 'validation set']);"
      ],
      "metadata": {
        "id": "CisyrDUJnucA"
      },
      "execution_count": null,
      "outputs": []
    },
    {
      "cell_type": "markdown",
      "source": [
        "The optimal value for K is derived from the validation set accuracies. From the plot it is clear that K=5 is indeed the optimal value. Because of the random splitting of the dataset, results may differ, although it is seen that choosing a higher K value results in a less accurate model."
      ],
      "metadata": {
        "id": "EvvZcm7fAovh"
      }
    },
    {
      "cell_type": "code",
      "source": [
        "K_opt = Ks[np.argmax(acc_val)]\n",
        "print(\"optimal K:\", K_opt)"
      ],
      "metadata": {
        "id": "00H2biEfoBmY"
      },
      "execution_count": null,
      "outputs": []
    },
    {
      "cell_type": "markdown",
      "metadata": {
        "id": "H7DEA5a75N6R"
      },
      "source": [
        "#### Example 2"
      ]
    },
    {
      "cell_type": "markdown",
      "metadata": {
        "id": "jLqd_K_ADn_1"
      },
      "source": [
        "In a second example, we are going to predict whether or not a person who is on a social networking site will respond to an ad displayed on that site. In other words, we are going to predict whether a person will purchase the product or ignore the ad. To predict that, we use that person's age and estimated salary.\n",
        "\n",
        "This is another example of *binary classification*, because we have 2 classes: persons who purchase the product, and persons who do not purchase the product. As it is a classification problem, we can again apply the KNN algorithm."
      ]
    },
    {
      "cell_type": "markdown",
      "source": [
        "##### *Data exploration*"
      ],
      "metadata": {
        "id": "F9DNwlDJPoxO"
      }
    },
    {
      "cell_type": "markdown",
      "metadata": {
        "id": "gPEw--0qEp2K"
      },
      "source": [
        "The dataset we are going to use is stored in file `\"Social_Network_Ads.csv\"`. Read that file and display the first 5 rows:"
      ]
    },
    {
      "cell_type": "code",
      "execution_count": null,
      "metadata": {
        "id": "U0f4WiZxK-j4"
      },
      "outputs": [],
      "source": []
    },
    {
      "cell_type": "markdown",
      "source": [
        "Get info about the dataframe:"
      ],
      "metadata": {
        "id": "AsUf-pxYF9Z0"
      }
    },
    {
      "cell_type": "code",
      "source": [],
      "metadata": {
        "id": "6Vvw2zlOGGHy"
      },
      "execution_count": null,
      "outputs": []
    },
    {
      "cell_type": "markdown",
      "metadata": {
        "id": "rQETolU4FAfU"
      },
      "source": [
        "Column `\"User Id\"` contains no information and column `\"Gender\"` is not going to be used. So the features are `\"Age\"` and `\"EstimatedSalary\"`, and the label is `\"Purchased\"`. Check that that last column is effectively made up of zeros and ones:"
      ]
    },
    {
      "cell_type": "code",
      "execution_count": null,
      "metadata": {
        "id": "wADbVzmSFX1t"
      },
      "outputs": [],
      "source": []
    },
    {
      "cell_type": "markdown",
      "metadata": {
        "id": "pzR_uoO9FbJe"
      },
      "source": [
        "Now create a scatterplot and color the points corresponding to persons who purchased the product in green (`'g'`) and the points corresponding to persons who did not purchase the product in red (`'r'`):"
      ]
    },
    {
      "cell_type": "code",
      "execution_count": null,
      "metadata": {
        "id": "CVHBfQY2MeT0"
      },
      "outputs": [],
      "source": []
    },
    {
      "cell_type": "markdown",
      "source": [
        "##### *Model training*"
      ],
      "metadata": {
        "id": "RQ_TjBfuPtY2"
      }
    },
    {
      "cell_type": "markdown",
      "metadata": {
        "id": "HMV5XyspGHwV"
      },
      "source": [
        "Put the **features** in NumPy array `X` and the **labels** in NumPy array `y`:"
      ]
    },
    {
      "cell_type": "code",
      "execution_count": null,
      "metadata": {
        "id": "jHEuYeSz6Qtv"
      },
      "outputs": [],
      "source": []
    },
    {
      "cell_type": "markdown",
      "metadata": {
        "id": "uUCkH1FfGW1d"
      },
      "source": [
        "Now apply the KNN algorithm using K = 5:"
      ]
    },
    {
      "cell_type": "code",
      "execution_count": null,
      "metadata": {
        "id": "JeIz4DyW6Qiy"
      },
      "outputs": [],
      "source": []
    },
    {
      "cell_type": "markdown",
      "source": [
        "##### *Model evaluation*"
      ],
      "metadata": {
        "id": "-PN336ZPPzwl"
      }
    },
    {
      "cell_type": "markdown",
      "metadata": {
        "id": "eSWJXeiTGbcQ"
      },
      "source": [
        "What is the model's **accuracy**?"
      ]
    },
    {
      "cell_type": "code",
      "execution_count": null,
      "metadata": {
        "id": "QSpFMH4AGeDy"
      },
      "outputs": [],
      "source": []
    },
    {
      "cell_type": "markdown",
      "source": [
        "Plot the **confusion matrix**!"
      ],
      "metadata": {
        "id": "VTNz_YcxzWOE"
      }
    },
    {
      "cell_type": "code",
      "source": [],
      "metadata": {
        "id": "45KiBi1Yzggi"
      },
      "execution_count": null,
      "outputs": []
    },
    {
      "cell_type": "markdown",
      "source": [
        "Print the corresponding **classification report**:"
      ],
      "metadata": {
        "id": "oME38uZ4FiQp"
      }
    },
    {
      "cell_type": "code",
      "source": [],
      "metadata": {
        "id": "iFF5cEyZFesX"
      },
      "execution_count": null,
      "outputs": []
    },
    {
      "cell_type": "markdown",
      "source": [
        "##### *Making predictions*"
      ],
      "metadata": {
        "id": "CPnzjO_9P43B"
      }
    },
    {
      "cell_type": "markdown",
      "metadata": {
        "id": "2YLhirPsGgFH"
      },
      "source": [
        "Now **predict** whether or not the following people will buy the product:\n",
        "- person aged 25 with about 60 000 as salary\n",
        "- Person aged 40 with about 85 000 as salary\n",
        "- Person aged 55 with about 100 000 as salary\n"
      ]
    },
    {
      "cell_type": "code",
      "execution_count": null,
      "metadata": {
        "id": "6O8Wm9wj7Dvp"
      },
      "outputs": [],
      "source": []
    },
    {
      "cell_type": "markdown",
      "metadata": {
        "id": "zjc7qjWpG64b"
      },
      "source": [
        "Redraw the scatterplot and add the new data points in blue (`'b'`). Check if the calculated labels are correct. Recall we took the 5 closest points (K = 5)!"
      ]
    },
    {
      "cell_type": "code",
      "execution_count": null,
      "metadata": {
        "id": "-LBd0Re-7qNG"
      },
      "outputs": [],
      "source": []
    },
    {
      "cell_type": "markdown",
      "source": [
        "##### *The optimal K value*"
      ],
      "metadata": {
        "id": "cfRUcCDzP95h"
      }
    },
    {
      "cell_type": "markdown",
      "source": [
        "Finally, optimize the K value."
      ],
      "metadata": {
        "id": "z415RDkCGMDk"
      }
    },
    {
      "cell_type": "code",
      "source": [],
      "metadata": {
        "id": "4OXO60yMGgsE"
      },
      "execution_count": null,
      "outputs": []
    },
    {
      "cell_type": "markdown",
      "source": [
        "### Logistic Regression"
      ],
      "metadata": {
        "id": "VjAdZDDzmAHB"
      }
    },
    {
      "cell_type": "markdown",
      "source": [
        "Although logistic regression can be seen as a regression technique for binary targets, as the name suggests, it is actually used for solving **binary classification** problems. It is also a linear model, so the `LogisticRegression` class is imported from Scikit-Learn's `linear_model` module:"
      ],
      "metadata": {
        "id": "4_Hv4Orlmrlv"
      }
    },
    {
      "cell_type": "code",
      "source": [
        "from sklearn.linear_model import LogisticRegression"
      ],
      "metadata": {
        "id": "FFThRUuTnSIp"
      },
      "execution_count": null,
      "outputs": []
    },
    {
      "cell_type": "markdown",
      "source": [
        "To explain how the algorithm works, we make use again of the thermostat dataset that we introduced in the previous notebook about machine learning. Because this dataset is one-dimensional, the logistic regression algorithm will separate the two classes using a single *threshold* value for the temperature.\n",
        "\n",
        "To illustrate how logistic regression works when a higher-dimensional dataset is involved, we will apply the algorithm to the two previous datasets consisting of two features and one target. In this way we will be able to visualize the **separating straight line** derived by the logistic regression algorithm on a 2D plot. This separating straight line is also called the *decision boundary*.\n",
        "\n",
        "Note that Logistic regression may also be applied to solve n-dimensional problems in which case the algorithm finds a separating *hyperplane*."
      ],
      "metadata": {
        "id": "ngeqY_IxRjHh"
      }
    },
    {
      "cell_type": "markdown",
      "source": [
        "#### Example 1"
      ],
      "metadata": {
        "id": "L2dHluIRnxDS"
      }
    },
    {
      "cell_type": "markdown",
      "source": [
        "We re-create the thermostat dataset containing temperature values and corresponding labels indicating whether the heating is on or off:"
      ],
      "metadata": {
        "id": "iGIRezkVcqVp"
      }
    },
    {
      "cell_type": "code",
      "source": [
        "temperature = [17.1, 15.6, 23.1, 19.8, 12.9, 20.3, 14.7, 16.2]\n",
        "heating = ['off', 'on', 'off', 'off', 'on', 'off', 'on', 'on']\n",
        "table = pd.DataFrame(dict(temperature=temperature, heating=heating))\n",
        "table"
      ],
      "metadata": {
        "id": "s4kaLBnakclf"
      },
      "execution_count": null,
      "outputs": []
    },
    {
      "cell_type": "markdown",
      "source": [
        "Let's plot the data:"
      ],
      "metadata": {
        "id": "1M3k5FCKUbka"
      }
    },
    {
      "cell_type": "code",
      "source": [
        "def plot_temperature_heating(table):\n",
        "    '''\n",
        "    plots heating vs temperature\n",
        "    table: Pandas DataFrame with columns 'temperature' and 'heating'\n",
        "    returns: axes\n",
        "    '''\n",
        "    _, ax = plt.subplots(1, 1, figsize=(8, 2))\n",
        "    on = table.heating == 'on'\n",
        "    off = ~on\n",
        "    plt.plot(table[on].temperature, np.ones(on.sum()), 'go');\n",
        "    plt.plot(table[off].temperature, np.zeros(off.sum()), 'ro');\n",
        "    plt.xlabel('temperature');\n",
        "    plt.ylabel('heating');\n",
        "    plt.yticks((0, 1));\n",
        "    ax.set_yticklabels(('off', 'on'))\n",
        "    plt.grid();\n",
        "    return ax"
      ],
      "metadata": {
        "id": "ALGDSwrqUx8h"
      },
      "execution_count": null,
      "outputs": []
    },
    {
      "cell_type": "code",
      "source": [
        "plot_temperature_heating(table);"
      ],
      "metadata": {
        "id": "uz-ENKMYVQmL"
      },
      "execution_count": null,
      "outputs": []
    },
    {
      "cell_type": "markdown",
      "source": [
        "As we already know, training the model is done by passing feature `X` and labels `y` to the `fit` method:"
      ],
      "metadata": {
        "id": "qDWaLoU4T1XB"
      }
    },
    {
      "cell_type": "code",
      "source": [
        "X, y = table[['temperature']].values, (table.heating=='on').values  # feature, labels\n",
        "model = LogisticRegression(penalty=None)  # instantiate\n",
        "model.fit(X, y)  # fit data"
      ],
      "metadata": {
        "id": "sl61DnSC7ZPk"
      },
      "execution_count": null,
      "outputs": []
    },
    {
      "cell_type": "markdown",
      "source": [
        "Using method `predict` it is possible to predict whether the heating is on or off for any new value:"
      ],
      "metadata": {
        "id": "8B69zVb0UdaO"
      }
    },
    {
      "cell_type": "code",
      "source": [
        "new_temperature = 17\n",
        "model.predict([[new_temperature]]).item()  # predict label for new temperature value"
      ],
      "metadata": {
        "id": "PwO6ek4WUoXP"
      },
      "execution_count": null,
      "outputs": []
    },
    {
      "cell_type": "markdown",
      "source": [
        "Note that `new_temperature` is put between double square brackets because method `predict` only accepts 2D data structures as input, such as a Pandas DataFrame or a 2D array."
      ],
      "metadata": {
        "id": "7XDHjWSTUyQs"
      }
    },
    {
      "cell_type": "markdown",
      "source": [
        "So the `LogisticRegression` class is instantiated, after which method `fit` is invoked to train the model. The `predict` method is called to get the label for the new temperature value. The accuracy is 100% for this model as the data points are perfectly separable:"
      ],
      "metadata": {
        "id": "0UhU12NegOb4"
      }
    },
    {
      "cell_type": "code",
      "source": [
        "model.score(X, y)  # accuracy"
      ],
      "metadata": {
        "id": "wxaYstt8d-Ia"
      },
      "execution_count": null,
      "outputs": []
    },
    {
      "cell_type": "markdown",
      "source": [
        "Why does the logistic regression model predict that the heating is off when the temperature is 17°C? Let's check the threshold determined by the algorithm:"
      ],
      "metadata": {
        "id": "Xek5XeK6UZkV"
      }
    },
    {
      "cell_type": "code",
      "source": [
        "threshold = -model.intercept_.item() / model.coef_.item()  # determine threshold\n",
        "print(f'threshold is {threshold}°C')"
      ],
      "metadata": {
        "id": "g5hmowUdUYS-"
      },
      "execution_count": null,
      "outputs": []
    },
    {
      "cell_type": "markdown",
      "source": [
        "The threshold is calculated using the model **parameters**, in this case an intercept and a coefficient."
      ],
      "metadata": {
        "id": "TWu6K42WWL1p"
      }
    },
    {
      "cell_type": "markdown",
      "source": [
        "The model applies a linear transformation to the input feature, in this case temperature $T$:\n",
        "\n",
        "> $f = aT + b$\n",
        "\n",
        "Parameters $a$ and $b$ are optimized by the algorithm by minimizing an error function or **loss function**, which quantifies the difference between true and predicted labels. This optimization is the actual **training** of the model.\n",
        "\n",
        "Here, the transformation expresses the equation of a straight-line where parameter $a$ is the slope and parameter $b$ is the intercept. The threshold is found by evaluating $f=0$, which yields $-b/a$.\n",
        "\n",
        "The transformed variable $f$ is finally converted to a number between 0 and 1 by applying the logistic or **sigmoid** function $\\sigma$:\n",
        "\n",
        "> $p = \\sigma(f) = \\frac{1}{1+\\exp(-f)}$\n",
        "\n",
        "Variable $p$ may be interpreted as the probability the label is equal to 1, or in this example, the probability that the heating is 'on'. The label is thus found by applying the `round` function to this probability value: if $p >= 0.5$, then the heating is 'on', otherwise it is 'off'."
      ],
      "metadata": {
        "id": "wEZ9cZDXhAjR"
      }
    },
    {
      "cell_type": "markdown",
      "source": [
        "Let's visualize the derived threshold (blue vertical line) and the corresponding sigmoid function (black dashed line), which shows us the probability that the heating is on for a given temperature:"
      ],
      "metadata": {
        "id": "1Cyj4z5aju0s"
      }
    },
    {
      "cell_type": "code",
      "source": [
        "ax = plot_temperature_heating(table);\n",
        "sigmoid = lambda f: 1 / (1 + np.exp(-f))\n",
        "f = lambda x: model.coef_.item() * x + model.intercept_.item()\n",
        "x = np.linspace(12, 24, 1000)\n",
        "xl, yl = ax.get_xlim(), ax.get_ylim()\n",
        "ax.plot(x, sigmoid(f(x)), 'k--');\n",
        "ax.plot(threshold * np.ones(2), [-1, 2], 'b-');\n",
        "ax.plot(new_temperature, 0, 'bo');  # new data point\n",
        "ax.set_xlim(xl); ax.set_ylim(yl);"
      ],
      "metadata": {
        "id": "lnyL5TD0aK4T"
      },
      "execution_count": null,
      "outputs": []
    },
    {
      "cell_type": "markdown",
      "source": [
        "We see the logistic regression model separates both classes of data points perfectly indeed. The new datapoint (blue dot) lies to the right of the blue line as its temperature value of 17°C is greater than the threshold value of 16.682°C. That is why the model predicts the heating is off in that case."
      ],
      "metadata": {
        "id": "NdPBbh70u8ba"
      }
    },
    {
      "cell_type": "markdown",
      "source": [
        "#### Example 2"
      ],
      "metadata": {
        "id": "_yT9xXb7q9HG"
      }
    },
    {
      "cell_type": "markdown",
      "source": [
        "Let's look again at the dataset containing the height in cm and the weight in kg of 100 biological women and 100 biological men. We assign the **features** to NumPy array `X` and the **labels** to NumPy vector `y` after converting them to integers:"
      ],
      "metadata": {
        "id": "w0dyTUzBrVFR"
      }
    },
    {
      "cell_type": "code",
      "source": [
        "df = pd.read_csv(\"height_weight_sex.csv\")\n",
        "X = df[['height', 'weight']].values  # put features height and weight into matrix X\n",
        "y = (df.sex==\"f\").values.astype(int)  # convert column df.sex containing the labels to boolean vector y"
      ],
      "metadata": {
        "id": "0KPSZfklnFRu"
      },
      "execution_count": null,
      "outputs": []
    },
    {
      "cell_type": "markdown",
      "source": [
        "As we already know, the interface of class `LogisticRegression` is the same as for the other Scikit-Learn classes we've already discussed:"
      ],
      "metadata": {
        "id": "TC2_JyjIr4w8"
      }
    },
    {
      "cell_type": "code",
      "source": [
        "model = LogisticRegression(penalty=None)\n",
        "model.fit(X, y)"
      ],
      "metadata": {
        "id": "pOZNdAAXnadA"
      },
      "execution_count": null,
      "outputs": []
    },
    {
      "cell_type": "markdown",
      "source": [
        "Note that we set `penalty` to `None` as we don't want any regularization, which are techniques to overcome overfitting, and will be discussed later."
      ],
      "metadata": {
        "id": "Y5bZiHE2sM13"
      }
    },
    {
      "cell_type": "markdown",
      "source": [
        "The model's **accuracy** is 96%, which is slightly better than that of the KNN model:"
      ],
      "metadata": {
        "id": "jmQyLXddsexc"
      }
    },
    {
      "cell_type": "code",
      "source": [
        "model.score(X, y)"
      ],
      "metadata": {
        "id": "GVAzeI7Unh8n"
      },
      "execution_count": null,
      "outputs": []
    },
    {
      "cell_type": "markdown",
      "source": [
        "The **confusion matrix**:"
      ],
      "metadata": {
        "id": "jUBZvjXbsmvd"
      }
    },
    {
      "cell_type": "code",
      "source": [
        "from sklearn.metrics import ConfusionMatrixDisplay\n",
        "\n",
        "ConfusionMatrixDisplay.from_estimator(model, X, y,\n",
        "                                      display_labels=('m', 'f'),  # labels for 0 and 1\n",
        "                                      colorbar=False);  # no colorbar"
      ],
      "metadata": {
        "id": "ZOw9DAP5nzdn"
      },
      "execution_count": null,
      "outputs": []
    },
    {
      "cell_type": "markdown",
      "source": [
        "The **predictions** for the three new persons that do not belong to the trainingset:"
      ],
      "metadata": {
        "id": "EkvkuvVcsve5"
      }
    },
    {
      "cell_type": "code",
      "source": [
        "X_new = np.array([[165, 55],   # person of 165cm and 55kg\n",
        "                  [185, 70],   # person of 185cm and 70kg\n",
        "                  [175, 65]])  # person of 175cm and 65kg\n",
        "model.predict(X_new)"
      ],
      "metadata": {
        "id": "veU-1ORdnqeB"
      },
      "execution_count": null,
      "outputs": []
    },
    {
      "cell_type": "markdown",
      "source": [
        "In fact, the logistic regression model predicts the **probability** that a sample belongs to class `1`:"
      ],
      "metadata": {
        "id": "JV_pSf69RWR9"
      }
    },
    {
      "cell_type": "code",
      "source": [
        "p = model.predict_proba(X_new)  # returns the probabilities\n",
        "np.round(p, 2)  # round to two decimals"
      ],
      "metadata": {
        "id": "T8enEQgPRlR3"
      },
      "execution_count": null,
      "outputs": []
    },
    {
      "cell_type": "markdown",
      "source": [
        "The first and second column is the probability that the sample has label `0` and `1`, respectively. The total probability, which is the sum of the rows, is equal to 1, because there is a 100% probability that a sample belongs to either class `0` or `1`. To predict the label of a sample, we simply select the column having the largest probability. And that is exactly what method `predict` does!"
      ],
      "metadata": {
        "id": "AqN6g5SdSAVA"
      }
    },
    {
      "cell_type": "markdown",
      "source": [
        "It's interesting to see that the logistic regression model predicts the third person to be female, while the KNN model predicted this person to be male, although the probabilities are very close to 50%, which implies the model is not very sure. To see why, let's create the scatterplot again, add the 3 new data points, and plot the separating straight line derived by the logistic regression model."
      ],
      "metadata": {
        "id": "odilFCjaTBgE"
      }
    },
    {
      "cell_type": "markdown",
      "source": [
        "First we need the **parameters**. In this case, there are two coefficients or **weights** $w_1$ and $w_2$, and an intercept $b$, also called **bias**:"
      ],
      "metadata": {
        "id": "PhWXRiSHa2ic"
      }
    },
    {
      "cell_type": "code",
      "source": [
        "w, b = model.coef_[0].flatten(), model.intercept_.item()  # weights w and bias b\n",
        "w, b"
      ],
      "metadata": {
        "id": "hIToewRwoQan"
      },
      "execution_count": null,
      "outputs": []
    },
    {
      "cell_type": "markdown",
      "source": [
        "Why are there two weights here? Well, because there are two features: height and weight. Once we have the weights and the bias, it is possible to add the separating line to the scatter plot. Recall that the features are linearly transformed:\n",
        "\n",
        "> $f = w_1X_1+w_2X_2+b$\n",
        "\n",
        "where $X_1$ and $X_2$ are the two features. The separating straight-line is found easily by evaluating $f=0$, which gives:\n",
        "\n",
        "> $X_2 = -\\dfrac{w_1X_1+b}{w_2}$\n",
        "\n",
        "Note that in this case $X_2$ is plotted as a function of $X_1$, so the x-axis corresponds to $X_1$ and the y-axis to $X_2$."
      ],
      "metadata": {
        "id": "kGoY4Rvdt23A"
      }
    },
    {
      "cell_type": "code",
      "source": [
        "_, ax = plt.subplots()\n",
        "df.loc[df.sex=='m', :].plot.scatter(x='height', y='weight', c='y', ax=ax);  # men: yellow\n",
        "df.loc[df.sex=='f', :].plot.scatter(x='height', y='weight', c='g', ax=ax);  # women: green\n",
        "plt.plot(X_new[:, 0], X_new[:, 1], 'ro')  # new points are red\n",
        "\n",
        "# adding the separating straight line in red\n",
        "xline = np.linspace(150, 200, 2)\n",
        "yline = -(xline * w[0] + b) / w[1]\n",
        "plt.plot(xline, yline, 'r-');\n",
        "\n",
        "plt.ylim((50, 90))\n",
        "plt.grid()"
      ],
      "metadata": {
        "id": "eJRpGUhypLJb"
      },
      "execution_count": null,
      "outputs": []
    },
    {
      "cell_type": "markdown",
      "source": [
        "As we see, the third person, which is represented by the middle red dot, is very close to the separating line, but it is on the \"female\" side indeed!"
      ],
      "metadata": {
        "id": "IbmV-SupuJGF"
      }
    },
    {
      "cell_type": "markdown",
      "source": [
        "#### Example 3"
      ],
      "metadata": {
        "id": "yNxqSZBIu5py"
      }
    },
    {
      "cell_type": "markdown",
      "source": [
        "Finally, let's try out logistic regression on the social media dataset `\"Social_Network_Ads.csv\"`. We read the csv-file and assign the **features** to NumPy array `X` and the **labels** to NumPy vector `y`:"
      ],
      "metadata": {
        "id": "s7v-fUFxvDaW"
      }
    },
    {
      "cell_type": "code",
      "source": [],
      "metadata": {
        "id": "yoMH3mM6xBAK"
      },
      "execution_count": null,
      "outputs": []
    },
    {
      "cell_type": "markdown",
      "source": [
        "And we apply logistic regression (without penalty):"
      ],
      "metadata": {
        "id": "jEUrDdhAvc-3"
      }
    },
    {
      "cell_type": "code",
      "source": [],
      "metadata": {
        "id": "SSZSc3JdvfrH"
      },
      "execution_count": null,
      "outputs": []
    },
    {
      "cell_type": "markdown",
      "source": [
        "We calculate the model's **accuracy** and plot the **confusion matrix**:"
      ],
      "metadata": {
        "id": "a42gcwgVvj1D"
      }
    },
    {
      "cell_type": "code",
      "source": [],
      "metadata": {
        "id": "iL2aq0nkvtCK"
      },
      "execution_count": null,
      "outputs": []
    },
    {
      "cell_type": "markdown",
      "source": [
        "That's not looking good at all! The model always predicts 0, which explains its low accuracy."
      ],
      "metadata": {
        "id": "_HmnC4qidaLm"
      }
    },
    {
      "cell_type": "code",
      "source": [],
      "metadata": {
        "id": "NTho_vz8coSu"
      },
      "execution_count": null,
      "outputs": []
    },
    {
      "cell_type": "markdown",
      "source": [
        "Probably the problem is caused by the second feature, the estimated salary, which has very high values. To fix this issue, we divide the values of this feature by 1000:"
      ],
      "metadata": {
        "id": "N-UYpTb20-Ov"
      }
    },
    {
      "cell_type": "code",
      "source": [],
      "metadata": {
        "id": "CXuZQoC6yLwK"
      },
      "execution_count": null,
      "outputs": []
    },
    {
      "cell_type": "markdown",
      "source": [
        "[**Feature scaling**](https://en.wikipedia.org/wiki/Feature_scaling) or **normalization** is a very common and important technique because many machine learning algorithms perform much better on small values, especially neural nets!"
      ],
      "metadata": {
        "id": "RTz8dEzM3OKp"
      }
    },
    {
      "cell_type": "markdown",
      "source": [
        "Let's apply the logistic regression algorithm again and calculate the accuracy of the resulting model:"
      ],
      "metadata": {
        "id": "HMlg7_SX1bw2"
      }
    },
    {
      "cell_type": "code",
      "source": [],
      "metadata": {
        "id": "tNRstqBv1lE0"
      },
      "execution_count": null,
      "outputs": []
    },
    {
      "cell_type": "markdown",
      "source": [
        "The accuracy is much better now, and comparable to the accuracy of the KNN model. Checking the confusion matrix:"
      ],
      "metadata": {
        "id": "cySJIgvF1tsM"
      }
    },
    {
      "cell_type": "code",
      "source": [],
      "metadata": {
        "id": "0HWg85fUyvHU"
      },
      "execution_count": null,
      "outputs": []
    },
    {
      "cell_type": "markdown",
      "source": [
        "Let's **predict** the purchase behavior of the three new persons:\n",
        "\n",
        "- person aged 25 with about 60 000 as salary\n",
        "- Person aged 40 with about 85 000 as salary\n",
        "- Person aged 55 with about 100 000 as salary\n"
      ],
      "metadata": {
        "id": "DrFxj4nl0xK7"
      }
    },
    {
      "cell_type": "code",
      "source": [],
      "metadata": {
        "id": "_MDiavhSwEHr"
      },
      "execution_count": null,
      "outputs": []
    },
    {
      "cell_type": "markdown",
      "source": [
        "We get the same result as the KNN model."
      ],
      "metadata": {
        "id": "gLs0871J1Yxs"
      }
    },
    {
      "cell_type": "markdown",
      "source": [
        "Finally, let's visualizing the result by adding the separating line and the new data points to the scatter plot:"
      ],
      "metadata": {
        "id": "1tasYKO12U1n"
      }
    },
    {
      "cell_type": "code",
      "source": [],
      "metadata": {
        "id": "5RikZvHzv7Wo"
      },
      "execution_count": null,
      "outputs": []
    },
    {
      "cell_type": "markdown",
      "source": [
        "### Decision trees"
      ],
      "metadata": {
        "id": "mIzOmGmHmSgv"
      }
    },
    {
      "cell_type": "markdown",
      "source": [
        "Decision trees are very popular machine learning and data mining methods with a high **interpretability**, also called **explainability**. Unlike many other machine learning models, decision tree models are no \"black boxes\" indeed, as they can be explained in a way that \"makes sense\" to a human being at an acceptable level. Moreover, they can be used as graphical tools that may facilitate decision-making.\n",
        "\n",
        "Decision trees can be used to solve classification and regression problems, and they can also be applied for unsupervised learning. Here, we will only discuss **classification** problems, and the resulting decision tree is therefore called a *classification tree*.\n",
        "\n",
        "Using Scikit-Learn, we have to import the `DecisionTreeClassifier` class. We also import function `plot_tree` to plot the decision trees we've trained, and we need the `OrdinalEncoder` class to convert the categorical values into integers:"
      ],
      "metadata": {
        "id": "K2Hw1LClZFCK"
      }
    },
    {
      "cell_type": "code",
      "source": [
        "from sklearn.tree import DecisionTreeClassifier, plot_tree\n",
        "from sklearn.preprocessing import OrdinalEncoder"
      ],
      "metadata": {
        "id": "fucVUZvkG2Yj"
      },
      "execution_count": null,
      "outputs": []
    },
    {
      "cell_type": "markdown",
      "source": [
        "A decision tree is sometimes also referred to as a *feature tree*, because the internal nodes are labeled with a feature. Each node is split based on the different values the feature can take on in that node, whereas each leaf of the tree represents a prediction. This may sound quite abstract, so let's discuss the famous decision tree to predict whether someone will play tennis or not depending on the weather conditions."
      ],
      "metadata": {
        "id": "9YYMxVpkbHO2"
      }
    },
    {
      "cell_type": "markdown",
      "source": [
        "#### Example"
      ],
      "metadata": {
        "id": "9ARFST-bSNdm"
      }
    },
    {
      "cell_type": "markdown",
      "source": [
        "A very famous example is the \"play tennis\" decision tree. The corresponding dataset is stored in file `'play.txt'`, which can be read using Pandas function `read_csv`. Here, the separator is a space:"
      ],
      "metadata": {
        "id": "rPULvXr-cXgl"
      }
    },
    {
      "cell_type": "code",
      "source": [
        "df = pd.read_csv('play.txt', sep=' ').iloc[:, :-1]  # last column is empty, so we don't need it...\n",
        "df"
      ],
      "metadata": {
        "id": "LWK1asxwGeH4"
      },
      "execution_count": null,
      "outputs": []
    },
    {
      "cell_type": "markdown",
      "source": [
        "We don't need the `\"Day\"` attribute as it doesn't contain any useful information; it's just an id. The **features** are attributes `\"Outlook\"`, `\"Temperature\"`, `\"Humidity\"`, and `\"Wind\"`. The **labels** are in column `\"Play\"`:"
      ],
      "metadata": {
        "id": "lMC1qMAPc69t"
      }
    },
    {
      "cell_type": "code",
      "source": [
        "features = df[['Outlook', 'Temperature', 'Humidity', 'Wind']]\n",
        "labels = df['Play']"
      ],
      "metadata": {
        "id": "zHbCTyO2HbGn"
      },
      "execution_count": null,
      "outputs": []
    },
    {
      "cell_type": "markdown",
      "source": [
        "Just like most other machine learning algorithm, the decision tree algorithm implemented in Scikit-Learn is not capable of dealing with string values. So we will **encode** the feature values, which means that we will transform the strings into integer values. We do that by applying the `OrdinalEncoder` class:"
      ],
      "metadata": {
        "id": "eQKW0c2edXjk"
      }
    },
    {
      "cell_type": "code",
      "source": [
        "feature_encoder = OrdinalEncoder()\n",
        "feature_encoder.fit(features)\n",
        "X = feature_encoder.transform(features)\n",
        "print(X)"
      ],
      "metadata": {
        "id": "BJurGsQDHqW4"
      },
      "execution_count": null,
      "outputs": []
    },
    {
      "cell_type": "markdown",
      "source": [
        "We see that each string is converted to an integer indeed. To know which integer corresponds to which string, we can use the following function:"
      ],
      "metadata": {
        "id": "SEHx1-HPejH3"
      }
    },
    {
      "cell_type": "code",
      "source": [
        "def get_feature_value(encoder, feature, id):\n",
        "    icol = np.where(encoder.feature_names_in_ == feature)[0][0]\n",
        "    return encoder.categories_[icol][id]"
      ],
      "metadata": {
        "id": "SOpA_lKgeu4W"
      },
      "execution_count": null,
      "outputs": []
    },
    {
      "cell_type": "markdown",
      "source": [
        "For instance, what does id `2` stands for in the second column, corresponding to the `\"Temperature\"`?"
      ],
      "metadata": {
        "id": "5_cGR4Z4gJYE"
      }
    },
    {
      "cell_type": "code",
      "source": [
        "get_feature_value(feature_encoder, \"Temperature\", 2)"
      ],
      "metadata": {
        "id": "Nq8SIeRTgoFk"
      },
      "execution_count": null,
      "outputs": []
    },
    {
      "cell_type": "markdown",
      "source": [
        "We can do the same for the labels, in which case we'll get zeros and ones. Alternatively, we can use the `LabelEncoder`, which is designed specifically for encoding a binary categorical target:"
      ],
      "metadata": {
        "id": "KOfomAK-h4zm"
      }
    },
    {
      "cell_type": "code",
      "source": [
        "from sklearn.preprocessing import LabelEncoder\n",
        "\n",
        "label_encoder = LabelEncoder()\n",
        "label_encoder.fit(labels)\n",
        "y = label_encoder.transform(labels)\n",
        "\n",
        "print(\"0 is\", label_encoder.classes_[0])\n",
        "print(\"1 is\", label_encoder.classes_[1])"
      ],
      "metadata": {
        "id": "qTmZVTQQH3jB"
      },
      "execution_count": null,
      "outputs": []
    },
    {
      "cell_type": "markdown",
      "source": [
        "Now we are ready to **train** a decision tree model. As usual, we instantiate the `DecisionTreeClassifier` and we invoke the `fit` method. We also calculate the accuracy by calling method `score`:"
      ],
      "metadata": {
        "id": "OWWsvlk5i6Zr"
      }
    },
    {
      "cell_type": "code",
      "source": [
        "model = DecisionTreeClassifier()\n",
        "model.fit(X, y)\n",
        "model.score(X, y)"
      ],
      "metadata": {
        "id": "EeGMmIOPi_Kc"
      },
      "execution_count": null,
      "outputs": []
    },
    {
      "cell_type": "markdown",
      "source": [
        "An score of 100% is perfect! Let's plot the resulting decision tree using function `plot_tree`:"
      ],
      "metadata": {
        "id": "PGWjHPT3jVCW"
      }
    },
    {
      "cell_type": "code",
      "source": [
        "plot_tree(model,\n",
        "          feature_names=feature_encoder.feature_names_in_,\n",
        "          class_names=label_encoder.classes_,\n",
        "          impurity=False, filled=True, fontsize=8, rounded=True);"
      ],
      "metadata": {
        "id": "ONbP09jEjjcV"
      },
      "execution_count": null,
      "outputs": []
    },
    {
      "cell_type": "markdown",
      "source": [
        "The four leaves at the deepest level only have 1 sample. That explains why we get an accuracy of 100%: the tree has \"memorized\" the samples. This is an example of **overfitting**: the model is too specific! To overcome this, we could prune the decision tree or optimize the hyperparameters determining its size using a validation set.\n",
        "\n",
        "Here, the dataset is too small, so we only change the hyperparameter that determines the maximum depth of the tree and manually set it to 2:"
      ],
      "metadata": {
        "id": "zOC0pMCWjuAz"
      }
    },
    {
      "cell_type": "code",
      "source": [
        "model = DecisionTreeClassifier(max_depth=2)  # limit the depth of the tree by setting max_depth to 2\n",
        "model.fit(X, y)\n",
        "model.score(X, y)"
      ],
      "metadata": {
        "id": "mjVHbsoQIHEC"
      },
      "execution_count": null,
      "outputs": []
    },
    {
      "cell_type": "markdown",
      "source": [
        "Now we have 85.7% **accuracy**. Let's plot the **confusion matrix**:"
      ],
      "metadata": {
        "id": "aKXk3sMfkl0n"
      }
    },
    {
      "cell_type": "code",
      "source": [
        "from sklearn.metrics import ConfusionMatrixDisplay\n",
        "\n",
        "ConfusionMatrixDisplay.from_estimator(model, X, y,\n",
        "                                      display_labels=('No', 'Yes'),  # labels for 0 and 1\n",
        "                                      colorbar=False);  # no colorbar"
      ],
      "metadata": {
        "id": "gEkOFKoxk8DV"
      },
      "execution_count": null,
      "outputs": []
    },
    {
      "cell_type": "markdown",
      "source": [
        "Two samples are being misclassified by this model. Let's visualize the resulting decision tree:"
      ],
      "metadata": {
        "id": "frFYYybZlCM5"
      }
    },
    {
      "cell_type": "code",
      "source": [
        "out = plot_tree(model,\n",
        "                feature_names=feature_encoder.feature_names_in_,\n",
        "                class_names=label_encoder.classes_,\n",
        "                impurity=False, filled=True, fontsize=8, rounded=True);\n",
        "\n",
        "# convert the integers back to strings - this for loop only works for this tree!\n",
        "for i in [0, 2]:\n",
        "    out[i].set_text(out[i].get_text().replace(\"<= 0.5\", feature_encoder.categories_[i][0]))"
      ],
      "metadata": {
        "id": "q3dp_7lHNbWk"
      },
      "execution_count": null,
      "outputs": []
    },
    {
      "cell_type": "markdown",
      "source": [
        "How do we have to apply this decision tree?\n",
        "- We start with the root node. Is feature \"Outlook\" equal to \"Overcast\"?\n",
        "  - If yes, then we go to the child node on the left, which is a leaf. 4 samples have value \"Overcast\" and in this case we predict \"Yes\", which means we will play tennis.\n",
        "  - If no, then we go to the child node on the right. Here we have to check feature \"Humidity\". Is it \"High\"?\n",
        "    - If yes, then we go to the left and we predict \"No\", which means we won't play tennis.\n",
        "    - If no, then we go to the right and we predict \"Yes\".\n",
        "\n",
        "What does \"samples\" and \"value\" mean? The first indicates how many samples are left in the node. In the root node, for instance, there are 14 samples, which is the complete dataset. In the child node on the right (in white color), there are 10 samples left, as the other child node on the left deals with the 4 \"Overcast\" samples. The first element of the \"value\" attribute indicates how many of the samples have label `0` (or \"No\"), while the second element indicates how many samples have label `1` (or \"Yes\"). The \"class\" corresponds to the highest number of labels. In the root node, for instance, there are 5 samples with label `0` and the other 9 samples have label `1`. So the class representing the majority of the labels is \"Yes\". If a node is a leaf, then this class is the predicted value in that node."
      ],
      "metadata": {
        "id": "Qm76KyDVlyZh"
      }
    },
    {
      "cell_type": "markdown",
      "source": [
        "Suppose now we want to predict whether or not it is a good idea to play tennis when the outlook is overcast, the temperature is cool, and when there is high humidity and strong wind, then we have to create a new Pandas dataframe containing this new data point:"
      ],
      "metadata": {
        "id": "krhvdIbgpBKR"
      }
    },
    {
      "cell_type": "code",
      "source": [
        "new = pd.DataFrame(dict(Outlook=['Overcast'],\n",
        "                        Temperature=['Cool'],\n",
        "                        Humidity=['High'],\n",
        "                        Wind=['Strong'],\n",
        "                        Play=['????']))\n",
        "new"
      ],
      "metadata": {
        "id": "UF-nyhMrYrtA"
      },
      "execution_count": null,
      "outputs": []
    },
    {
      "cell_type": "markdown",
      "source": [
        "Of course, we have to encode this new sample by applying the `feature_encoder` we defined earlier for the trainingdata:"
      ],
      "metadata": {
        "id": "aSXoD7XSpc2x"
      }
    },
    {
      "cell_type": "code",
      "source": [
        "Xnew = feature_encoder.transform(new[['Outlook', 'Temperature', 'Humidity', 'Wind']])"
      ],
      "metadata": {
        "id": "aKH2-Q6nZbER"
      },
      "execution_count": null,
      "outputs": []
    },
    {
      "cell_type": "markdown",
      "source": [
        "Now we can make a **prediction** for this new data point:"
      ],
      "metadata": {
        "id": "dJnyy-leppV3"
      }
    },
    {
      "cell_type": "code",
      "source": [
        "model.predict(Xnew).item()"
      ],
      "metadata": {
        "id": "9yBHCdheZjVj"
      },
      "execution_count": null,
      "outputs": []
    },
    {
      "cell_type": "markdown",
      "source": [
        "It returns `1`, which corresponds to \"Yes\":"
      ],
      "metadata": {
        "id": "5jRzebKqp-qY"
      }
    },
    {
      "cell_type": "code",
      "source": [
        "get_feature_value(label_encoder, \"Play\", 1)"
      ],
      "metadata": {
        "id": "_xtLUosCqCi3"
      },
      "execution_count": null,
      "outputs": []
    },
    {
      "cell_type": "markdown",
      "source": [
        "A final remark about the resulting decision tree. The Scikit-Learn algorithm is capable of deriving *binary* trees only, which means the maximum number of child nodes is two. If there would be more than two child nodes allowed, then in this example it would be better to split the root node into three branches, which would result in the following tree of depth 2:"
      ],
      "metadata": {
        "id": "Iz-VIaXprNtW"
      }
    },
    {
      "cell_type": "markdown",
      "source": [
        "![image.png](data:image/png;base64,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)"
      ],
      "metadata": {
        "id": "OgzFYr7RrnZr"
      }
    },
    {
      "cell_type": "markdown",
      "source": [
        "## **Regression**"
      ],
      "metadata": {
        "id": "D4zVeTl2v4un"
      }
    },
    {
      "cell_type": "markdown",
      "source": [
        "Regression is also a type of **supervised learning**, but in this case, it is used to **predict quantitative variables**, such as house prices. We discuss both linear and polynomial regression. We also explain the difference between underfitting and overfitting, and show techniques to find the best fit."
      ],
      "metadata": {
        "id": "tSCF5-LU8hpA"
      }
    },
    {
      "cell_type": "markdown",
      "metadata": {
        "id": "ovKTLLil8f4N"
      },
      "source": [
        "### Linear Regression"
      ]
    },
    {
      "cell_type": "markdown",
      "metadata": {
        "id": "AuEzWbd3Cuvv"
      },
      "source": [
        "Linear regression is a form of **supervised learning** in which the **target**, i.e., the feature we predict, is a quantitative variable. Moreover, we assume that there is a linear relationship between the other features we use to predict the target.\n",
        "\n",
        "The simplest form of linear regression is that in which we try to predict a target $y$ using 1 feature $x$. We call this **simple linear regression**. In this case, we can represent the data points in a two-dimensional coordinate system. Applying linear regression then comes down to finding the **best fitting line**."
      ]
    },
    {
      "cell_type": "markdown",
      "metadata": {
        "id": "sYKDztOkEmzu"
      },
      "source": [
        "We know that the general equation of a straight line is:\n",
        "\n",
        "> $y=ax+b$\n",
        "\n",
        "To find the best fitting line, we apply an algorithm that derives *slope* $a$ and *intercept* $b$ from the data points $(x_i, y_i)$, where $i$ refers to the index of the data points.\n",
        "\n",
        "Parameters $a$ and $b$ are derived by minimizing the squared differences between true values $y$ and predicted values $\\hat{y}$:\n",
        "\n",
        "> $L = \\sum_{i=1}^n (y_i - \\hat{y}_i)^2$\n",
        "\n",
        "with $n$ the number of samples. $L$ is called the **loss function**. This minimization of the loss function is the actual **training** of the model.\n",
        "\n",
        "It is common to normalize the loss score by dividing it by the number of samples $n$, in which case it is called the **mean squared error** (MSE). Note that the difference between true and predicted value is called the error or **residual**."
      ]
    },
    {
      "cell_type": "markdown",
      "source": [
        "Once the values for **parameters** $a$ and $b$ are found, we have the linear regression **model**, which we can apply to make predictions. We do this by inserting a new value $x$ into the found equation to obtain the prediction $\\hat{y}$.\n",
        "\n",
        "**Prediction** $\\hat{y}$ will obviously not equal the true value $y$, but we do know that the average difference between predicted and true value is minimal, because the algorithm derived optimal values for $a$ and $b$ by minimizing the errors of all data points in the data set."
      ],
      "metadata": {
        "id": "Es58vLef85ED"
      }
    },
    {
      "cell_type": "markdown",
      "metadata": {
        "id": "QH73hVYQHaXh"
      },
      "source": [
        "There are several **algorithms** to apply linear regression. And we can also use more than 1 feature $x$ to predict $y$. For example, if we have 2 features $x_1$ and $x_2$, we look for the best fitting plane in a three-dimensional coordinate system. For more than 2 features, we look for a [hyperplane](https://en.wikipedia.org/wiki/Hyperplane) in n-dimensional space. We can also model nonlinear relationships with *polynomial regression*, as will be shown in the next section."
      ]
    },
    {
      "cell_type": "markdown",
      "metadata": {
        "id": "NJrINUXPI-su"
      },
      "source": [
        "In this notebook, we only discuss 2 examples in which we apply simple linear regression. In each example, we first read a dataset as Pandas dataframe, and we visualize the data points in a scatterplot using Matplotlib. Then we use class `LinearRegression` from Scikit-Learn to find the line of best fit and make some predictions with the derived model."
      ]
    },
    {
      "cell_type": "code",
      "execution_count": null,
      "metadata": {
        "id": "ZjZ0_rixI-It"
      },
      "outputs": [],
      "source": [
        "from sklearn.linear_model import LinearRegression"
      ]
    },
    {
      "cell_type": "markdown",
      "metadata": {
        "id": "iyLqRQN4W8bF"
      },
      "source": [
        "#### Example 1"
      ]
    },
    {
      "cell_type": "markdown",
      "metadata": {
        "id": "6f6EhvWyMWIb"
      },
      "source": [
        "In the first example, we examine the age of couples. Specifically, we try to predict the wife's age from the husband's age. Intuitively, we could say that, on average, the age of the partners will be the same. How do we express this mathematically?\n",
        "\n",
        "Since we want to predict the wife's age, this is the target $y$. The husband's age is then feature $x$. Our intuitive model then simply has the following equation:\n",
        "\n",
        "> $y = x$\n",
        "\n",
        "Thus, slope $a$ is 1, and intercept $b$ is 0.\n",
        "\n",
        "Now suppose we were to assume that the wife is on average 1 year younger than the husband, then we get the following model:\n",
        "\n",
        "> $y = x - 1$\n",
        "\n",
        "In this case, the parameters $a$ and $b$ are equal to 1 and -1, respectively."
      ]
    },
    {
      "cell_type": "markdown",
      "metadata": {
        "id": "4dQ24WzcPG9C"
      },
      "source": [
        "Thus, we can keep guessing the best values for parameters $a$ and $b$. But that is not how we proceed in machine learning. In machine learning we are going to collect data and then run an algorithm on that data to find the best values for our parameters. Let's do that!"
      ]
    },
    {
      "cell_type": "markdown",
      "metadata": {
        "id": "wd6Gtw_cKiLF"
      },
      "source": [
        "We have already collected the data and the dataset is stored in the file `\"age_couple.xlsx\"`. This is an Excel file, but fortunately, Pandas provides a function `read_excel` that allows us to easily load a table from an Excel file as a `DataFrame`:"
      ]
    },
    {
      "cell_type": "code",
      "execution_count": null,
      "metadata": {
        "id": "X_7j_V4LGwR0"
      },
      "outputs": [],
      "source": [
        "df = pd.read_excel('age_couple.xlsx')\n",
        "df.head()"
      ]
    },
    {
      "cell_type": "markdown",
      "metadata": {
        "id": "7ucpQe0vK64u"
      },
      "source": [
        "Using the `head` method, we print out the first 5 records from our dataframe. Let's check the total number of samples in the dataset:"
      ]
    },
    {
      "cell_type": "code",
      "execution_count": null,
      "metadata": {
        "id": "IzUCjScILd4i"
      },
      "outputs": [],
      "source": [
        "len(df)  # length of dataframe = number of rows!"
      ]
    },
    {
      "cell_type": "markdown",
      "metadata": {
        "id": "W1g35N1cLlJ4"
      },
      "source": [
        "It is seen that we have 25 examples and 3 features. However, column `\"Couple\"` is just an index from which we cannot get any useful information. So we can ignore that column. The other two columns are the ages of husband and wife. We need those **features**! Let's plot those ages against each other in a scatterplot. We want to predict the wife's age, so this is the **target** and it will be on the y-axis. The x-axis then respresents the age of the husband:"
      ]
    },
    {
      "cell_type": "code",
      "execution_count": null,
      "metadata": {
        "id": "S3itxZT6G91e"
      },
      "outputs": [],
      "source": [
        "husband, wife = tuple(df.columns[1:])  # assign column names to variables\n",
        "df.plot.scatter(x=husband, y=wife)  # make scatter plot using method plot.scatter\n",
        "y = x = np.linspace(0, 100, 100)\n",
        "plt.plot(x, y, 'k--')  # diagonal y = x\n",
        "plt.grid()  # add grid"
      ]
    },
    {
      "cell_type": "markdown",
      "metadata": {
        "id": "-ziY9wFgTa8L"
      },
      "source": [
        "We also plotted our intuitive model $y=x$ and we see that this is not a bad guess! Wondering which model the machine learning algorithm will derive.... For clarity, we first put feature and target into separate variables, and we convert them to NumPy arrays:"
      ]
    },
    {
      "cell_type": "code",
      "execution_count": null,
      "metadata": {
        "id": "FfEMhCtAXr2E"
      },
      "outputs": [],
      "source": [
        "X = df[husband].values.reshape(-1, 1)  # feature X - must be 2D!\n",
        "y = df[wife].values  # target y"
      ]
    },
    {
      "cell_type": "markdown",
      "metadata": {
        "id": "EyX4J9RMRjx6"
      },
      "source": [
        "To apply linear regression, we need to instantiate the `LinearRegression` class. Then we `train` the model by calling the `fit` method with variables `X` and `y` as inputs. It is this method that will derive the parameters $a$ and $b$ by **fitting** the data points:"
      ]
    },
    {
      "cell_type": "code",
      "execution_count": null,
      "metadata": {
        "id": "6qxJzAp-HLTV"
      },
      "outputs": [],
      "source": [
        "model = LinearRegression()  # instantiate LinearRegression object\n",
        "model.fit(X, y)  # training the model = fitting the data points"
      ]
    },
    {
      "cell_type": "markdown",
      "metadata": {
        "id": "rV274vofSHYK"
      },
      "source": [
        "We can now check how well the algorithm has fit the data points by calling method `score`:"
      ]
    },
    {
      "cell_type": "code",
      "execution_count": null,
      "metadata": {
        "id": "ZKeXh-unSQG0"
      },
      "outputs": [],
      "source": [
        "model.score(X, y)  # calculates the R² score"
      ]
    },
    {
      "cell_type": "markdown",
      "metadata": {
        "id": "8F2JpZCHSSDJ"
      },
      "source": [
        "In case of linear regression, this score is the **coefficient of determination R²**. Discussing how to calculate this score is out of scope. Just know that R² is a number between 0 and 1, and the closer the score is to 1, the better the model is. It is also useful to calculate the mean absolute error (**MAE**), the mean squared error (**MSE**), and the root mean squared error (**RMSE**). To do so, we first have to calculate the predicted values using method `predict`:"
      ]
    },
    {
      "cell_type": "code",
      "source": [
        "from sklearn.metrics import mean_absolute_error, mean_squared_error\n",
        "\n",
        "# first get predictions...\n",
        "yp = model.predict(X)\n",
        "\n",
        "# ...so we can calculate the scores\n",
        "print('MAE is', mean_absolute_error(y_true=y, y_pred=yp))\n",
        "print('MSE is', mean_squared_error(y_true=y, y_pred=yp))\n",
        "print('RMSE is', mean_squared_error(y_true=y, y_pred=yp, squared=False))  # set squared to False to get RMSE"
      ],
      "metadata": {
        "id": "OWOMFdj6evli"
      },
      "execution_count": null,
      "outputs": []
    },
    {
      "cell_type": "markdown",
      "source": [
        "These scores don't tell us much, so it's easier to understand the R² score, which is very close to 1 here, indicating a good fit!\n",
        "\n"
      ],
      "metadata": {
        "id": "geivMgnCfwBx"
      }
    },
    {
      "cell_type": "markdown",
      "source": [
        "We can also query our **parameters** $a$ and $b$:"
      ],
      "metadata": {
        "id": "lB3CM8yQeaDP"
      }
    },
    {
      "cell_type": "code",
      "execution_count": null,
      "metadata": {
        "id": "5qBMEUgtHZTs"
      },
      "outputs": [],
      "source": [
        "a, b = model.coef_[0], model.intercept_  # slope m and intercept b\n",
        "print(f'slope a is {a:.3f}, intercept b is {b:.3f}')"
      ]
    },
    {
      "cell_type": "markdown",
      "metadata": {
        "id": "jTLJaxF8UI1Q"
      },
      "source": [
        "We see that the algorithm derived different values for $a$ and $b$. Let's plot the result:"
      ]
    },
    {
      "cell_type": "code",
      "execution_count": null,
      "metadata": {
        "id": "MuBJeXkQXyFb"
      },
      "outputs": [],
      "source": [
        "X_line = np.linspace(0, 100, 100)  # create 100 equally spaced points between 0 and 100\n",
        "y_line = a * X_line + b  # line of best fit derived by the regression model\n",
        "df.plot.scatter(x=husband, y=wife)\n",
        "plt.plot(X_line, X_line, 'k--', X_line, y_line, 'r-')\n",
        "plt.legend(['data', 'intuitive', 'ML model'])\n",
        "plt.grid()"
      ]
    },
    {
      "cell_type": "markdown",
      "metadata": {
        "id": "uML4E4t0U3g_"
      },
      "source": [
        "So the machine learning model will estimate the wife's age to be slightly lower than her husband's. Let's check that with some new data points. Suppose we have 2 new couples whose husbands are 40 and 80 years old, respectively. Using method `predict` we can now easily predict the age of their wife:"
      ]
    },
    {
      "cell_type": "code",
      "execution_count": null,
      "metadata": {
        "id": "d9DNBjLRYNaj"
      },
      "outputs": [],
      "source": [
        "X_new = np.array([[40],   # husband of age 40\n",
        "                  [80]])  # husband of age 80\n",
        "np.round(model.predict(X_new))"
      ]
    },
    {
      "cell_type": "markdown",
      "metadata": {
        "id": "gDqEloI5VR-D"
      },
      "source": [
        "The model predicts that the wifes' respective ages (rounded) will be 38 and 76. Are those predictions ok? Well, it is a very small dataset, and so those predictions are not reliable. In practice, it is best to make sure we have a much larger dataset so that we can split it into a training, validation, and testing set. That way we can avoid overfitting and thoroughly evaluate our model. We'll discuss that in the next section."
      ]
    },
    {
      "cell_type": "markdown",
      "metadata": {
        "id": "ppciq38cXyzK"
      },
      "source": [
        "#### Example 2"
      ]
    },
    {
      "cell_type": "markdown",
      "metadata": {
        "id": "bnqJtXsDXO0e"
      },
      "source": [
        "The second dataset is one from Sweden. It contains for different regions from that country the number of claims submitted to insurance companies, and the total amount they paid out (in 1000 Swedish kronor). Obviously, it is very useful for those insurance companies to be able to predict that amount if they know the new number of claims. An ideal case for applying simple linear regression!"
      ]
    },
    {
      "cell_type": "markdown",
      "metadata": {
        "id": "2Qoqj2D4YgK8"
      },
      "source": [
        "Read in the file `\"auto_insurance_sweden.csv\"`. This is a csv-file that you can easily read in Pandas with the function `read_csv`. Beware! The file did not use a comma but a semicolon as a separator, so you have to pass an additional input parameter `sep=\";\"` to the function, in addition to the file name. Assign the `DataFrame` object returned by the function to variable `df`, and print the first 5 lines using method `head`:"
      ]
    },
    {
      "cell_type": "code",
      "execution_count": null,
      "metadata": {
        "id": "S7o5bIYa92iM"
      },
      "outputs": [],
      "source": []
    },
    {
      "cell_type": "markdown",
      "metadata": {
        "id": "76Ny-jPWZZgK"
      },
      "source": [
        "How many data points does the dataset contain?"
      ]
    },
    {
      "cell_type": "code",
      "execution_count": null,
      "metadata": {
        "id": "LU34Ui_UXSpZ"
      },
      "outputs": [],
      "source": []
    },
    {
      "cell_type": "markdown",
      "metadata": {
        "id": "LPSYumJnZyL_"
      },
      "source": [
        "We assign the column names to variables:"
      ]
    },
    {
      "cell_type": "code",
      "execution_count": null,
      "metadata": {
        "id": "r_y3xCq0Z2sv"
      },
      "outputs": [],
      "source": []
    },
    {
      "cell_type": "markdown",
      "metadata": {
        "id": "1wvUi2d1ZlE3"
      },
      "source": [
        "Making a scatterplot of the data:"
      ]
    },
    {
      "cell_type": "code",
      "execution_count": null,
      "metadata": {
        "id": "DLpySZRR98TN"
      },
      "outputs": [],
      "source": []
    },
    {
      "cell_type": "markdown",
      "metadata": {
        "id": "n0R_vTRFZ8_B"
      },
      "source": [
        "Convert **feature** and **target** to NumPy arrays, and put them into variables `X` and `y`, respectively:"
      ]
    },
    {
      "cell_type": "code",
      "execution_count": null,
      "metadata": {
        "id": "8naj7yoOZPOW"
      },
      "outputs": [],
      "source": []
    },
    {
      "cell_type": "markdown",
      "metadata": {
        "id": "mswZtvQYaGhp"
      },
      "source": [
        "Applying simple linear regression:"
      ]
    },
    {
      "cell_type": "code",
      "execution_count": null,
      "metadata": {
        "id": "JVtAYcvS-eY-"
      },
      "outputs": [],
      "source": []
    },
    {
      "cell_type": "markdown",
      "metadata": {
        "id": "cSSfjFE4aRik"
      },
      "source": [
        "Calculating the **R² score**:"
      ]
    },
    {
      "cell_type": "code",
      "execution_count": null,
      "metadata": {
        "id": "3rUjfZLUaVFf"
      },
      "outputs": [],
      "source": []
    },
    {
      "cell_type": "markdown",
      "metadata": {
        "id": "5ibh5iTtaXJy"
      },
      "source": [
        "Assigning the **parameters** to variables `a` and `b`:"
      ]
    },
    {
      "cell_type": "code",
      "execution_count": null,
      "metadata": {
        "id": "tGevbKir_Rz2"
      },
      "outputs": [],
      "source": []
    },
    {
      "cell_type": "markdown",
      "metadata": {
        "id": "3Rl2fJS3aqYD"
      },
      "source": [
        "Creating again the scatterplot and adding the derived regression line:"
      ]
    },
    {
      "cell_type": "code",
      "execution_count": null,
      "metadata": {
        "id": "_QC3uTa0_ife"
      },
      "outputs": [],
      "source": []
    },
    {
      "cell_type": "markdown",
      "metadata": {
        "id": "nSyFDGw5awye"
      },
      "source": [
        "What will be the total amount the insurance companies will have to pay out if there are 80, 100 and 140 claims?"
      ]
    },
    {
      "cell_type": "code",
      "execution_count": null,
      "metadata": {
        "id": "ZepwDkWsAWRp"
      },
      "outputs": [],
      "source": []
    },
    {
      "cell_type": "markdown",
      "source": [
        "### Polynomial Regression"
      ],
      "metadata": {
        "id": "yZlm9lSIpQHZ"
      }
    },
    {
      "cell_type": "markdown",
      "source": [
        "Suppose the relation between the independent variable $x$ and the dependent variable $y$ is not linear. In that case, we may apply **polynomial regression**, which results in a curve that is not a straight line, as the relation between $x$ and $y$ is expressed by the following polynomial function:\n",
        "\n",
        "> $y = b + a_1x + a_2x^2 + ... + a_nx^n = b + \\sum_{j=1}^{n}a_jx^j$\n",
        "\n",
        "where parameters $a_j$ and $b$, also called the **coefficients**, are derived again by minimizing an error function. The highest power $n$ is the **degree** of the polynomial. Note that $n$ equals 1 in case of simple linear regression."
      ],
      "metadata": {
        "id": "s-lgb6UjGNZu"
      }
    },
    {
      "cell_type": "markdown",
      "source": [
        "#### Example"
      ],
      "metadata": {
        "id": "DnjybTzyBpb0"
      }
    },
    {
      "cell_type": "markdown",
      "source": [
        "As an example, consider the data stored in `wage_vs_hapiness.json`:"
      ],
      "metadata": {
        "id": "NwZ7s5CZBsgh"
      }
    },
    {
      "cell_type": "code",
      "source": [
        "happy = pd.read_json('wage_vs_happiness.json', orient='table');\n",
        "happy.head()"
      ],
      "metadata": {
        "id": "ZgexAFWZ_eDH"
      },
      "execution_count": null,
      "outputs": []
    },
    {
      "cell_type": "markdown",
      "source": [
        "Getting info about the resulting DataFrame:"
      ],
      "metadata": {
        "id": "X_qTvY9jDDpU"
      }
    },
    {
      "cell_type": "code",
      "source": [
        "happy.info()"
      ],
      "metadata": {
        "id": "VUT7zdrlDIRx"
      },
      "execution_count": null,
      "outputs": []
    },
    {
      "cell_type": "markdown",
      "source": [
        "Calculating some summarizing statistics:"
      ],
      "metadata": {
        "id": "EQryPs5eDL81"
      }
    },
    {
      "cell_type": "code",
      "source": [
        "happy.describe().T"
      ],
      "metadata": {
        "id": "5xatFo1hDPMw"
      },
      "execution_count": null,
      "outputs": []
    },
    {
      "cell_type": "markdown",
      "source": [
        "The wage is expressed in 10K euros and the happiness is expressed as a score between 1 and 10.\n",
        "\n",
        "Let's plot the data:"
      ],
      "metadata": {
        "id": "fnCXF4UdDWLt"
      }
    },
    {
      "cell_type": "code",
      "source": [
        "happy.plot.scatter('wage', 'happiness');\n",
        "plt.grid();"
      ],
      "metadata": {
        "id": "Qx3-glJ9CSW4"
      },
      "execution_count": null,
      "outputs": []
    },
    {
      "cell_type": "markdown",
      "source": [
        "Let's try simple linear regression:"
      ],
      "metadata": {
        "id": "78E6KSRMEp3b"
      }
    },
    {
      "cell_type": "code",
      "source": [
        "X, y = happy[['wage']].values, happy['happiness'].values  # feature, target\n",
        "\n",
        "linreg = LinearRegression()\n",
        "linreg.fit(X, y)\n",
        "linreg.score(X, y)  # R²"
      ],
      "metadata": {
        "id": "guf9UrMnE1rP"
      },
      "execution_count": null,
      "outputs": []
    },
    {
      "cell_type": "markdown",
      "source": [
        "And plot the result:"
      ],
      "metadata": {
        "id": "lVgy_BIIFEoR"
      }
    },
    {
      "cell_type": "code",
      "source": [
        "happy.plot.scatter('wage', 'happiness');\n",
        "plt.grid();\n",
        "Xline = np.array([[0], [20]])\n",
        "plt.plot(Xline, linreg.predict(Xline), 'r-');"
      ],
      "metadata": {
        "id": "mz1LsuZTFH-m"
      },
      "execution_count": null,
      "outputs": []
    },
    {
      "cell_type": "markdown",
      "source": [
        "This is clearly a non-linear relation as the increase in happiness is less when the wage is high."
      ],
      "metadata": {
        "id": "LSnZEkajDsVd"
      }
    },
    {
      "cell_type": "markdown",
      "source": [
        "We may use the Scikit-Learn's `PolynomialFeatures` class to preprocess feature `X`, but using NumPy function `polyfit()` is more straightforward. Let's try a polynomial of degree 15:"
      ],
      "metadata": {
        "id": "lVbll2JAI6Zh"
      }
    },
    {
      "cell_type": "code",
      "source": [
        "X = X.flatten()               # polyfit wants 1D array!\n",
        "a = np.polyfit(X, y, deg=15)  # polynomial fit of degree 15"
      ],
      "metadata": {
        "id": "-1S0z4MIEzn4"
      },
      "execution_count": null,
      "outputs": []
    },
    {
      "cell_type": "markdown",
      "source": [
        "Using function `polyval()` the predictions can be calculated:"
      ],
      "metadata": {
        "id": "2P5Hf-XMJ120"
      }
    },
    {
      "cell_type": "code",
      "source": [
        "from sklearn.metrics import r2_score  # import function to calculate R² score\n",
        "\n",
        "yp = np.polyval(a, X)          # predictions\n",
        "r2_score(y_true=y, y_pred=yp)  # R² score"
      ],
      "metadata": {
        "id": "3cBEwa9DKCwc"
      },
      "execution_count": null,
      "outputs": []
    },
    {
      "cell_type": "markdown",
      "source": [
        "Now we get a R² score of 0.87, which indicates the polynomial fit is significantly better than the linear regression! Let's plot the corresponding regression curve:"
      ],
      "metadata": {
        "id": "5V6mPsP9KUa3"
      }
    },
    {
      "cell_type": "code",
      "source": [
        "happy.plot.scatter('wage', 'happiness');\n",
        "plt.grid();\n",
        "yl = plt.ylim()\n",
        "Xcurve = np.linspace(0, 20, 100)\n",
        "plt.plot(Xcurve, np.polyval(a, Xcurve), 'r-');\n",
        "plt.ylim(yl);"
      ],
      "metadata": {
        "id": "p1RG3HOELm3y"
      },
      "execution_count": null,
      "outputs": []
    },
    {
      "cell_type": "markdown",
      "source": [
        "Indeed, the polynomial fit captures the irregularities in the dataset better than the linear regression model. However, These irregularities can largely be attributed to **noise** in the data, and we do not want the model to take them into account!"
      ],
      "metadata": {
        "id": "SoqqpEiV1y1U"
      }
    },
    {
      "cell_type": "markdown",
      "source": [
        "#### Underfitting and Overfitting"
      ],
      "metadata": {
        "id": "5YAoVbnHpVJ2"
      }
    },
    {
      "cell_type": "markdown",
      "source": [
        "It's clear the linear regression model resulting in a straight line is too simple to express the relation between wage and happiness. Actually, it is an example of **underfitting**. However, the polynomial model of degree 15 is too specific, and probably, it will not perform well on new data. This is called **overfitting**.\n",
        "\n",
        "So how can we find the right model that does not suffer from underfitting nor overfitting? How do we obtain a good balance between **optimization**, which fits the data as best as possible during training, and **generalization**, which assures a good model performance on new data during inference?"
      ],
      "metadata": {
        "id": "Koj9xTEdLWM_"
      }
    },
    {
      "cell_type": "markdown",
      "source": [
        "![image.png](data:image/png;base64,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)"
      ],
      "metadata": {
        "id": "rxsRb8cRf5Bf"
      }
    },
    {
      "cell_type": "markdown",
      "source": [
        "One best practice in machine learning is to reserve a part of the dataset for **validation** only. That implies a given dataset is split into a training set and a validation set, where the first is used to derive the optimal parameter values, and the latter to evaluate the trained model. In case of overfitting, the model will perform very well on the training data yet poorly on the validation data that are not being used to optimize the parameters.\n",
        "\n",
        "Let's bring that into practice. First we import Scikit-Learn function `train_test_split()`:"
      ],
      "metadata": {
        "id": "Jl66lo3W8i_L"
      }
    },
    {
      "cell_type": "code",
      "source": [
        "from sklearn.model_selection import train_test_split"
      ],
      "metadata": {
        "id": "wnqUzyzyzEze"
      },
      "execution_count": null,
      "outputs": []
    },
    {
      "cell_type": "markdown",
      "source": [
        "Now we split the dataset into a training and validation set:"
      ],
      "metadata": {
        "id": "quFkrd8H-LWe"
      }
    },
    {
      "cell_type": "code",
      "source": [
        "X, y = happy[['wage']].values, happy['happiness'].values  # feature, target\n",
        "\n",
        "X_train, X_val, y_train, y_val = train_test_split(X, y,\n",
        "                                                  test_size=0.5,   # 50% is used for validation\n",
        "                                                  random_state=0)  # set random seed"
      ],
      "metadata": {
        "id": "JA90Cp9N1Jbn"
      },
      "execution_count": null,
      "outputs": []
    },
    {
      "cell_type": "markdown",
      "source": [
        "So 50% of the data are used to for training and the remaining 50% for validation. The selection of samples happens randomly. For didactic purposes, we've set the random seed; in practice, it is not recommended to do so. Also notice the use of the term *test* instead of *validate*. The difference between validation and testing will be addressed below."
      ],
      "metadata": {
        "id": "0j4tcu8K-rP0"
      }
    },
    {
      "cell_type": "markdown",
      "source": [
        "Let's plot the data points used for training (blue) and validation (red) to see if they are randomly selected indeed:"
      ],
      "metadata": {
        "id": "VGN7zarHARMi"
      }
    },
    {
      "cell_type": "code",
      "source": [
        "plt.plot(X_train.flatten(), y_train, 'b.', label='training set');\n",
        "plt.plot(X_val.flatten(), y_val, 'r.', label='validation set');\n",
        "plt.legend();\n",
        "plt.xlabel('wage');\n",
        "plt.ylabel('happiness');\n",
        "plt.grid();"
      ],
      "metadata": {
        "id": "E7n-R8nP1ye0"
      },
      "execution_count": null,
      "outputs": []
    },
    {
      "cell_type": "markdown",
      "source": [
        "Looks fine! Let's now illustrate how training and validation data are used by applying simple linear regression first, which we've already discussed above:"
      ],
      "metadata": {
        "id": "iGiLk-lPAnRC"
      }
    },
    {
      "cell_type": "code",
      "source": [
        "linreg = LinearRegression()\n",
        "linreg.fit(X_train, y_train)\n",
        "print(f\"training: {linreg.score(X_train, y_train)}\")\n",
        "print(f\"validation: {linreg.score(X_val, y_val)}\")"
      ],
      "metadata": {
        "id": "08ikovEuzLpD"
      },
      "execution_count": null,
      "outputs": []
    },
    {
      "cell_type": "markdown",
      "source": [
        "So the *fitting is performed on the training data only*, after which the resulting model is evaluated using both the training and validation data! It is seen the model still performs well: R² score is 0.79 and 0.80, respectively, for the training and the validation set."
      ],
      "metadata": {
        "id": "vUZUH9rQBH06"
      }
    },
    {
      "cell_type": "markdown",
      "source": [
        "How about fitting the data using a polynomial of degree 15, like we did before?"
      ],
      "metadata": {
        "id": "wPlFeTijRSnb"
      }
    },
    {
      "cell_type": "code",
      "source": [
        "a = np.polyfit(X_train.flatten(), y_train, deg=15)  # polynomial fit of degree 15\n",
        "print(f\"training: {r2_score(y_true=y_train, y_pred=np.polyval(a, X_train.flatten()))}\")\n",
        "print(f\"validation: {r2_score(y_true=y_val, y_pred=np.polyval(a, X_val.flatten()))}\")"
      ],
      "metadata": {
        "id": "YSZfe4X2Rfs6"
      },
      "execution_count": null,
      "outputs": []
    },
    {
      "cell_type": "markdown",
      "source": [
        "The model has a score of 0.88 on the training set, but a lower score of 0.86 on the validation set, which may indicate there is overfitting indeed."
      ],
      "metadata": {
        "id": "GB-2Zij-SKvS"
      }
    },
    {
      "cell_type": "markdown",
      "source": [
        "To find the optimal degree of the polynomial fit, we can loop over a range of degrees, say from 1 to 20, while evaluating each model on both the training and validation set. The evaluation **metric** we will use here is the **mean absolute error** (MAE), which is defined in a very similar way as the MSE, except it considers the absolute value of the residuals instead of the square:\n",
        "\n",
        "> $MAE = \\frac{1}{n} \\sum_{i=1}^n |y_i - \\hat{y}_i|$\n",
        "\n",
        "The MAE has the advantage that it is has the same unit as the target."
      ],
      "metadata": {
        "id": "NPNkRth3U6yI"
      }
    },
    {
      "cell_type": "code",
      "source": [
        "from sklearn.metrics import mean_absolute_error as MAE  # import MAE function\n",
        "\n",
        "mae_train = []  # list of MAEs of training data\n",
        "mae_val = []    # list of MAEs of validation data\n",
        "coef = []       # list of coefficients\n",
        "degrees = range(1, 21)  # range of degrees of polynomial function\n",
        "\n",
        "for degree in degrees:  # loop through degrees\n",
        "\n",
        "    a = np.polyfit(X_train.flatten(), y_train, degree)  # polynomial fit of training data\n",
        "    yp_train = np.polyval(a, X_train.flatten())         # predictions of training data\n",
        "    yp_val = np.polyval(a, X_val.flatten())             # predictions of validation data\n",
        "\n",
        "    coef.append(a)  # coefficients\n",
        "    mae_train.append(MAE(y_true=y_train, y_pred=yp_train))  # MAE of training data\n",
        "    mae_val.append(MAE(y_true=y_val, y_pred=yp_val))        # MAE of validation data"
      ],
      "metadata": {
        "id": "3oKqzfsa3AEn"
      },
      "execution_count": null,
      "outputs": []
    },
    {
      "cell_type": "markdown",
      "source": [
        "Let's plot the result using a Matplotlib animation:"
      ],
      "metadata": {
        "id": "T7APY1xQVLO0"
      }
    },
    {
      "cell_type": "code",
      "source": [
        "from matplotlib.animation import FuncAnimation\n",
        "from matplotlib import rc\n",
        "rc('animation', html='jshtml')\n",
        "\n",
        "# initialization\n",
        "fig, (ax1, ax2) = plt.subplots(1, 2, figsize=(12, 5))  # figure containing 2 axes\n",
        "ax1.plot(X_train.flatten(), y_train, 'b.', label='training set');\n",
        "ax1.plot(X_val.flatten(), y_val, 'r.', label='validation set');\n",
        "ax1.legend();\n",
        "xl, yl = ax1.get_xlim(), ax1.get_ylim()\n",
        "Xcurve = np.linspace(0, 20, 1000)\n",
        "regression_line = ax1.plot(Xcurve, np.polyval(coef[0], Xcurve),'k-')\n",
        "ax1.set_title('degree = 1');\n",
        "ax1.set_xlabel('wage');\n",
        "ax1.set_ylabel('happiness');\n",
        "ax1.set_xlim(xl);\n",
        "ax1.set_ylim(yl);\n",
        "ax1.grid();\n",
        "ax2.yaxis.set_label_position(\"right\");\n",
        "ax2.yaxis.tick_right();\n",
        "mae_train_line = ax2.plot(degrees[0], mae_train[0], 'b.-', label='training');\n",
        "mae_val_line = ax2.plot(degrees[0], mae_val[0], 'r.-', label='validation');\n",
        "ax2.legend();\n",
        "ax2.set_xlabel('Degree');\n",
        "ax2.set_ylabel('MAE');\n",
        "ax2.set_xlim((0, 21));\n",
        "ax2.set_ylim((0.74, 0.99));\n",
        "ax2.grid();\n",
        "\n",
        "# update function for animation\n",
        "def update(degree):\n",
        "    yplot = np.polyval(coef[degree-1], xplot)\n",
        "    regression_line[0].set_ydata(yplot)\n",
        "    ax1.set_title('degree = ' + str(degree));\n",
        "    mae_train_line[0].set_xdata(degrees[:degree])\n",
        "    mae_train_line[0].set_ydata(mae_train[:degree])\n",
        "    mae_val_line[0].set_xdata(degrees[:degree])\n",
        "    mae_val_line[0].set_ydata(mae_val[:degree])\n",
        "\n",
        "# create animation\n",
        "ani = FuncAnimation(fig, update, frames=degrees, blit=False, repeat=True)\n",
        "plt.close()\n",
        "ani"
      ],
      "metadata": {
        "id": "Dq3LcUTElINn"
      },
      "execution_count": null,
      "outputs": []
    },
    {
      "cell_type": "markdown",
      "source": [
        "The left plot displays the dataset along with the resulting regression curve, while the right plot illustrates the Mean Absolute Error (MAE) for both training and validation as a function of the polynomial degree. This right plot is commonly referred to as the **model complexity graph**. It quantifies the error in relation to the model's complexity, which primarily depends on the number of parameters. In other words, the more parameters, the more complex the model becomes. Here, the number of model parameters corresponds to the polynomial degree plus one. The degree itself is considered a **hyperparameter**, as it is set by the user rather than derived by the machine learning algorithm."
      ],
      "metadata": {
        "id": "Hf7JKbCqylKM"
      }
    },
    {
      "cell_type": "markdown",
      "source": [
        "Let's plot the final version of the model complexity graph displaying all degrees:"
      ],
      "metadata": {
        "id": "oYySNmB5y0cL"
      }
    },
    {
      "cell_type": "code",
      "source": [
        "plt.plot(degrees, mae_train, 'b.-', label='training');\n",
        "plt.plot(degrees, mae_val, 'r.-', label='validation');\n",
        "plt.legend();\n",
        "plt.xlabel('Degree');\n",
        "plt.ylabel('MAE');\n",
        "plt.grid();"
      ],
      "metadata": {
        "id": "KonpP2uMxGF7"
      },
      "execution_count": null,
      "outputs": []
    },
    {
      "cell_type": "markdown",
      "source": [
        "Upon closer examination of the model complexity graph, we observe that the blue curve (representing training MAE) consistently decreases with increasing degree. However, the red curve (indicating validation MAE) initially decreases but starts rising again beyond degree 5. This behavior suggests that overfitting occurs for degrees higher than 5, implying that the optimal degree for this model is 5! So we finally fit the complete dataset using a polynomial fit of degree 5 and evaluate this final model:"
      ],
      "metadata": {
        "id": "FD1Qx0BAxgC8"
      }
    },
    {
      "cell_type": "code",
      "source": [
        "a = np.polyfit(X.flatten(), y, deg=5)\n",
        "yp = np.polyval(a, X.flatten())\n",
        "MAE(y_true=y, y_pred=yp)"
      ],
      "metadata": {
        "id": "4L2L1Ut_3kHZ"
      },
      "execution_count": null,
      "outputs": []
    },
    {
      "cell_type": "markdown",
      "source": [
        "We achieve a mean difference of 0.77 between the true and predicted happiness score when estimating one's happiness based on the wage. Let's plot the resulting regression curve:"
      ],
      "metadata": {
        "id": "0H7ynTPWYm6l"
      }
    },
    {
      "cell_type": "code",
      "source": [
        "happy.plot.scatter(x='wage', y='happiness');\n",
        "Xcurve = np.linspace(0, 20, 100)\n",
        "plt.plot(Xcurve, np.polyval(a, Xcurve), 'r-');\n",
        "plt.grid();"
      ],
      "metadata": {
        "id": "uUiNFuNk32CW"
      },
      "execution_count": null,
      "outputs": []
    },
    {
      "cell_type": "markdown",
      "source": [
        "The red polynomial function of degree 5 is a better fit than the best fitting straight line obtained from linear regression. On the other hand, it appears to be less affected by irregularities in the data than a high-degree polynomial fit is affected. In conclusion, it captures well the general relationship between one's wage and happiness!"
      ],
      "metadata": {
        "id": "QpEFr7VdZgc6"
      }
    },
    {
      "cell_type": "markdown",
      "source": [
        "It is common practice to create a third dataset, the **test set**, which is used to evaluate the final model. While some hyperparameters are fine-tuned using the validation set, information may still leak from this set into the model. The test set remains free from any such information leaks, providing an excellent means to evaluate the model's performance on completely new data. Only when this final evaluation using the test set yields positive results can the model be confidently deployed."
      ],
      "metadata": {
        "id": "9WSK70ImcGGD"
      }
    },
    {
      "cell_type": "markdown",
      "source": [
        "#### Regularization"
      ],
      "metadata": {
        "id": "YfGRnMFa3jJ4"
      }
    },
    {
      "cell_type": "markdown",
      "source": [
        "Instead of looping over a range of degrees, we may apply a mathematical trick called regularization. In general, **regularization in machine learning** is a set of techniques used to reduce overfitting by penalizing model coefficients. It is beyond the scope of this workshop to delve into the mathematical details.\n",
        "\n",
        "However, as an example, **LASSO regression** is applied here that yields a regression curve which is very similar to the polynomial curve of degree 5 derived in previous section. Although we have defined a polynomial of degree 10, the regularization reduced the model's complexity by setting some of the coefficients to zero or values close to zero. The resulting MAE equal to 0.78 is very close to the score of the polynomial fit of degree 5."
      ],
      "metadata": {
        "id": "KbMbG3RsgBzz"
      }
    },
    {
      "cell_type": "code",
      "source": [
        "from sklearn.linear_model import Ridge, Lasso\n",
        "from sklearn.preprocessing import PolynomialFeatures\n",
        "from sklearn.pipeline import make_pipeline\n",
        "\n",
        "degree = 10\n",
        "\n",
        "lasso = make_pipeline(\n",
        "    PolynomialFeatures(degree, include_bias=False),\n",
        "    Lasso(alpha=0.01, tol=0.001)\n",
        ")\n",
        "\n",
        "lasso.fit(X, y);\n",
        "\n",
        "MAE(y_true=y, y_pred=lasso.predict(X))"
      ],
      "metadata": {
        "id": "yusIlgjlekho"
      },
      "execution_count": null,
      "outputs": []
    },
    {
      "cell_type": "markdown",
      "source": [
        "Let's plot the resulting regression curve that has been regularized:"
      ],
      "metadata": {
        "id": "r1SZLSuQT1Q9"
      }
    },
    {
      "cell_type": "code",
      "source": [
        "happy.plot.scatter(x='wage', y='happiness');\n",
        "xplot = np.linspace(0, 20, 100).reshape(-1, 1)\n",
        "plt.plot(xplot, lasso.predict(xplot), 'r-');\n",
        "plt.grid();"
      ],
      "metadata": {
        "id": "NFeOnrsWexQV"
      },
      "execution_count": null,
      "outputs": []
    },
    {
      "cell_type": "markdown",
      "source": [
        "## **Clustering**"
      ],
      "metadata": {
        "id": "CtUvORFNdAVO"
      }
    },
    {
      "cell_type": "markdown",
      "source": [
        "Clustering is a technique in **unsupervised learning** to partition a set of data points into groups or clusters based on their inherent **similarities**. The aim is to group together data points that are more similar to each other while being dissimilar to data points in other clusters. Unlike supervised learning, where the algorithm learns from labeled data, clustering algorithms operate on **unlabeled data**, making them particularly useful for exploring patterns and structures within datasets where the class labels are unknown or unavailable."
      ],
      "metadata": {
        "id": "tznLYXv1sAnn"
      }
    },
    {
      "cell_type": "markdown",
      "metadata": {
        "id": "KjYW1qafLA6y"
      },
      "source": [
        "### K-Means Clustering"
      ]
    },
    {
      "cell_type": "markdown",
      "metadata": {
        "id": "YvzhypB0TJjS"
      },
      "source": [
        "In the previous examples on classification, datasets were labeled. Specifically, there was a column in the dataframe that indicated to which class a data point belonged. However, labeling datasets is time-consuming, so it would be useful if we could leave that to an algorithm. And those algorithms exist! We call them clustering algorithms as they divide the data into **clusters** by themselves! So they are often applied for *preprocessing* the data."
      ]
    },
    {
      "cell_type": "markdown",
      "metadata": {
        "id": "zzSWW9uHTJgV"
      },
      "source": [
        "In this notebook, we demonstrate one of the best-known clustering algorithms: K-Means clustering. The idea behind this algorithm is as follows. The algorithm randomly chooses K points, which we call **centroids**, because it is going to place each of those points at the center of one of the K clusters. How does the algorithm do that? First, it calculates the distance of all the points to the centroids, and it assigns each point to the cluster with the centroid it is closest to. Then it moves each centroid to the center of its own cluster. It then recalculates the distances between all the data points and the new centroids, reassigns the data points to the clusters, and recalculates the position of the centroids. The algorithm keeps repeating this until the centroids stop moving and the data points are in their final cluster."
      ]
    },
    {
      "cell_type": "markdown",
      "metadata": {
        "id": "MXsLFyaPX6_Q"
      },
      "source": [
        "As an example, we apply K-Means clustering to the datasets from the section on K Nearest Neighbors. We use the class `KMeans` from Scikit-Learn for this purpose:"
      ]
    },
    {
      "cell_type": "code",
      "execution_count": null,
      "metadata": {
        "id": "xi3BqHAjYfar"
      },
      "outputs": [],
      "source": [
        "from sklearn.cluster import KMeans"
      ]
    },
    {
      "cell_type": "markdown",
      "metadata": {
        "id": "hu91NqX1ZJcF"
      },
      "source": [
        "So this time we are not going to use the column containing the labels, but let the algorithm divide the data into groups in an \"**unsupervised**\" way. We only have to specify the number of clusters K. So, as with KNN, this is a **hyperparameter**. We can also choose the distance measure. As usual, we apply the **Euclidean distance**."
      ]
    },
    {
      "cell_type": "markdown",
      "metadata": {
        "id": "4Wn8SidEBXd1"
      },
      "source": [
        "#### Example 1"
      ]
    },
    {
      "cell_type": "markdown",
      "metadata": {
        "id": "oOTeldV-aVmY"
      },
      "source": [
        "We again read the dataset `\"height_weight_sex.csv\"` and plot the data points in a scatterplot. Since we will not use the labels in column `\"sex\"`, we give all the points the same color:"
      ]
    },
    {
      "cell_type": "code",
      "execution_count": null,
      "metadata": {
        "id": "Aqlg-VqELDz1"
      },
      "outputs": [],
      "source": [
        "df = pd.read_csv(\"height_weight_sex.csv\")\n",
        "df.plot.scatter(x='height', y='weight')\n",
        "plt.grid()"
      ]
    },
    {
      "cell_type": "markdown",
      "metadata": {
        "id": "vgYFkAZPbhxH"
      },
      "source": [
        "We only need the **features** `\"height\"` and `\"weight\"`. We convert these again to a NumPy array `X`:"
      ]
    },
    {
      "cell_type": "code",
      "execution_count": null,
      "metadata": {
        "id": "k9wd2Wa2-vgi"
      },
      "outputs": [],
      "source": [
        "X = df[['height', 'weight']].values"
      ]
    },
    {
      "cell_type": "markdown",
      "metadata": {
        "id": "BBMoPLKTbypL"
      },
      "source": [
        "To apply the K-means algorithm, we need to instantiate class `KMeans`. We have to specify the number of clusters K by passing input parameter `n_clusters`. We know that there are 2 classes, so we specify 2 as the input argument. The algorithm randomly determines the initial position of the 2 centroids, and so it uses a random number generator. By setting input parameter `random_state` we can specify the seed of that generator (although we are not allowed to do that when solving real-world problems!):"
      ]
    },
    {
      "cell_type": "code",
      "execution_count": null,
      "metadata": {
        "id": "EU7djSbQ-wpj"
      },
      "outputs": [],
      "source": [
        "model = KMeans(n_clusters=2, random_state=20)  # K = 2\n",
        "model.fit(X)  # only pass X!"
      ]
    },
    {
      "cell_type": "markdown",
      "metadata": {
        "id": "we8gh04bcxa6"
      },
      "source": [
        "Remarkably, we only need to pass array `X` with features to method `fit`, and no array `y` with labels, because it is an **unsupervised learning** algorithm!"
      ]
    },
    {
      "cell_type": "markdown",
      "metadata": {
        "id": "7wmcVQWLd4C9"
      },
      "source": [
        "Now if we want to know the labels, we can pass `X` to method `predict`:"
      ]
    },
    {
      "cell_type": "code",
      "execution_count": null,
      "metadata": {
        "id": "tV70lwxrd_vb"
      },
      "outputs": [],
      "source": [
        "yp = model.predict(X)  # predicted labels"
      ]
    },
    {
      "cell_type": "markdown",
      "metadata": {
        "id": "xkdJW7xIeA47"
      },
      "source": [
        "Attention! The algorithm may have given the classes a different id, because it does not know the ids used in the dataset! To check that, we extract the labels from the dataset, assign them to variable `y`, and calculate the accuracy:"
      ]
    },
    {
      "cell_type": "code",
      "execution_count": null,
      "metadata": {
        "id": "Wm7JGgPh-4oG"
      },
      "outputs": [],
      "source": [
        "y = (df.sex==\"f\").values.astype(int)  # de real labels\n",
        "(y == yp).sum() / len(y)  # accuracy = number of correct predictions divided by total number of data points"
      ]
    },
    {
      "cell_type": "markdown",
      "metadata": {
        "id": "wbH-c2kAe6ZU"
      },
      "source": [
        "96% of the labels are predicted correctly. Had we gotten 4% as the result, we had to flip the labels as follows:\n",
        "\n",
        "```python\n",
        "b = yp == 1\n",
        "yp[b] = 0\n",
        "yp[~b] = 1\n",
        "```"
      ]
    },
    {
      "cell_type": "markdown",
      "metadata": {
        "id": "RqeMegfrgBr4"
      },
      "source": [
        "Now let's predict again whether the 3 new individuals with known height and weight are male or female:"
      ]
    },
    {
      "cell_type": "code",
      "execution_count": null,
      "metadata": {
        "id": "O4VYBK_tA_ZK"
      },
      "outputs": [],
      "source": [
        "X_new = np.array([[165, 55],   # person of 165cm and 55kg\n",
        "                  [185, 70],   # person of 185cm and 70kg\n",
        "                  [175, 65]])  # person of 175cm and 65kg\n",
        "model.predict(X_new)"
      ]
    },
    {
      "cell_type": "markdown",
      "metadata": {
        "id": "FM8Ar-gFgVMD"
      },
      "source": [
        "The third person now belongs to the cluster with women! To see why, we again create a scatterplot showing the 3 new data points. To do that effeciently, we add the predicted labels to the data frame:"
      ]
    },
    {
      "cell_type": "code",
      "execution_count": null,
      "metadata": {
        "id": "BZDgTPR__4cF"
      },
      "outputs": [],
      "source": [
        "df['prediction'] = np.array(['m', 'f'])[yp]  # 'm' is 0 and 'f' is 1\n",
        "df.head()"
      ]
    },
    {
      "cell_type": "markdown",
      "metadata": {
        "id": "wOC1IJW-gq8a"
      },
      "source": [
        "We now make 2 scatterplots: in the left plot the data points are colored according to the true labels, and in the right plot according to the clusters:"
      ]
    },
    {
      "cell_type": "code",
      "execution_count": null,
      "metadata": {
        "id": "f6NQcO3H_d5u"
      },
      "outputs": [],
      "source": [
        "_, (ax1, ax2) = plt.subplots(nrows=1, ncols=2, sharey=True)\n",
        "df.loc[df.sex=='f', :].plot.scatter(x='height', y='weight', c='g', ax=ax1)\n",
        "df.loc[df.sex=='m', :].plot.scatter(x='height', y='weight', c='y', ax=ax1)\n",
        "ax1.plot(X_new[:, 0], X_new[:, 1], 'ro')\n",
        "ax1.set_title(\"true labels\")\n",
        "ax1.grid()\n",
        "df.loc[df.prediction=='f', :].plot.scatter(x='height', y='weight', c='g', ax=ax2)\n",
        "df.loc[df.prediction=='m', :].plot.scatter(x='height', y='weight', c='y', ax=ax2)\n",
        "ax2.plot(X_new[:, 0], X_new[:, 1], 'ro')\n",
        "ax2.set_title(\"cluster labels\")\n",
        "ax2.grid()"
      ]
    },
    {
      "cell_type": "markdown",
      "metadata": {
        "id": "hTgHXfVlhyym"
      },
      "source": [
        "The third person is represented by the middle red point. On the right plot, we see that the 2 clusters do not overlap, and that this point is still inside the cluster with green points indeed!"
      ]
    },
    {
      "cell_type": "markdown",
      "metadata": {
        "id": "h0tLGg9CBcfj"
      },
      "source": [
        "#### Example 2"
      ]
    },
    {
      "cell_type": "markdown",
      "metadata": {
        "id": "gZ0cpumxijUD"
      },
      "source": [
        "Now try K-means clustering yourself on the dataset `\"Social_Network_Ads.csv\"`. Read the file and create a scatterplot without considering the labels:"
      ]
    },
    {
      "cell_type": "code",
      "execution_count": null,
      "metadata": {
        "id": "Ibzd5JiOBcfj"
      },
      "outputs": [],
      "source": []
    },
    {
      "cell_type": "markdown",
      "metadata": {
        "id": "98ZgZZqxi3-4"
      },
      "source": [
        "Put the columns with **features** `\"Age\"` and `\"EstimatedSalary\"` into NumPy array `X`:"
      ]
    },
    {
      "cell_type": "code",
      "execution_count": null,
      "metadata": {
        "id": "hmPsCxxwBcfk"
      },
      "outputs": [],
      "source": []
    },
    {
      "cell_type": "markdown",
      "metadata": {
        "id": "9dPLJFZFjEMx"
      },
      "source": [
        "Apply K-means with K = 2:"
      ]
    },
    {
      "cell_type": "code",
      "execution_count": null,
      "metadata": {
        "id": "j5q0APoNBcfl"
      },
      "outputs": [],
      "source": []
    },
    {
      "cell_type": "markdown",
      "metadata": {
        "id": "HkrvDQcjjRr4"
      },
      "source": [
        "Let the model **predict** the labels for the points in the dataset:\n",
        "\n"
      ]
    },
    {
      "cell_type": "code",
      "execution_count": null,
      "metadata": {
        "id": "ZGVYl7DgB-IS"
      },
      "outputs": [],
      "source": []
    },
    {
      "cell_type": "markdown",
      "metadata": {
        "id": "EkDl_oHEjcvl"
      },
      "source": [
        "Calculate the accuracy by comparing the predicted labels with the true labels:"
      ]
    },
    {
      "cell_type": "code",
      "execution_count": null,
      "metadata": {
        "id": "oKO6_7FojcCc"
      },
      "outputs": [],
      "source": []
    },
    {
      "cell_type": "markdown",
      "metadata": {
        "id": "E1w404jskBsz"
      },
      "source": [
        "Now predict again whether or not the following people will buy the product:\n",
        "- person aged 25 with about 60 000 as a salary\n",
        "- Person aged 40 with about 85 000 as salary\n",
        "- Person aged 55 with about 100 000 as salary"
      ]
    },
    {
      "cell_type": "code",
      "execution_count": null,
      "metadata": {
        "id": "Gjed6-frBcfl"
      },
      "outputs": [],
      "source": []
    },
    {
      "cell_type": "markdown",
      "metadata": {
        "id": "m0g4x1VvjrXh"
      },
      "source": [
        "Add the predictions to the data frame in a new column `\"Prediction\"`:"
      ]
    },
    {
      "cell_type": "code",
      "execution_count": null,
      "metadata": {
        "id": "D6whxdjsCLR1"
      },
      "outputs": [],
      "source": []
    },
    {
      "cell_type": "markdown",
      "metadata": {
        "id": "DrtJRD5ekMdr"
      },
      "source": [
        "Create a scatterplot showing the true labels and the cluster labels. Also add the new data points to the plots:"
      ]
    },
    {
      "cell_type": "code",
      "execution_count": null,
      "metadata": {
        "id": "5cAVe8m3Bcfl"
      },
      "outputs": [],
      "source": []
    },
    {
      "cell_type": "markdown",
      "metadata": {
        "id": "teyGxpZXXVvQ"
      },
      "source": [
        "---\n",
        "---\n",
        "## **Sources**"
      ]
    },
    {
      "cell_type": "markdown",
      "metadata": {
        "id": "jFC7pCAJg6b2"
      },
      "source": [
        "* Scikit-Learn User Guide: https://scikit-learn.org/stable/user_guide.html\n",
        "* Serrano, L. G., 2020. Grokking Machine Learning (Version 12), Manning Early Access Program, Manning Publications, 500p.\n",
        "* Chollet, F., 2021. Deep Learning with Python, 2nd edition, Manning Publications, 478p."
      ]
    },
    {
      "cell_type": "markdown",
      "source": [
        "---"
      ],
      "metadata": {
        "id": "ANRhfoGSlX0y"
      }
    }
  ],
  "metadata": {
    "colab": {
      "provenance": [],
      "gpuType": "T4",
      "toc_visible": true,
      "include_colab_link": true
    },
    "kernelspec": {
      "display_name": "Python 3 (ipykernel)",
      "language": "python",
      "name": "python3"
    },
    "language_info": {
      "codemirror_mode": {
        "name": "ipython",
        "version": 3
      },
      "file_extension": ".py",
      "mimetype": "text/x-python",
      "name": "python",
      "nbconvert_exporter": "python",
      "pygments_lexer": "ipython3",
      "version": "3.10.4"
    },
    "gpuClass": "standard"
  },
  "nbformat": 4,
  "nbformat_minor": 0
}