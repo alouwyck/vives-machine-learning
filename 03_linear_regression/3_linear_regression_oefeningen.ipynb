{
  "cells": [
    {
      "cell_type": "markdown",
      "metadata": {
        "id": "view-in-github",
        "colab_type": "text"
      },
      "source": [
        "<a href=\"https://colab.research.google.com/github/alouwyck/vives-machine-learning/blob/main/03_linear_regression/3_linear_regression_oefeningen.ipynb\" target=\"_parent\"><img src=\"https://colab.research.google.com/assets/colab-badge.svg\" alt=\"Open In Colab\"/></a>"
      ]
    },
    {
      "cell_type": "markdown",
      "metadata": {
        "id": "p34cmLp6FrA6"
      },
      "source": [
        "<img src=\"data:image/png;base64,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\" align=\"right\" /><br>\n",
        "\n",
        "\n",
        "**MACHINE LEARNING FUNDAMENTALS**<br>\n",
        "Academiejaar 2023-2024<br>\n",
        "Andy Louwyck\n",
        "\n",
        "---\n",
        "\n",
        "\n",
        "\n",
        "---\n",
        "\n"
      ]
    },
    {
      "cell_type": "markdown",
      "metadata": {
        "id": "QUW7U5H8edQ2"
      },
      "source": [
        "# LINEAR REGRESSION: OEFENINGEN"
      ]
    },
    {
      "cell_type": "markdown",
      "source": [
        "In deze reeks van oefeningen gaan we stap voor stap het **Stochastic Gradient Descent** algoritme implementeren om lineaire regressie toe te passen op een heel eenvoudige dataset. Op het einde volgen nog enkele oefeningen met datasets uit het échte leven en daarop zullen we ook de Scikit-Learn klasse voor lineaire regressie op toepassen."
      ],
      "metadata": {
        "id": "Ln5s85Q7wcFF"
      }
    },
    {
      "cell_type": "markdown",
      "metadata": {
        "id": "SWtNnU8XoMmf"
      },
      "source": [
        "## Een eenvoudig voorbeeld"
      ]
    },
    {
      "cell_type": "markdown",
      "source": [
        "Zoals gezegd beginnen we met een heel eenvoudige dataset met huisprijzen. Je mag dat gerust de 'hello world' van de regressie in machine learning noemen..."
      ],
      "metadata": {
        "id": "y8kAJTQHxDDF"
      }
    },
    {
      "cell_type": "markdown",
      "metadata": {
        "id": "vcf9Nzl8oRMA"
      },
      "source": [
        "### Oefening 1"
      ]
    },
    {
      "cell_type": "markdown",
      "metadata": {
        "id": "vUkZSaqgoTki"
      },
      "source": [
        "Lees de file `\"huizen1.csv\"` in als Pandas `DataFrame`, verken de data en plot de gegevens uit in een scatterplot (`x = 'num_rooms'` en `y = 'price'`)."
      ]
    },
    {
      "cell_type": "code",
      "source": [],
      "metadata": {
        "id": "IuKVNVX2oZ6K"
      },
      "execution_count": null,
      "outputs": []
    },
    {
      "cell_type": "markdown",
      "source": [
        "Definieer dan een functie `calculate_price()` die de volgende formule implementeert:\n",
        "\n",
        "```python\n",
        "price = 100 + 50 * num_rooms\n",
        "```\n",
        "\n",
        "De inputparameter is dus het aantal kamers `num_rooms`, de returnwaarde van de functie is de prijs `price`.\n",
        "\n",
        "Gebruik je functie om de prijs te berekenen van een huis met 4 kamers. Voeg dit voorbeeld toe aan het dataframe en maak een nieuwe scatterplot met adhv dit uitgebreide dataframe."
      ],
      "metadata": {
        "id": "npLa6CYLoXlL"
      }
    },
    {
      "cell_type": "code",
      "source": [],
      "metadata": {
        "id": "4xCX8ZMkobpZ"
      },
      "execution_count": null,
      "outputs": []
    },
    {
      "cell_type": "markdown",
      "metadata": {
        "id": "-4vVr9o4saPI"
      },
      "source": [
        "## Een tweede probleem"
      ]
    },
    {
      "cell_type": "markdown",
      "source": [
        "De vorige oefening was natuurlijk heel simpel.\n",
        "Laten we nu naar een gelijkaardige maar iets realistischer dataset kijken (hoewel die nog steeds zeer eenvoudig is...)"
      ],
      "metadata": {
        "id": "dTrLTB_Syi-x"
      }
    },
    {
      "cell_type": "markdown",
      "metadata": {
        "id": "HN05ZDO_s33I"
      },
      "source": [
        "### Oefening 2"
      ]
    },
    {
      "cell_type": "markdown",
      "metadata": {
        "id": "ziw8eFOus6Eu"
      },
      "source": [
        "Lees de file `\"huizen2.csv\"` in als Pandas `DataFrame`, verken opnieuw de data en plot de gegevens uit in een scatterplot (`x = 'num_rooms'` en `y = 'price'`).\n",
        "\n",
        "De tabel bevat nu wel een rij voor een huis met 4 kamers, maar bij de prijs zie je nu `NaN` staan, wat \"Not-a-Number\" betekent en dus wil zeggen dat de prijs niet gekend is. Bij het plotten wordt deze rij automatisch overgeslagen.\n",
        "\n",
        "Vervang de `NaN`-waarde in je dataframe door de prijs die je met de functie `calculate_price()` hebt berekend. Maak opnieuw een scatterplot met het aangepaste dataframe.\n",
        "\n",
        "Probeer de `NaN`-waarde op een slimme manier te vervangen door bijvoorbeeld gebruik te maken van boolean indexing."
      ]
    },
    {
      "cell_type": "code",
      "source": [],
      "metadata": {
        "id": "NpllgiTsogMl"
      },
      "execution_count": null,
      "outputs": []
    },
    {
      "cell_type": "code",
      "source": [],
      "metadata": {
        "id": "jG-HwgkEoh6I"
      },
      "execution_count": null,
      "outputs": []
    },
    {
      "cell_type": "markdown",
      "metadata": {
        "id": "FV2hy9ZF0ZiS"
      },
      "source": [
        "## Een eerste algoritme"
      ]
    },
    {
      "cell_type": "markdown",
      "source": [
        "In machine learning is het de bedoeling om een **algoritme** op de data toe te passen dat resulteert in een **model** waarmee we de prijs kunnen voorspellen van een huis met om het even welk aantal kamers. Laten we nu eens stap voor stap zo'n algoritme uitwerken!"
      ],
      "metadata": {
        "id": "GCOYusb2zw2X"
      }
    },
    {
      "cell_type": "markdown",
      "metadata": {
        "id": "YqDZo5jq7lHQ"
      },
      "source": [
        "### Oefening 3"
      ]
    },
    {
      "cell_type": "markdown",
      "source": [
        "We beginnen met eerst zelf een model te definiëren waarmee we voorspellingen (**predicties**) kunnen maken over de prijs van een huis. De huisprijs is dus de **target**. In feite hebben we in de voorgaande oefeningen al zo'n model gedefinieerd om die prijs te voorspellen a.d.h.v. slechts één **feature**, nl. het aantal kamers. Hier gaan we dat model uitbreiden zodat het de voorspelling baseert op 3 features: niet alleen het aantal kamers, maar ook een basisprijs en de prijs per kamer."
      ],
      "metadata": {
        "id": "2UogYg-x1gEP"
      }
    },
    {
      "cell_type": "markdown",
      "metadata": {
        "id": "hcil3lQR7oyp"
      },
      "source": [
        "Definieer een functie `predict_price()` die als inputparameters `base_price`, `price_per_room` en `num_rooms` heeft. De output is de prijs (`price`) die als volgt wordt berekend:\n",
        "\n",
        "```python\n",
        "price = base_price + price_per_room * num_rooms\n",
        "```\n",
        "\n",
        "Werkt je functie ook met NumPy arrays? Test dit uit!\n"
      ]
    },
    {
      "cell_type": "code",
      "source": [],
      "metadata": {
        "id": "pVyVU_YAolUb"
      },
      "execution_count": null,
      "outputs": []
    },
    {
      "cell_type": "code",
      "source": [],
      "metadata": {
        "id": "YMw2Ww4xolQ6"
      },
      "execution_count": null,
      "outputs": []
    },
    {
      "cell_type": "markdown",
      "metadata": {
        "id": "TH-SNU6O0j_H"
      },
      "source": [
        "### Oefening 4"
      ]
    },
    {
      "cell_type": "markdown",
      "source": [
        "Dit model geeft op het eerste gezicht al vrij nauwkeurige voorspellingen, maar machine learning gaat over het toepassen van algoritmen die 'leren uit de data', en dus is het niet de bedoeling dat we zelf modellen gaan 'uitvinden'.\n",
        "\n",
        "Concreet willen we hier dus een algoritme ontwikkelen dat een model creëert om voorspellingen te maken van de prijs van huizen waarbij die *voorspellingen zo dicht mogelijk liggen bij de prijzen uit onze dataset*. We moeten dus een **supervised learning** algoritme ontwikkelen omdat de dataset al voorbeelden bevat van onze target, nl. de prijs van de huizen.\n",
        "\n",
        "We starten met een eenvoudige truc toe te passen: we passen de features een klein beetje aan naargelang de gegeven prijs groter of kleiner is dan de voorspelde prijs."
      ],
      "metadata": {
        "id": "wTDKst8u1n-9"
      }
    },
    {
      "cell_type": "markdown",
      "metadata": {
        "id": "cRBtUdZp0etP"
      },
      "source": [
        "Definieer een functie `simple_trick()` die het volgende algoritme in pseudocode omzet naar Python code:\n",
        "\n",
        "```\n",
        "Case 1: If the price of the house is higher than the price the model predicted, and the\n",
        "number of rooms is positive:\n",
        "- Add 1 cent to the price per room\n",
        "- Add 1 cent to the base price.\n",
        "\n",
        "Case 2: If the price of the house is higher than the price the model predicted, and the\n",
        "number of rooms is negative:\n",
        "- Subtract 1 cent to the price per room\n",
        "- Add 1 cent to the base price.\n",
        "\n",
        "Case 3: If the price of the house is lower than the price the model predicted, and the\n",
        "number of rooms is negative:\n",
        "- Add 1 cent to the price per room\n",
        "- Subtract 1 cent to the base price.\n",
        "\n",
        "Case 4: If the price of the house is lower than the price the model predicted, and the\n",
        "number of rooms is positive:\n",
        "- Subtract 1 cent to the price per room\n",
        "- Subtract 1 cent to the base price.\n",
        "\n",
        "```\n",
        "\n",
        "De inputparameters van de functie zijn: `base_price`, `price_per_room`, `num_rooms`, `price` en `step`. De laatste parameter zet je default op 0.01, wat overeenkomt met die 1 cent uit het algoritme hierboven. De output is een tuple met de aangepaste `base_price` en `price_per_room`. Maak gebruik van de functie `predict_price()` uit de vorige oefening en test je code uit!"
      ]
    },
    {
      "cell_type": "markdown",
      "source": [
        "*Opmerking*: In realiteit kan het aantal kamers nooit negatief zijn, maar wiskundig gezien kan dit wel, en dus moeten we ook rekening houden met die onrealistische cases 2 en 3. Onderstaande figuur beeldt dit mooi uit."
      ],
      "metadata": {
        "id": "MKDCbwM25PmK"
      }
    },
    {
      "cell_type": "markdown",
      "source": [
        "![image.png](data:image/png;base64,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)"
      ],
      "metadata": {
        "id": "N8_GJ88EMI-X"
      }
    },
    {
      "cell_type": "code",
      "source": [],
      "metadata": {
        "id": "OfnkyfhMopZb"
      },
      "execution_count": null,
      "outputs": []
    },
    {
      "cell_type": "code",
      "source": [],
      "metadata": {
        "id": "yosBAzj0opWD"
      },
      "execution_count": null,
      "outputs": []
    },
    {
      "cell_type": "markdown",
      "metadata": {
        "id": "N8tEpg_vyU3s"
      },
      "source": [
        "### Oefening 5"
      ]
    },
    {
      "cell_type": "markdown",
      "source": [
        "De volgende stap bestaat erin om een eenvoudig algoritme te implementeren dat gebruik maakt van onze 'simple trick' uit de vorige oefening."
      ],
      "metadata": {
        "id": "PjIIOnq48rob"
      }
    },
    {
      "cell_type": "markdown",
      "source": [
        "Definieer een functie `simple_algorithm()` die een dataframe als input krijgt met kolommen `num_rooms` en `price`. Deze functie heeft ook nog `num_iterations` als inputparameter en `step` die standaard 0.01 is. De functie bepaalt eerst een random `base_price` en `price_per_room`. Daarna past het `num_iterations` keer deze `base_price` en `price_per_room` aan door de functie `simple_trick` uit de vorige oefening aan te roepen. De `num_rooms` en `price` inputargumenten voor deze functie worden uit het dataframe gehaald, waarbij in elke iteratie willekeurig een voorbeeld (record of rij) uit dit dataframe wordt geselecteerd.\n"
      ],
      "metadata": {
        "id": "S-4fTjth9DTi"
      }
    },
    {
      "cell_type": "markdown",
      "metadata": {
        "id": "KbR2pG0CyZDd"
      },
      "source": [
        "\n",
        "Pseudocode:\n",
        "```\n",
        "0. Initialisatie: start met willekeurige waarden voor de basisprijs en de prijs per kamer\n",
        "\n",
        "1. Iteraties: herhaal veelvuldig\n",
        "  - kies een willekeurig huis\n",
        "  - gebruik dit datapunt om de basisprijs en prijs per kamer aan te passen\n",
        "    zodat het model de prijs van het huis beter voorspelt\n",
        "\n",
        "2. Output: geef de uiteindelijke basisprijs en prijs per kamer terug\n",
        "```"
      ]
    },
    {
      "cell_type": "code",
      "source": [],
      "metadata": {
        "id": "j_CvZdiLouHl"
      },
      "execution_count": null,
      "outputs": []
    },
    {
      "cell_type": "markdown",
      "source": [
        "Pas de functie toe op de dataset uit `'huizen2.csv'`."
      ],
      "metadata": {
        "id": "VD824gsqJTzI"
      }
    },
    {
      "cell_type": "code",
      "source": [],
      "metadata": {
        "id": "MspWlxeaoxPI"
      },
      "execution_count": null,
      "outputs": []
    },
    {
      "cell_type": "markdown",
      "metadata": {
        "id": "mWI12ScMeGvI"
      },
      "source": [
        "Maak een plot van de regressielijn die het algoritme gevonden heeft. Plot ook duidelijk de intercept!"
      ]
    },
    {
      "cell_type": "code",
      "source": [],
      "metadata": {
        "id": "5K-ya4K3oyUe"
      },
      "execution_count": null,
      "outputs": []
    },
    {
      "cell_type": "markdown",
      "metadata": {
        "id": "5pX14Z-VAsHj"
      },
      "source": [
        "## Een beter algoritme"
      ]
    },
    {
      "cell_type": "markdown",
      "source": [
        "Ons naïef algoritme werkt al redelijk goed, maar we kunnen beter, want we kunnen een wiskundige 'truc' toepassen en de parameters aanpassen a.d.h.v. de gradiënt!"
      ],
      "metadata": {
        "id": "UwCTG1CfDR7Y"
      }
    },
    {
      "cell_type": "markdown",
      "metadata": {
        "id": "jHeFKGY8eGvJ"
      },
      "source": [
        "### Oefening 6"
      ]
    },
    {
      "cell_type": "markdown",
      "metadata": {
        "id": "jMUsDGTIAu8x"
      },
      "source": [
        "Definieer een functie `delta_trick()` die hetzelfde doet als de functie `simple_trick()`, maar de parameters als volgt aanpast:\n",
        "\n",
        "```\n",
        "1) delta = (learning_rate) * (price - prediction)\n",
        "2) delta2 = delta * num_rooms\n",
        "3) price_per_room += delta2\n",
        "4) base_price += delta\n",
        "```\n",
        "\n",
        "De inputparameters van de functie zijn dus: `base_price`, `price_per_room`, `num_rooms`, `price` en `learning_rate`. De laatste parameter zet je default op 0.01, en komt dus overeen met `step`, wat die 1 cent is uit het vorige algoritme. De output is een tuple met de aangepaste `base_price` en `price_per_room`.\n",
        "\n",
        "Maak gebruik van de functie `predict_price()` uit de vorige oefening en test je code uit!"
      ]
    },
    {
      "cell_type": "code",
      "source": [],
      "metadata": {
        "id": "BDJtSo_go3VZ"
      },
      "execution_count": null,
      "outputs": []
    },
    {
      "cell_type": "code",
      "source": [],
      "metadata": {
        "id": "wg0ORieAo2_m"
      },
      "execution_count": null,
      "outputs": []
    },
    {
      "cell_type": "markdown",
      "source": [
        "### Oefening 7"
      ],
      "metadata": {
        "id": "2iXacZKcIC47"
      }
    },
    {
      "cell_type": "markdown",
      "metadata": {
        "id": "jupTjqkCeGvJ"
      },
      "source": [
        "Definieer nu een functie `better_algorithm()` dat hetzelfde doet als de functie `simple_algorithm()`, maar de `delta_trick()` functie toepast i.p.v. `simple_trick()`. De functie krijgt dus een dataframe als input met kolommen `num_rooms` en `price`. De functie heeft ook nog `num_iterations` als inputparameter en `learning_rate` die standaard 0.01 is. Eerst wordt een random `base_price` en `price_per_room` bepaald. Daarna past het `num_iterations` keer deze `base_price` en `price_per_room` aan door de functie `delta_trick()` uit de vorige oefening aan te roepen. De `num_rooms` en `price` inputargumenten voor deze functie worden uit het dataframe gehaald, waarbij in elke iteratie willekeurig een voorbeeld (record of rij) uit dit dataframe wordt geselecteerd."
      ]
    },
    {
      "cell_type": "code",
      "source": [],
      "metadata": {
        "id": "wdyvpdiAo6Xj"
      },
      "execution_count": null,
      "outputs": []
    },
    {
      "cell_type": "markdown",
      "source": [
        "Pas opnieuw de functie toe op de `'huizen2.csv'` dataset."
      ],
      "metadata": {
        "id": "To7ef1FBJtJM"
      }
    },
    {
      "cell_type": "code",
      "source": [],
      "metadata": {
        "id": "e27MJ5iwo7Ul"
      },
      "execution_count": null,
      "outputs": []
    },
    {
      "cell_type": "markdown",
      "metadata": {
        "id": "pJNZwZMAeGvL"
      },
      "source": [
        "Maak opnieuw een plot van de regressielijn die het algoritme gevonden heeft!"
      ]
    },
    {
      "cell_type": "code",
      "source": [],
      "metadata": {
        "id": "uQFiZZg9o8Wl"
      },
      "execution_count": null,
      "outputs": []
    },
    {
      "cell_type": "markdown",
      "source": [
        "## Finale algoritme"
      ],
      "metadata": {
        "id": "KQ-d_osybMbt"
      }
    },
    {
      "cell_type": "markdown",
      "source": [
        "Het 'beter' algoritme uit de vorige oefening is het **Stochastic Gradient Descent** algoritme, dat ook gebruikt wordt voor het trainen van neurale netwerken in deep learning!\n",
        "\n",
        "In de volgende oefening gaan we de code generieker schrijven. We gaan ook gebruik maken van **epochs**. We gaan nog steeds de datapunten willekeurig doorlopen, maar we zorgen er nu wel voor dat alle datapunten aan bod komen tijdens één iteratie of epoch. Dus we krijgen nu twee lussen: een binnenste lus die de datapunten één keer willekeurig doorloopt, en een buitenste lus voor het aantal epochs. Dat aantal wordt nu ook meegegeven aan de functie, en net als de learning rate is dit een **hyperparameter**."
      ],
      "metadata": {
        "id": "WsO-hFqcPxdd"
      }
    },
    {
      "cell_type": "markdown",
      "source": [
        "### Oefening 8"
      ],
      "metadata": {
        "id": "zrZTmu69iWTB"
      }
    },
    {
      "cell_type": "markdown",
      "source": [
        "Schrijf nu een generieke functie `SGD` die het Stochastic Gradient Descent algoritme (SGD) implementeert waarbij gebruik wordt gemaakt van het principe van *epochs*, zoals hierboven uitgelegd. Pas die functie opnieuw toe op de `'huizen2.csv'` dataset. Plot je resultaat. Probeer ook om het verloop van de lossfunctie bij te houden en te plotten."
      ],
      "metadata": {
        "id": "YZnWJV2-blAz"
      }
    },
    {
      "cell_type": "code",
      "source": [],
      "metadata": {
        "id": "ht809dE4pui9"
      },
      "execution_count": null,
      "outputs": []
    },
    {
      "cell_type": "code",
      "source": [],
      "metadata": {
        "id": "nCjQugv_puPI"
      },
      "execution_count": null,
      "outputs": []
    },
    {
      "cell_type": "code",
      "source": [],
      "metadata": {
        "id": "Lm4BRQknpuL4"
      },
      "execution_count": null,
      "outputs": []
    },
    {
      "cell_type": "markdown",
      "source": [
        "### Oefening 9"
      ],
      "metadata": {
        "id": "ltbdi90_XkUC"
      }
    },
    {
      "cell_type": "markdown",
      "source": [
        " Pas nu Stochastic Gradient Descent (SGD) toe op de `zwift.csv` dataset uit de intro van dit topic. Gebruik het bekomen model om te voorspellen wat de afstand is na 2 uren fietsen.\n",
        "\n",
        " **Pas op!** We weten dat de afstand 0 km is na 0 uren fietsen. Dus we moeten hier sowieso een rechte door de oorsprong fitten! Pas de functie `SGD()` aan zodat het zeker een rechte door de oorsprong als regressielijn afleidt! Plot opnieuw het resultaat en het verloop van de lossfunctie."
      ],
      "metadata": {
        "id": "F4djYTPPUeTi"
      }
    },
    {
      "cell_type": "code",
      "source": [],
      "metadata": {
        "id": "Hb2xokDkqHUZ"
      },
      "execution_count": null,
      "outputs": []
    },
    {
      "cell_type": "code",
      "source": [],
      "metadata": {
        "id": "5cYlZcXWqHQ7"
      },
      "execution_count": null,
      "outputs": []
    },
    {
      "cell_type": "code",
      "source": [],
      "metadata": {
        "id": "K_8kslaHqHOe"
      },
      "execution_count": null,
      "outputs": []
    },
    {
      "cell_type": "markdown",
      "source": [
        "## Scikit-Learn"
      ],
      "metadata": {
        "id": "BJ1tymmKe8Nd"
      }
    },
    {
      "cell_type": "markdown",
      "source": [
        "Scikit-Learn voorziet een klasse `LinearRegression` om lineaire regressie toe te passen. De klasse maakt geen gebruik van het Stochastich Gradient Descent algoritme, maar past de methode van de **kleinste kwadraten** toe. Maak gebruik van deze klasse om de volgende oefeningen op te lossen. Er zal ook steeds gevraagd worden om je dataset op te splitsen in een **training- en testset**. De testset wordt niet gebruikt om het model te trainen, maar dient als finale evaluatie van het model: pas als het model ook nauwkeurige voorspellingen maakt voor de testset kan het in productie worden gebracht!"
      ],
      "metadata": {
        "id": "T_lNNibYiKFB"
      }
    },
    {
      "cell_type": "markdown",
      "source": [
        "### Oefening 10"
      ],
      "metadata": {
        "id": "VRsvzpOWSBQp"
      }
    },
    {
      "cell_type": "markdown",
      "source": [
        "- Lees de file \"linkedIn.csv\" in als Pandas dataframe.\n",
        "- Print de eerste 5 rijen van het dataframe uit en geef de samenvattende statistieken door gebruik te maken van de methode `describe`.\n",
        "- Maak een scatter plot van de data.\n",
        "- Splits de data op in een training- en testdataset. Stop 80% van de data in de trainingset en de rest in de testset. Tip: gebruik de Scikit-Learn functie `train_test_split`.\n",
        "- Pas lineaire regressie toe op de trainingset met als doel iemands loon te voorspellen o.b.v. het aantal connecties op LinkedIn. Bereken R² en print de rico en intercept.\n",
        "- Bereken ook de MSE. Maak hiervoor gebruik van de juiste Scikit-Learn functie!\n",
        "- Test het model op de testdataset. Bereken ook hier R² en MSE en vergelijk met de R² en MSE van de training. Wat besluit je ivm het model?\n",
        "- Teken de bekomen regressielijn op de scatter plot die je eerder hebt gemaakt.\n",
        "- Iemand in je vriendenkring heeft 252 connecties op LinkedIn. Geef een schatting van die persoons maandloon. Kan het échte maandloon van die persoon worden verhoogd door het aantal connecties op LinkedIn te verhogen?\n",
        "- Probeer tenslotte ook eens om de data te fitten met ons zelf geschreven Stochastic Gradient Descent algoritme. Veel kans dat je een \"overflow error\" zal krijgen. Hoe komt dat? Hoe zou je dat kunnen oplossen?"
      ],
      "metadata": {
        "id": "v9hta4csSDGB"
      }
    },
    {
      "cell_type": "code",
      "source": [],
      "metadata": {
        "id": "cz4Ufr0WqfRM"
      },
      "execution_count": null,
      "outputs": []
    },
    {
      "cell_type": "code",
      "source": [],
      "metadata": {
        "id": "QyL2MtNQqfNt"
      },
      "execution_count": null,
      "outputs": []
    },
    {
      "cell_type": "code",
      "source": [],
      "metadata": {
        "id": "P1zAZusVqfCg"
      },
      "execution_count": null,
      "outputs": []
    },
    {
      "cell_type": "markdown",
      "source": [
        "### Oefening 11"
      ],
      "metadata": {
        "id": "LVgUS2SnR--G"
      }
    },
    {
      "cell_type": "markdown",
      "source": [
        "- Lees de file \"50_startups.csv\" in als Pandas dataframe. De dataset kan je ook op GitHub terugvinden: https://github.com/krishnaik06/Multiple-Linear-Regression.\n",
        "- Print de eerste 5 rijen van het dataframe uit en geef de samenvattende statistieken door gebruik te maken van de methode `describe`.\n",
        "- Splits de data op in een training- en testdataset. Stop 80% van de data in de trainingset en de rest in de testset. Tip: gebruik de Scikit-Learn functie `train_test_split`.\n",
        "- Pas lineaire regressie toe op de trainingset om de winst (feature \"Profit\") te voorspellen. Welke features ga je gebruiken? Welke niet? Leg uit. Bereken de R² score en print de afgeleide parameters uit.\n",
        "- Test het model op de testdataset. Bereken ook hier R² en vergelijk met de R² van de training. Wat besluit je i.v.m. het model?"
      ],
      "metadata": {
        "id": "pVbTZWjTYFIP"
      }
    },
    {
      "cell_type": "code",
      "source": [],
      "metadata": {
        "id": "iJ6LP1NsrhAh"
      },
      "execution_count": null,
      "outputs": []
    },
    {
      "cell_type": "code",
      "source": [],
      "metadata": {
        "id": "tN_qoqlFrg9C"
      },
      "execution_count": null,
      "outputs": []
    },
    {
      "cell_type": "code",
      "source": [],
      "metadata": {
        "id": "EkRcbd1zrg6f"
      },
      "execution_count": null,
      "outputs": []
    },
    {
      "cell_type": "markdown",
      "source": [
        "## Niet-lineair verband"
      ],
      "metadata": {
        "id": "FMGUHQ1Tf9Vh"
      }
    },
    {
      "cell_type": "markdown",
      "source": [
        "In veel datasets is het verband tussen de variabelen niet lineair. In een volgende topic zullen we **polynomiale regressie** bespreken, een methode om hiermee om te gaan."
      ],
      "metadata": {
        "id": "Y0VHoK_pmgpK"
      }
    },
    {
      "cell_type": "markdown",
      "source": [
        "### Oefening 12"
      ],
      "metadata": {
        "id": "19kCbMryiBrb"
      }
    },
    {
      "cell_type": "markdown",
      "source": [
        "Om toch al een idee te krijgen wat polynomiale regressie is en hoe het werkt, bekijken we de dataset `'StudentMarks.csv'`. We zijn geïnteresseerd in het verband tussen `'time_study'` wat de tijd is dat een student heeft gestudeerd, en de `'Marks'` die de punten van de student weergeeft.\n",
        "\n",
        "De code hieronder past polynomiale regressie toe waarbij een tweedegraadsveelterm wordt gefit ipv een rechte. Wat dit juist betekent en hoe de code juist werkt, komt in het volgende topic uitvoerig aan bod! Maar je ziet wel duidelijk dat er geen rechte maar een kromme wordt gefit. Is dat ook beter in dit geval?"
      ],
      "metadata": {
        "id": "46nqkDD9gDJR"
      }
    },
    {
      "cell_type": "code",
      "source": [
        "# dataset inlezen\n",
        "\n",
        "import pandas as pd\n",
        "\n",
        "df = pd.read_csv('Student_Marks.csv')\n",
        "df.head()"
      ],
      "metadata": {
        "colab": {
          "base_uri": "https://localhost:8080/",
          "height": 206
        },
        "id": "XXZIfeJEgBSR",
        "outputId": "52492e64-d885-481b-a235-9c8269502172"
      },
      "execution_count": null,
      "outputs": [
        {
          "output_type": "execute_result",
          "data": {
            "text/plain": [
              "   number_courses  time_study   Marks\n",
              "0               3       4.508  19.202\n",
              "1               4       0.096   7.734\n",
              "2               4       3.133  13.811\n",
              "3               6       7.909  53.018\n",
              "4               8       7.811  55.299"
            ],
            "text/html": [
              "\n",
              "  <div id=\"df-fbd71146-b805-4df3-88b2-d1ca19886216\" class=\"colab-df-container\">\n",
              "    <div>\n",
              "<style scoped>\n",
              "    .dataframe tbody tr th:only-of-type {\n",
              "        vertical-align: middle;\n",
              "    }\n",
              "\n",
              "    .dataframe tbody tr th {\n",
              "        vertical-align: top;\n",
              "    }\n",
              "\n",
              "    .dataframe thead th {\n",
              "        text-align: right;\n",
              "    }\n",
              "</style>\n",
              "<table border=\"1\" class=\"dataframe\">\n",
              "  <thead>\n",
              "    <tr style=\"text-align: right;\">\n",
              "      <th></th>\n",
              "      <th>number_courses</th>\n",
              "      <th>time_study</th>\n",
              "      <th>Marks</th>\n",
              "    </tr>\n",
              "  </thead>\n",
              "  <tbody>\n",
              "    <tr>\n",
              "      <th>0</th>\n",
              "      <td>3</td>\n",
              "      <td>4.508</td>\n",
              "      <td>19.202</td>\n",
              "    </tr>\n",
              "    <tr>\n",
              "      <th>1</th>\n",
              "      <td>4</td>\n",
              "      <td>0.096</td>\n",
              "      <td>7.734</td>\n",
              "    </tr>\n",
              "    <tr>\n",
              "      <th>2</th>\n",
              "      <td>4</td>\n",
              "      <td>3.133</td>\n",
              "      <td>13.811</td>\n",
              "    </tr>\n",
              "    <tr>\n",
              "      <th>3</th>\n",
              "      <td>6</td>\n",
              "      <td>7.909</td>\n",
              "      <td>53.018</td>\n",
              "    </tr>\n",
              "    <tr>\n",
              "      <th>4</th>\n",
              "      <td>8</td>\n",
              "      <td>7.811</td>\n",
              "      <td>55.299</td>\n",
              "    </tr>\n",
              "  </tbody>\n",
              "</table>\n",
              "</div>\n",
              "    <div class=\"colab-df-buttons\">\n",
              "\n",
              "  <div class=\"colab-df-container\">\n",
              "    <button class=\"colab-df-convert\" onclick=\"convertToInteractive('df-fbd71146-b805-4df3-88b2-d1ca19886216')\"\n",
              "            title=\"Convert this dataframe to an interactive table.\"\n",
              "            style=\"display:none;\">\n",
              "\n",
              "  <svg xmlns=\"http://www.w3.org/2000/svg\" height=\"24px\" viewBox=\"0 -960 960 960\">\n",
              "    <path d=\"M120-120v-720h720v720H120Zm60-500h600v-160H180v160Zm220 220h160v-160H400v160Zm0 220h160v-160H400v160ZM180-400h160v-160H180v160Zm440 0h160v-160H620v160ZM180-180h160v-160H180v160Zm440 0h160v-160H620v160Z\"/>\n",
              "  </svg>\n",
              "    </button>\n",
              "\n",
              "  <style>\n",
              "    .colab-df-container {\n",
              "      display:flex;\n",
              "      gap: 12px;\n",
              "    }\n",
              "\n",
              "    .colab-df-convert {\n",
              "      background-color: #E8F0FE;\n",
              "      border: none;\n",
              "      border-radius: 50%;\n",
              "      cursor: pointer;\n",
              "      display: none;\n",
              "      fill: #1967D2;\n",
              "      height: 32px;\n",
              "      padding: 0 0 0 0;\n",
              "      width: 32px;\n",
              "    }\n",
              "\n",
              "    .colab-df-convert:hover {\n",
              "      background-color: #E2EBFA;\n",
              "      box-shadow: 0px 1px 2px rgba(60, 64, 67, 0.3), 0px 1px 3px 1px rgba(60, 64, 67, 0.15);\n",
              "      fill: #174EA6;\n",
              "    }\n",
              "\n",
              "    .colab-df-buttons div {\n",
              "      margin-bottom: 4px;\n",
              "    }\n",
              "\n",
              "    [theme=dark] .colab-df-convert {\n",
              "      background-color: #3B4455;\n",
              "      fill: #D2E3FC;\n",
              "    }\n",
              "\n",
              "    [theme=dark] .colab-df-convert:hover {\n",
              "      background-color: #434B5C;\n",
              "      box-shadow: 0px 1px 3px 1px rgba(0, 0, 0, 0.15);\n",
              "      filter: drop-shadow(0px 1px 2px rgba(0, 0, 0, 0.3));\n",
              "      fill: #FFFFFF;\n",
              "    }\n",
              "  </style>\n",
              "\n",
              "    <script>\n",
              "      const buttonEl =\n",
              "        document.querySelector('#df-fbd71146-b805-4df3-88b2-d1ca19886216 button.colab-df-convert');\n",
              "      buttonEl.style.display =\n",
              "        google.colab.kernel.accessAllowed ? 'block' : 'none';\n",
              "\n",
              "      async function convertToInteractive(key) {\n",
              "        const element = document.querySelector('#df-fbd71146-b805-4df3-88b2-d1ca19886216');\n",
              "        const dataTable =\n",
              "          await google.colab.kernel.invokeFunction('convertToInteractive',\n",
              "                                                    [key], {});\n",
              "        if (!dataTable) return;\n",
              "\n",
              "        const docLinkHtml = 'Like what you see? Visit the ' +\n",
              "          '<a target=\"_blank\" href=https://colab.research.google.com/notebooks/data_table.ipynb>data table notebook</a>'\n",
              "          + ' to learn more about interactive tables.';\n",
              "        element.innerHTML = '';\n",
              "        dataTable['output_type'] = 'display_data';\n",
              "        await google.colab.output.renderOutput(dataTable, element);\n",
              "        const docLink = document.createElement('div');\n",
              "        docLink.innerHTML = docLinkHtml;\n",
              "        element.appendChild(docLink);\n",
              "      }\n",
              "    </script>\n",
              "  </div>\n",
              "\n",
              "\n",
              "<div id=\"df-7767a861-9d71-4590-87e1-57c8728a34b9\">\n",
              "  <button class=\"colab-df-quickchart\" onclick=\"quickchart('df-7767a861-9d71-4590-87e1-57c8728a34b9')\"\n",
              "            title=\"Suggest charts\"\n",
              "            style=\"display:none;\">\n",
              "\n",
              "<svg xmlns=\"http://www.w3.org/2000/svg\" height=\"24px\"viewBox=\"0 0 24 24\"\n",
              "     width=\"24px\">\n",
              "    <g>\n",
              "        <path d=\"M19 3H5c-1.1 0-2 .9-2 2v14c0 1.1.9 2 2 2h14c1.1 0 2-.9 2-2V5c0-1.1-.9-2-2-2zM9 17H7v-7h2v7zm4 0h-2V7h2v10zm4 0h-2v-4h2v4z\"/>\n",
              "    </g>\n",
              "</svg>\n",
              "  </button>\n",
              "\n",
              "<style>\n",
              "  .colab-df-quickchart {\n",
              "      --bg-color: #E8F0FE;\n",
              "      --fill-color: #1967D2;\n",
              "      --hover-bg-color: #E2EBFA;\n",
              "      --hover-fill-color: #174EA6;\n",
              "      --disabled-fill-color: #AAA;\n",
              "      --disabled-bg-color: #DDD;\n",
              "  }\n",
              "\n",
              "  [theme=dark] .colab-df-quickchart {\n",
              "      --bg-color: #3B4455;\n",
              "      --fill-color: #D2E3FC;\n",
              "      --hover-bg-color: #434B5C;\n",
              "      --hover-fill-color: #FFFFFF;\n",
              "      --disabled-bg-color: #3B4455;\n",
              "      --disabled-fill-color: #666;\n",
              "  }\n",
              "\n",
              "  .colab-df-quickchart {\n",
              "    background-color: var(--bg-color);\n",
              "    border: none;\n",
              "    border-radius: 50%;\n",
              "    cursor: pointer;\n",
              "    display: none;\n",
              "    fill: var(--fill-color);\n",
              "    height: 32px;\n",
              "    padding: 0;\n",
              "    width: 32px;\n",
              "  }\n",
              "\n",
              "  .colab-df-quickchart:hover {\n",
              "    background-color: var(--hover-bg-color);\n",
              "    box-shadow: 0 1px 2px rgba(60, 64, 67, 0.3), 0 1px 3px 1px rgba(60, 64, 67, 0.15);\n",
              "    fill: var(--button-hover-fill-color);\n",
              "  }\n",
              "\n",
              "  .colab-df-quickchart-complete:disabled,\n",
              "  .colab-df-quickchart-complete:disabled:hover {\n",
              "    background-color: var(--disabled-bg-color);\n",
              "    fill: var(--disabled-fill-color);\n",
              "    box-shadow: none;\n",
              "  }\n",
              "\n",
              "  .colab-df-spinner {\n",
              "    border: 2px solid var(--fill-color);\n",
              "    border-color: transparent;\n",
              "    border-bottom-color: var(--fill-color);\n",
              "    animation:\n",
              "      spin 1s steps(1) infinite;\n",
              "  }\n",
              "\n",
              "  @keyframes spin {\n",
              "    0% {\n",
              "      border-color: transparent;\n",
              "      border-bottom-color: var(--fill-color);\n",
              "      border-left-color: var(--fill-color);\n",
              "    }\n",
              "    20% {\n",
              "      border-color: transparent;\n",
              "      border-left-color: var(--fill-color);\n",
              "      border-top-color: var(--fill-color);\n",
              "    }\n",
              "    30% {\n",
              "      border-color: transparent;\n",
              "      border-left-color: var(--fill-color);\n",
              "      border-top-color: var(--fill-color);\n",
              "      border-right-color: var(--fill-color);\n",
              "    }\n",
              "    40% {\n",
              "      border-color: transparent;\n",
              "      border-right-color: var(--fill-color);\n",
              "      border-top-color: var(--fill-color);\n",
              "    }\n",
              "    60% {\n",
              "      border-color: transparent;\n",
              "      border-right-color: var(--fill-color);\n",
              "    }\n",
              "    80% {\n",
              "      border-color: transparent;\n",
              "      border-right-color: var(--fill-color);\n",
              "      border-bottom-color: var(--fill-color);\n",
              "    }\n",
              "    90% {\n",
              "      border-color: transparent;\n",
              "      border-bottom-color: var(--fill-color);\n",
              "    }\n",
              "  }\n",
              "</style>\n",
              "\n",
              "  <script>\n",
              "    async function quickchart(key) {\n",
              "      const quickchartButtonEl =\n",
              "        document.querySelector('#' + key + ' button');\n",
              "      quickchartButtonEl.disabled = true;  // To prevent multiple clicks.\n",
              "      quickchartButtonEl.classList.add('colab-df-spinner');\n",
              "      try {\n",
              "        const charts = await google.colab.kernel.invokeFunction(\n",
              "            'suggestCharts', [key], {});\n",
              "      } catch (error) {\n",
              "        console.error('Error during call to suggestCharts:', error);\n",
              "      }\n",
              "      quickchartButtonEl.classList.remove('colab-df-spinner');\n",
              "      quickchartButtonEl.classList.add('colab-df-quickchart-complete');\n",
              "    }\n",
              "    (() => {\n",
              "      let quickchartButtonEl =\n",
              "        document.querySelector('#df-7767a861-9d71-4590-87e1-57c8728a34b9 button');\n",
              "      quickchartButtonEl.style.display =\n",
              "        google.colab.kernel.accessAllowed ? 'block' : 'none';\n",
              "    })();\n",
              "  </script>\n",
              "</div>\n",
              "    </div>\n",
              "  </div>\n"
            ]
          },
          "metadata": {},
          "execution_count": 128
        }
      ]
    },
    {
      "cell_type": "code",
      "source": [
        "# features en target\n",
        "\n",
        "X = df.time_study.values.reshape(-1, 1)  # moet 2D matrix zijn!\n",
        "y = df.Marks.values"
      ],
      "metadata": {
        "id": "GkSU2vw4lUje"
      },
      "execution_count": null,
      "outputs": []
    },
    {
      "cell_type": "code",
      "source": [
        "# polynomiale regressie toepassen\n",
        "\n",
        "from sklearn.linear_model import LinearRegression\n",
        "from sklearn.preprocessing import PolynomialFeatures\n",
        "from sklearn.pipeline import make_pipeline\n",
        "from sklearn.metrics import mean_absolute_error  # MAE score\n",
        "\n",
        "poly = make_pipeline(PolynomialFeatures(degree=2, include_bias=False), LinearRegression())\n",
        "poly.fit(X, y)  # pas op! X moet 2D zijn!\n",
        "yp = poly.predict(X)\n",
        "mean_absolute_error(y_true=y, y_pred=yp)"
      ],
      "metadata": {
        "colab": {
          "base_uri": "https://localhost:8080/"
        },
        "id": "nHF0Mph6lGsI",
        "outputId": "371cca36-1b58-44cf-d106-51e701b16fe7"
      },
      "execution_count": null,
      "outputs": [
        {
          "output_type": "execute_result",
          "data": {
            "text/plain": [
              "2.5925974596318717"
            ]
          },
          "metadata": {},
          "execution_count": 150
        }
      ]
    },
    {
      "cell_type": "code",
      "source": [
        "# resultaat plotten\n",
        "\n",
        "import matplotlib.pyplot as plt\n",
        "\n",
        "df.plot.scatter(x='time_study', y='Marks')\n",
        "xplot = np.sort(X, axis=0)\n",
        "yplot = poly.predict(xplot)\n",
        "plt.plot(xplot, yplot, 'r-');\n",
        "plt.grid();"
      ],
      "metadata": {
        "colab": {
          "base_uri": "https://localhost:8080/",
          "height": 450
        },
        "id": "T5ojYGvDlioJ",
        "outputId": "ddd0147c-623e-41c3-df40-8ca180485341"
      },
      "execution_count": null,
      "outputs": [
        {
          "output_type": "display_data",
          "data": {
            "text/plain": [
              "<Figure size 640x480 with 1 Axes>"
            ],
            "image/png": "[encoded data removed]"
          },
          "metadata": {}
        }
      ]
    },
    {
      "cell_type": "markdown",
      "source": [
        "Pas nu zelf lineaire regressie toe, bereken de MAE, en plot het resultaat. Wat concludeer je? Welk van de twee modellen presteert het best? Hoe weet je dat?"
      ],
      "metadata": {
        "id": "8caMwdKtlvIH"
      }
    },
    {
      "cell_type": "code",
      "source": [],
      "metadata": {
        "id": "XbIRCwBXrl2J"
      },
      "execution_count": null,
      "outputs": []
    },
    {
      "cell_type": "code",
      "source": [],
      "metadata": {
        "id": "c5J7koHzrlys"
      },
      "execution_count": null,
      "outputs": []
    },
    {
      "cell_type": "markdown",
      "source": [
        "---"
      ],
      "metadata": {
        "id": "zWljEGwrmInN"
      }
    }
  ],
  "metadata": {
    "colab": {
      "provenance": [],
      "toc_visible": true,
      "include_colab_link": true
    },
    "kernelspec": {
      "display_name": "Python 3",
      "language": "python",
      "name": "python3"
    },
    "language_info": {
      "codemirror_mode": {
        "name": "ipython",
        "version": 3
      },
      "file_extension": ".py",
      "mimetype": "text/x-python",
      "name": "python",
      "nbconvert_exporter": "python",
      "pygments_lexer": "ipython3",
      "version": "3.8.6"
    }
  },
  "nbformat": 4,
  "nbformat_minor": 0
}