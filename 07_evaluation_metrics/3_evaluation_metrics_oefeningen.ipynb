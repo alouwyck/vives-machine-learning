{
  "nbformat": 4,
  "nbformat_minor": 0,
  "metadata": {
    "colab": {
      "provenance": [],
      "include_colab_link": true
    },
    "kernelspec": {
      "name": "python3",
      "display_name": "Python 3"
    },
    "language_info": {
      "name": "python"
    }
  },
  "cells": [
    {
      "cell_type": "markdown",
      "metadata": {
        "id": "view-in-github",
        "colab_type": "text"
      },
      "source": [
        "<a href=\"https://colab.research.google.com/github/alouwyck/vives-machine-learning/blob/main/07_evaluation_metrics/3_evaluation_metrics_oefeningen.ipynb\" target=\"_parent\"><img src=\"https://colab.research.google.com/assets/colab-badge.svg\" alt=\"Open In Colab\"/></a>"
      ]
    },
    {
      "cell_type": "markdown",
      "metadata": {
        "id": "p34cmLp6FrA6"
      },
      "source": [
        "<img src=\"data:image/png;base64,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\" align=\"right\" /><br>\n",
        "\n",
        "\n",
        "**MACHINE LEARNING FUNDAMENTALS**<br>\n",
        "Academiejaar 2023-2024<br>\n",
        "Andy Louwyck\n",
        "\n",
        "---\n",
        "\n",
        "\n",
        "\n",
        "---\n",
        "\n"
      ]
    },
    {
      "cell_type": "markdown",
      "source": [
        "# EVALUATIEMETRIEKEN: OEFENINGEN"
      ],
      "metadata": {
        "id": "SC8EYW4esQSa"
      }
    },
    {
      "cell_type": "markdown",
      "source": [
        "## Oefening 1"
      ],
      "metadata": {
        "id": "lLIjpazTsWa5"
      }
    },
    {
      "cell_type": "markdown",
      "source": [
        "Definieer een klasse `Metrieken` die de volgende metrieken berekent in aparte methodes:\n",
        "\n",
        "- Confusion Matrix\n",
        "- Accuracy\n",
        "- Recall\n",
        "- Precision\n",
        "- $F_1$-score\n",
        "- $F_\\beta$-score\n",
        "- Sensitivity\n",
        "- Specificity\n",
        "- True Positive Rate\n",
        "- False Positive Rate\n",
        "- True Negative Rate\n",
        "- False Negative Rate\n",
        "\n",
        "Maak hier GEEN gebruik van scikit-learn!\n",
        "\n",
        "De constructor moet de labels `y` en de voorspellingen `yp` meekrijgen, die dan in gelijknamige attributen worden opgeslagen.\n",
        "\n",
        "Bereken dan eerst de True Positives, True Negatives, False Positives en False Negatives. Stop die in de respectievelijke attributen `TP`, `TN`, `FP` en `FN`. Aan de hand van die waarden kunnen dan eenvoudig alle gevraagde metrieken berekend worden.\n",
        "\n",
        "Stop de confusion matrix in een Pandas `DataFrame` en voeg er ook de totalen aan toe. Zorg ook voor een print methode die alle andere metrieken mooi oplijst. Voorzie een input parameter `ndigits` die het aantal cijfers na de komma bepaalt en standaard gelijk is aan 2."
      ],
      "metadata": {
        "id": "ZYQC_bLKsbGe"
      }
    },
    {
      "cell_type": "code",
      "source": [],
      "metadata": {
        "id": "ZHcvRyam80vI"
      },
      "execution_count": null,
      "outputs": []
    },
    {
      "cell_type": "markdown",
      "source": [
        "Maak dan gebruik van je klasse `Metrieken` om al deze metrieken te bereken en uit te printen voor de onderstaande datasets, waarbij telkens de eerste klasse 'spam' de 'positieve' klasse is.\n",
        "\n",
        "Bestudeer de resultaten zodat je voeling krijgt met de verschillende metrieken. Verzin ook zelf datasets en bestudeer de metrieken!\n",
        "\n",
        "Tip: schrijf eerst een generieke functie die de gegevens over de datasets omzet naar labels `y` en predicties `yp`."
      ],
      "metadata": {
        "id": "EuPWWVRZ1mXu"
      }
    },
    {
      "cell_type": "code",
      "source": [],
      "metadata": {
        "id": "ldkC-KHh840t"
      },
      "execution_count": null,
      "outputs": []
    },
    {
      "cell_type": "markdown",
      "source": [
        "Dataset 1:\n",
        "  - spam:\n",
        "    - total: 4\n",
        "    - misclassified: 1\n",
        "  - ham:\n",
        "    - total: 6\n",
        "    - misclassified: 2\n",
        "\n"
      ],
      "metadata": {
        "id": "RIkLVYTf6wjZ"
      }
    },
    {
      "cell_type": "code",
      "source": [],
      "metadata": {
        "id": "NoiKot0G86re"
      },
      "execution_count": null,
      "outputs": []
    },
    {
      "cell_type": "markdown",
      "source": [
        "Dataset 2:\n",
        "  - spam:\n",
        "    - total: 50\n",
        "    - misclassified: 0\n",
        "  - ham:\n",
        "    - total: 950\n",
        "    - misclassified: 0\n"
      ],
      "metadata": {
        "id": "jjv6Z1CY6zJf"
      }
    },
    {
      "cell_type": "code",
      "source": [],
      "metadata": {
        "id": "sW9_UQ668-YN"
      },
      "execution_count": null,
      "outputs": []
    },
    {
      "cell_type": "markdown",
      "source": [
        "Dataset 3:\n",
        "  - spam:\n",
        "    - total: 50\n",
        "    - misclassified: 50\n",
        "  - ham:\n",
        "    - total: 950\n",
        "    - misclassified: 950"
      ],
      "metadata": {
        "id": "32bgUm4460vm"
      }
    },
    {
      "cell_type": "code",
      "source": [],
      "metadata": {
        "id": "6Jb2lO0w8__T"
      },
      "execution_count": null,
      "outputs": []
    },
    {
      "cell_type": "markdown",
      "source": [
        "Dataset 4:\n",
        "  - spam:\n",
        "    - total: 50\n",
        "    - misclassified: 50\n",
        "  - ham:\n",
        "    - total: 950\n",
        "    - misclassified: 0"
      ],
      "metadata": {
        "id": "8mxmSiqe62H3"
      }
    },
    {
      "cell_type": "code",
      "source": [],
      "metadata": {
        "id": "vNYPoLEt9CS7"
      },
      "execution_count": null,
      "outputs": []
    },
    {
      "cell_type": "markdown",
      "source": [
        "Dataset 5:\n",
        "  - spam:\n",
        "    - total: 50\n",
        "    - misclassified: 0\n",
        "  - ham:\n",
        "    - total: 950\n",
        "    - misclassified: 950"
      ],
      "metadata": {
        "id": "wczvjy987OQD"
      }
    },
    {
      "cell_type": "code",
      "source": [],
      "metadata": {
        "id": "bPAvXAoc9GXP"
      },
      "execution_count": null,
      "outputs": []
    },
    {
      "cell_type": "markdown",
      "source": [
        "Dataset 6:\n",
        "  - spam:\n",
        "    - total: 50\n",
        "    - misclassified: 2\n",
        "  - ham:\n",
        "    - total: 950\n",
        "    - misclassified: 16"
      ],
      "metadata": {
        "id": "JuNJ9nAtBmli"
      }
    },
    {
      "cell_type": "code",
      "source": [],
      "metadata": {
        "id": "rMAZpK9w9I-D"
      },
      "execution_count": null,
      "outputs": []
    },
    {
      "cell_type": "markdown",
      "source": [
        "Dataset 7:\n",
        "  - spam:\n",
        "    - total: 50\n",
        "    - misclassified: 48\n",
        "  - ham:\n",
        "    - total: 950\n",
        "    - misclassified: 3"
      ],
      "metadata": {
        "id": "hZkN_c93-zTm"
      }
    },
    {
      "cell_type": "code",
      "source": [],
      "metadata": {
        "id": "xXaKaDuM9KXU"
      },
      "execution_count": null,
      "outputs": []
    },
    {
      "cell_type": "markdown",
      "source": [
        "Dataset 8:\n",
        "  - spam:\n",
        "    - total: 500\n",
        "    - misclassified: 324\n",
        "  - ham:\n",
        "    - total: 500\n",
        "    - misclassified: 23"
      ],
      "metadata": {
        "id": "3cUuwmvtB8jY"
      }
    },
    {
      "cell_type": "code",
      "source": [],
      "metadata": {
        "id": "VnkwNoFc9MoB"
      },
      "execution_count": null,
      "outputs": []
    },
    {
      "cell_type": "markdown",
      "source": [
        "Dataset 9:\n",
        "  - spam:\n",
        "    - total: 500\n",
        "    - misclassified: 13\n",
        "  - ham:\n",
        "    - total: 500\n",
        "    - misclassified: 402"
      ],
      "metadata": {
        "id": "fSjt-PFBCRFq"
      }
    },
    {
      "cell_type": "code",
      "source": [],
      "metadata": {
        "id": "MCmJWU3I9O5A"
      },
      "execution_count": null,
      "outputs": []
    },
    {
      "cell_type": "markdown",
      "source": [
        "Dataset 10:\n",
        "  - spam:\n",
        "    - total: 500\n",
        "    - misclassified: 1\n",
        "  - ham:\n",
        "    - total: 500\n",
        "    - misclassified: 499"
      ],
      "metadata": {
        "id": "3GcnXpIdCbn2"
      }
    },
    {
      "cell_type": "code",
      "source": [],
      "metadata": {
        "id": "woGBSDSL9P4n"
      },
      "execution_count": null,
      "outputs": []
    },
    {
      "cell_type": "markdown",
      "source": [
        "## Oefening 2"
      ],
      "metadata": {
        "id": "aBCuXm5EtWdI"
      }
    },
    {
      "cell_type": "markdown",
      "source": [
        "Beschouw onderstaande confusion matrix.\n",
        "\n",
        "```python\n",
        "[[283, 17],\n",
        " [43, 257]]\n",
        "```\n",
        "\n",
        "In dit geval zijn de rijen de aantallen van de voorspellingen en de kolommen de aantallen van de labels. Hoe kan je dat snel omwisselen? M.a.w. hoe kan je snel de voorspellingen in de kolommen zetten en de labels in de rijen? Of nog anders gezegd, hoe kan je de False Negatives en de False Positives met één commando van plaats wisselen?\n",
        "\n",
        "Bereken dan de verschillende metrieken. Definieer daarvoor een klasse `ConfusionMatrix` die een NumPy array accepteert (met labels in de rijen en voorspellingen in de kolommen) en o.b.v. deze array alle metrieken berekent. Maak deze gebruik van NumPy array methode `sum` om de juiste rijen of kolommen te sommeren. Voorzie ook een methode `to_dataframe` die de input array omzet naar een Pandas `DataFrame` en er de totalen aan toevoegt. Uiteraard kan je ook weer een `print` methode definiëren die alle metrieken mooi uitprint.\n",
        "\n",
        "Controleer tenslotte of de metrieken accuracy, recall, precision en $F_1$-score juist zijn berekend door gebruik te maken van functies uit Scikit-Learn, en check ook eens hoe de confusion matrix wordt opgesteld door Scikit-Learn."
      ],
      "metadata": {
        "id": "bykEtG07tcKN"
      }
    },
    {
      "cell_type": "code",
      "source": [],
      "metadata": {
        "id": "6m38h6ym9WTn"
      },
      "execution_count": null,
      "outputs": []
    },
    {
      "cell_type": "markdown",
      "source": [
        "## Oefening 3"
      ],
      "metadata": {
        "id": "PcR5vPg42qG-"
      }
    },
    {
      "cell_type": "markdown",
      "source": [
        "Lees de volgende files in met fictieve data:\n",
        "- `verzekering_1.json`\n",
        "- `verzekering_2.json`\n",
        "- `verzekering_3.json`\n",
        "- `verzekering_4.json`\n",
        "\n",
        "Plot de datasets adhv een scatterplot. Op de X-as zet je de leeftijd, op de Y-as het maandloon. Geef de datapunten met risico `'laag'` een groene kleur, die met risico `'hoog'` een rode."
      ],
      "metadata": {
        "id": "5c36nFnMfFOf"
      }
    },
    {
      "cell_type": "markdown",
      "source": [
        "Train dan op elke dataset een Logistic Regression model m.b.v. Scikit-Learn. Pas geen regularisatie toe. Het is ook niet nodig om je dataset op te splitsen. Voeg telkens de bekomen scheidende rechte toe aan de scatterplot van de dataset.\n",
        "\n",
        "Evalueer elk model door de confusion matrix op te stellen en de volgende metrieken te berekenen:\n",
        "\n",
        "- accurarcy\n",
        "- recall\n",
        "- precision\n",
        "- $F_1$-score\n",
        "\n",
        "Maak ook hier gebruik van Scikit-Learn functies."
      ],
      "metadata": {
        "id": "yviDLNpOfkti"
      }
    },
    {
      "cell_type": "markdown",
      "source": [
        "Plot tenslotte voor elk model de ROC-curve. Voeg aan deze plot de diagonaal toe die overeenkomt met de random classifier. Duid het punt dichtst van FPR=0 en TPR=1 aan op de curve, en geef de overeenkomstige optimale threshold op in de titel van de plot. Vermeld de AUC in de legende van de grafiek."
      ],
      "metadata": {
        "id": "772UGns8gJ3h"
      }
    },
    {
      "cell_type": "markdown",
      "source": [
        "Tip: Maak gebruik van lussen en subplots om het programmeerwerk te reduceren!"
      ],
      "metadata": {
        "id": "RuSNxH1Hgp_L"
      }
    },
    {
      "cell_type": "code",
      "source": [],
      "metadata": {
        "id": "jrNV0EOu9eLE"
      },
      "execution_count": null,
      "outputs": []
    }
  ]
}