{
  "nbformat": 4,
  "nbformat_minor": 0,
  "metadata": {
    "colab": {
      "provenance": [],
      "toc_visible": true,
      "include_colab_link": true
    },
    "kernelspec": {
      "name": "python3",
      "display_name": "Python 3"
    },
    "language_info": {
      "name": "python"
    }
  },
  "cells": [
    {
      "cell_type": "markdown",
      "metadata": {
        "id": "view-in-github",
        "colab_type": "text"
      },
      "source": [
        "<a href=\"https://colab.research.google.com/github/alouwyck/vives-machine-learning/blob/main/10_decision_trees/3_decision_trees.ipynb\" target=\"_parent\"><img src=\"https://colab.research.google.com/assets/colab-badge.svg\" alt=\"Open In Colab\"/></a>"
      ]
    },
    {
      "cell_type": "markdown",
      "metadata": {
        "id": "p34cmLp6FrA6"
      },
      "source": [
        "<img src=\"data:image/png;base64,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\" align=\"right\" /><br>\n",
        "\n",
        "\n",
        "**MACHINE LEARNING FUNDAMENTALS**<br>\n",
        "Academiejaar 2023-2024<br>\n",
        "Andy Louwyck\n",
        "\n",
        "---\n",
        "\n",
        "\n",
        "\n",
        "---\n",
        "\n"
      ]
    },
    {
      "cell_type": "markdown",
      "metadata": {
        "id": "Ex7BH0Nz2LOu"
      },
      "source": [
        "# **BESLISSINGSBOMEN - ID3 ALGORITME**"
      ]
    },
    {
      "cell_type": "markdown",
      "source": [
        "De tekst van deze notebook is grotendeels overgenomen van het hoofdstuk \"Beslissingsbomen\" van het vak Data Science I gedoceerd aan de Karel de Grote Hogeschool van Antwerpen en opgesteld door Wouter Deketelaere in 2017. De rekenvoorbeelden in de tekst werden aanvullend met Python gecodeerd."
      ],
      "metadata": {
        "id": "kThW4EoTlHc9"
      }
    },
    {
      "cell_type": "markdown",
      "source": [
        "## Inleiding"
      ],
      "metadata": {
        "id": "pC9pVOMWgpBF"
      }
    },
    {
      "cell_type": "markdown",
      "source": [
        "Een **beslissingsboom** (Engels: decision tree) is een grafsch hulpmiddel dat kan gebruikt worden om besluitvorming te faciliteren. Er bestaan meerdere machine learning algoritmes die beslissingsbomen kunnen produceren op basis van een trainingset van voorbeelden. Elk voorbeeld in de trainingset wordt ook wel een **instantie** genoemd. Hoe dit in zijn werk gaat wordt uitgelegd in deze notebook.\n",
        "\n",
        "Eens de beslissingsboom geconstrueerd is kan die gebruikt worden als model om bijvoorbeeld de classifcatie uit te voeren van ongekende instanties. Dit heeft heel veel praktische toepassingen gaande van het voorspellen van interessante tijdstippen om aandelen te kopen, het bepalen of iemand kredietwaardig is bij het afsluiten van een lening, het detecteren van tumoren in foto's, het voorspellen van de slaagkans van studenten voor een bepaald vak, enzovoort.\n",
        "\n",
        "Reeds in de jaren '70 van de vorige eeuw werden de grondbeginselen van beslissingsbomen door Breiman et al. (1984) gelegd. Het bekendste algoritme om beslissingsbomen te maken, **ID3** genaamd, is van de hand van Quinlan (1986). Later, in de jaren '90 heeft Quinlan dit algoritme verbeterd onder de naam **C4.5**, zodat het ook toegepast kan worden op continue gegevens en op gegevens met ontbrekende waarden, missing values in het Engels (Salzberg, 1994).\n",
        "\n",
        "In dit hoofdstuk bestuderen we dus wat een beslissingsboom juist is, en leren we hoe we een beslissingsboom kunnen opstellen m.b.v. het ID3 algoritme vertrekkende van een verzameling traininggegevens."
      ],
      "metadata": {
        "id": "giUJ_4xsZzTR"
      }
    },
    {
      "cell_type": "markdown",
      "source": [
        "## Definitie"
      ],
      "metadata": {
        "id": "ig1FZT9ggxl6"
      }
    },
    {
      "cell_type": "markdown",
      "source": [
        "Zoals het woord beslissingsboom laat uitschijnen, is het een boomachtige structuur, die echter ondersteboven staat, en die bestaat uit **knooppunten** die verbonden zijn door **benoemde pijlen**. Elk knooppunt stemt overeen met een plaats waar een beslissing genomen moet worden. De uiteinden van een beslissingsbomen zijn knooppunten zonder vertrekkende pijlen en deze worden **bladknooppunten** genoemd. Elk knooppunt bevat de naam van een eigenschap (Engels: **attribute**) van de gegevens op basis waarvan voorbeelden kunnen gescheiden worden van elkaar. Een bladknooppunt bevat de uitkomst (Engels: **target**) waartoe het voorbeeld behoort."
      ],
      "metadata": {
        "id": "0cHwPnTAg2Ym"
      }
    },
    {
      "cell_type": "markdown",
      "source": [
        "![image.png](data:image/png;base64,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)"
      ],
      "metadata": {
        "id": "S9AFbj8hi9dY"
      }
    },
    {
      "cell_type": "markdown",
      "source": [
        "De figuur is een voorbeeld van een in de literatuur wel héél bekende beslissingsboom. Deze beslissingsboom is het resultaat van de toepassing van het ID3 algoritme op de traininggegevens die we terugvinden in het bestand `play.txt`:"
      ],
      "metadata": {
        "id": "eurtle6giqam"
      }
    },
    {
      "cell_type": "code",
      "source": [
        "import pandas as pd\n",
        "\n",
        "play = pd.read_csv('play.txt', sep=' ').iloc[:, :-1]  # laatste kolom weggooien...\n",
        "play"
      ],
      "metadata": {
        "colab": {
          "base_uri": "https://localhost:8080/",
          "height": 488
        },
        "id": "YbdL72UTZ0h7",
        "outputId": "ced508fe-9965-4a61-f545-67f14745f837"
      },
      "execution_count": null,
      "outputs": [
        {
          "output_type": "execute_result",
          "data": {
            "text/plain": [
              "    Day   Outlook Temperature Humidity    Wind Play\n",
              "0    D1     Sunny         Hot     High    Weak   No\n",
              "1    D2     Sunny         Hot     High  Strong   No\n",
              "2    D3  Overcast         Hot     High    Weak  Yes\n",
              "3    D4      Rain        Mild     High    Weak  Yes\n",
              "4    D5      Rain        Cool   Normal    Weak  Yes\n",
              "5    D6      Rain        Cool   Normal  Strong   No\n",
              "6    D7  Overcast        Cool   Normal  Strong  Yes\n",
              "7    D8     Sunny        Mild     High    Weak   No\n",
              "8    D9     Sunny        Cool   Normal    Weak  Yes\n",
              "9   D10      Rain        Mild   Normal    Weak  Yes\n",
              "10  D11     Sunny        Mild   Normal  Strong  Yes\n",
              "11  D12  Overcast        Mild     High  Strong  Yes\n",
              "12  D13  Overcast         Hot   Normal    Weak  Yes\n",
              "13  D14      Rain        Mild     High  Strong   No"
            ],
            "text/html": [
              "\n",
              "  <div id=\"df-de6ce8ff-29a8-4f57-a3bd-2ca848051ae6\">\n",
              "    <div class=\"colab-df-container\">\n",
              "      <div>\n",
              "<style scoped>\n",
              "    .dataframe tbody tr th:only-of-type {\n",
              "        vertical-align: middle;\n",
              "    }\n",
              "\n",
              "    .dataframe tbody tr th {\n",
              "        vertical-align: top;\n",
              "    }\n",
              "\n",
              "    .dataframe thead th {\n",
              "        text-align: right;\n",
              "    }\n",
              "</style>\n",
              "<table border=\"1\" class=\"dataframe\">\n",
              "  <thead>\n",
              "    <tr style=\"text-align: right;\">\n",
              "      <th></th>\n",
              "      <th>Day</th>\n",
              "      <th>Outlook</th>\n",
              "      <th>Temperature</th>\n",
              "      <th>Humidity</th>\n",
              "      <th>Wind</th>\n",
              "      <th>Play</th>\n",
              "    </tr>\n",
              "  </thead>\n",
              "  <tbody>\n",
              "    <tr>\n",
              "      <th>0</th>\n",
              "      <td>D1</td>\n",
              "      <td>Sunny</td>\n",
              "      <td>Hot</td>\n",
              "      <td>High</td>\n",
              "      <td>Weak</td>\n",
              "      <td>No</td>\n",
              "    </tr>\n",
              "    <tr>\n",
              "      <th>1</th>\n",
              "      <td>D2</td>\n",
              "      <td>Sunny</td>\n",
              "      <td>Hot</td>\n",
              "      <td>High</td>\n",
              "      <td>Strong</td>\n",
              "      <td>No</td>\n",
              "    </tr>\n",
              "    <tr>\n",
              "      <th>2</th>\n",
              "      <td>D3</td>\n",
              "      <td>Overcast</td>\n",
              "      <td>Hot</td>\n",
              "      <td>High</td>\n",
              "      <td>Weak</td>\n",
              "      <td>Yes</td>\n",
              "    </tr>\n",
              "    <tr>\n",
              "      <th>3</th>\n",
              "      <td>D4</td>\n",
              "      <td>Rain</td>\n",
              "      <td>Mild</td>\n",
              "      <td>High</td>\n",
              "      <td>Weak</td>\n",
              "      <td>Yes</td>\n",
              "    </tr>\n",
              "    <tr>\n",
              "      <th>4</th>\n",
              "      <td>D5</td>\n",
              "      <td>Rain</td>\n",
              "      <td>Cool</td>\n",
              "      <td>Normal</td>\n",
              "      <td>Weak</td>\n",
              "      <td>Yes</td>\n",
              "    </tr>\n",
              "    <tr>\n",
              "      <th>5</th>\n",
              "      <td>D6</td>\n",
              "      <td>Rain</td>\n",
              "      <td>Cool</td>\n",
              "      <td>Normal</td>\n",
              "      <td>Strong</td>\n",
              "      <td>No</td>\n",
              "    </tr>\n",
              "    <tr>\n",
              "      <th>6</th>\n",
              "      <td>D7</td>\n",
              "      <td>Overcast</td>\n",
              "      <td>Cool</td>\n",
              "      <td>Normal</td>\n",
              "      <td>Strong</td>\n",
              "      <td>Yes</td>\n",
              "    </tr>\n",
              "    <tr>\n",
              "      <th>7</th>\n",
              "      <td>D8</td>\n",
              "      <td>Sunny</td>\n",
              "      <td>Mild</td>\n",
              "      <td>High</td>\n",
              "      <td>Weak</td>\n",
              "      <td>No</td>\n",
              "    </tr>\n",
              "    <tr>\n",
              "      <th>8</th>\n",
              "      <td>D9</td>\n",
              "      <td>Sunny</td>\n",
              "      <td>Cool</td>\n",
              "      <td>Normal</td>\n",
              "      <td>Weak</td>\n",
              "      <td>Yes</td>\n",
              "    </tr>\n",
              "    <tr>\n",
              "      <th>9</th>\n",
              "      <td>D10</td>\n",
              "      <td>Rain</td>\n",
              "      <td>Mild</td>\n",
              "      <td>Normal</td>\n",
              "      <td>Weak</td>\n",
              "      <td>Yes</td>\n",
              "    </tr>\n",
              "    <tr>\n",
              "      <th>10</th>\n",
              "      <td>D11</td>\n",
              "      <td>Sunny</td>\n",
              "      <td>Mild</td>\n",
              "      <td>Normal</td>\n",
              "      <td>Strong</td>\n",
              "      <td>Yes</td>\n",
              "    </tr>\n",
              "    <tr>\n",
              "      <th>11</th>\n",
              "      <td>D12</td>\n",
              "      <td>Overcast</td>\n",
              "      <td>Mild</td>\n",
              "      <td>High</td>\n",
              "      <td>Strong</td>\n",
              "      <td>Yes</td>\n",
              "    </tr>\n",
              "    <tr>\n",
              "      <th>12</th>\n",
              "      <td>D13</td>\n",
              "      <td>Overcast</td>\n",
              "      <td>Hot</td>\n",
              "      <td>Normal</td>\n",
              "      <td>Weak</td>\n",
              "      <td>Yes</td>\n",
              "    </tr>\n",
              "    <tr>\n",
              "      <th>13</th>\n",
              "      <td>D14</td>\n",
              "      <td>Rain</td>\n",
              "      <td>Mild</td>\n",
              "      <td>High</td>\n",
              "      <td>Strong</td>\n",
              "      <td>No</td>\n",
              "    </tr>\n",
              "  </tbody>\n",
              "</table>\n",
              "</div>\n",
              "      <button class=\"colab-df-convert\" onclick=\"convertToInteractive('df-de6ce8ff-29a8-4f57-a3bd-2ca848051ae6')\"\n",
              "              title=\"Convert this dataframe to an interactive table.\"\n",
              "              style=\"display:none;\">\n",
              "        \n",
              "  <svg xmlns=\"http://www.w3.org/2000/svg\" height=\"24px\"viewBox=\"0 0 24 24\"\n",
              "       width=\"24px\">\n",
              "    <path d=\"M0 0h24v24H0V0z\" fill=\"none\"/>\n",
              "    <path d=\"M18.56 5.44l.94 2.06.94-2.06 2.06-.94-2.06-.94-.94-2.06-.94 2.06-2.06.94zm-11 1L8.5 8.5l.94-2.06 2.06-.94-2.06-.94L8.5 2.5l-.94 2.06-2.06.94zm10 10l.94 2.06.94-2.06 2.06-.94-2.06-.94-.94-2.06-.94 2.06-2.06.94z\"/><path d=\"M17.41 7.96l-1.37-1.37c-.4-.4-.92-.59-1.43-.59-.52 0-1.04.2-1.43.59L10.3 9.45l-7.72 7.72c-.78.78-.78 2.05 0 2.83L4 21.41c.39.39.9.59 1.41.59.51 0 1.02-.2 1.41-.59l7.78-7.78 2.81-2.81c.8-.78.8-2.07 0-2.86zM5.41 20L4 18.59l7.72-7.72 1.47 1.35L5.41 20z\"/>\n",
              "  </svg>\n",
              "      </button>\n",
              "      \n",
              "  <style>\n",
              "    .colab-df-container {\n",
              "      display:flex;\n",
              "      flex-wrap:wrap;\n",
              "      gap: 12px;\n",
              "    }\n",
              "\n",
              "    .colab-df-convert {\n",
              "      background-color: #E8F0FE;\n",
              "      border: none;\n",
              "      border-radius: 50%;\n",
              "      cursor: pointer;\n",
              "      display: none;\n",
              "      fill: #1967D2;\n",
              "      height: 32px;\n",
              "      padding: 0 0 0 0;\n",
              "      width: 32px;\n",
              "    }\n",
              "\n",
              "    .colab-df-convert:hover {\n",
              "      background-color: #E2EBFA;\n",
              "      box-shadow: 0px 1px 2px rgba(60, 64, 67, 0.3), 0px 1px 3px 1px rgba(60, 64, 67, 0.15);\n",
              "      fill: #174EA6;\n",
              "    }\n",
              "\n",
              "    [theme=dark] .colab-df-convert {\n",
              "      background-color: #3B4455;\n",
              "      fill: #D2E3FC;\n",
              "    }\n",
              "\n",
              "    [theme=dark] .colab-df-convert:hover {\n",
              "      background-color: #434B5C;\n",
              "      box-shadow: 0px 1px 3px 1px rgba(0, 0, 0, 0.15);\n",
              "      filter: drop-shadow(0px 1px 2px rgba(0, 0, 0, 0.3));\n",
              "      fill: #FFFFFF;\n",
              "    }\n",
              "  </style>\n",
              "\n",
              "      <script>\n",
              "        const buttonEl =\n",
              "          document.querySelector('#df-de6ce8ff-29a8-4f57-a3bd-2ca848051ae6 button.colab-df-convert');\n",
              "        buttonEl.style.display =\n",
              "          google.colab.kernel.accessAllowed ? 'block' : 'none';\n",
              "\n",
              "        async function convertToInteractive(key) {\n",
              "          const element = document.querySelector('#df-de6ce8ff-29a8-4f57-a3bd-2ca848051ae6');\n",
              "          const dataTable =\n",
              "            await google.colab.kernel.invokeFunction('convertToInteractive',\n",
              "                                                     [key], {});\n",
              "          if (!dataTable) return;\n",
              "\n",
              "          const docLinkHtml = 'Like what you see? Visit the ' +\n",
              "            '<a target=\"_blank\" href=https://colab.research.google.com/notebooks/data_table.ipynb>data table notebook</a>'\n",
              "            + ' to learn more about interactive tables.';\n",
              "          element.innerHTML = '';\n",
              "          dataTable['output_type'] = 'display_data';\n",
              "          await google.colab.output.renderOutput(dataTable, element);\n",
              "          const docLink = document.createElement('div');\n",
              "          docLink.innerHTML = docLinkHtml;\n",
              "          element.appendChild(docLink);\n",
              "        }\n",
              "      </script>\n",
              "    </div>\n",
              "  </div>\n",
              "  "
            ]
          },
          "metadata": {},
          "execution_count": 1
        }
      ]
    },
    {
      "cell_type": "markdown",
      "source": [
        "Het doel van de beslissingsboom is om te bepalen of een\n",
        "persoon zal gaan sporten (de 'Play'-eigenschap met waarden `'Yes'` of `'No'`) op basis van de overige eigenschappen ('Outlook', 'Temperature', 'Humidity' en 'Wind') van een dag. Het ID3 algoritme leert de kennis die verborgen zit in deze tabel en bouwt er een model van. Dat model kan dan gebruikt worden om te bepalen of iemand zal gaan sporten op dag 15, 16, ... door enkel gebruik te maken van de overige eigenschappen van die dagen. Merk op dat alle eigenschappen in dit voorbeeld een nominaal of ordinaal meetniveau hebben, maar in het algemene geval hoeft dit niet zo te zijn."
      ],
      "metadata": {
        "id": "imJj8fP1jO1N"
      }
    },
    {
      "cell_type": "markdown",
      "source": [
        "## ID3 algoritme"
      ],
      "metadata": {
        "id": "pq_H6gMpk8qn"
      }
    },
    {
      "cell_type": "markdown",
      "source": [
        "Je vraagt nu waarschijnlijk af hoe je zo'n beslissingsboom kan opstellen? We zullen dit probleem\n",
        "in stappen aanpakken en sommige van die stappen vergen op hun beurt weer een aantal onderliggende stappen.\n",
        "\n",
        "Dit zijn de stappen die we onderscheiden:\n",
        "1. Selecteer de beste eigenschap op basis van de gegevens die je beschouwt.\n",
        "2. Maak een knooppunt met de naam van deze eigenschap erin.\n",
        "3. Trek een pijl vanuit dit knooppunt voor elke waarde die de gekozen eigenschap kan aannemen.\n",
        "4. Verdeel de voorbeelden in verzamelingen naargelang de waarde die ze hebben van de gekozen eigenschap.\n",
        "5. Herhaal het algoritme voor elk van de bekomen deelverzamelingen van de gegevens.\n",
        "6. Stop wanneer een deelverzameling nog slechts voorbeelden bevat met één en dezelfde uitkomst."
      ],
      "metadata": {
        "id": "F4guqGQCpuhF"
      }
    },
    {
      "cell_type": "markdown",
      "source": [
        "Dit is dus een recursief algoritme dat bekend is onder de naam ID3. Het ID3 algoritme werkt alleen voor gegevens met meetniveau's die nominaal of ordinaal zijn. Als je toch gegevens hebt op een hoger meetniveau zoals interval of ratio, dan zal je eerst klassen moeten aanmaken. Een andere term voor het aanmaken van klassen is *discretiseren*; in softwarepakketten kom je vaak deze laatste benaming tegen. Eens al je eigenschappen gediscretiseerd zijn kan je weer gebruik maken van het ID3 algoritme om een beslissingsboom op te stellen."
      ],
      "metadata": {
        "id": "LmNzRteeqZSS"
      }
    },
    {
      "cell_type": "markdown",
      "source": [
        "We geven een voorbeeldje om de stappen in het algoritme te verduidelijken:\n",
        "1. Selecteer eigenschap 'Outlook'.\n",
        "2. Maak een knooppunt met naam de 'Outlook'.\n",
        "3. Teken drie benoemde pijlen die vertrekken vanuit het knooppunt: een pijl met 'Sunny', 'Overcast' en 'Rain'.\n",
        "4. We bekomen drie deelverzamelingen van de oorspronkelijke verzameling van gegevens:\n",
        "  * D1, D2, D8, D9, D11\n",
        "  * D3, D7, D12, D13\n",
        "  * D4, D5, D6, D10, D14\n",
        "5. We herhalen het algoritme voor deelverzamelingen 1 en 3.\n",
        "6. We stoppen het algoritme voor deelverzameling 2 want deze hebben allen dezelfde uitkomst `'Yes'`."
      ],
      "metadata": {
        "id": "Silv6nd6jvOx"
      }
    },
    {
      "cell_type": "markdown",
      "source": [
        "## Entropie en Information Gain"
      ],
      "metadata": {
        "id": "hNINT9h_rjEY"
      }
    },
    {
      "cell_type": "markdown",
      "source": [
        "In het bovenstaande algoritme hebben we verzwegen hoe we de beste eigenschap konden selecteren. Er zijn verschillende manieren waarop de 'beste' eigenschap geselecteerd kan worden. We bekijken in de volgende paragraaf één van de meeste bekende technieken die gebaseerd is op de begrippen *entropie* en *information gain*."
      ],
      "metadata": {
        "id": "Je9PUuZUrueN"
      }
    },
    {
      "cell_type": "markdown",
      "source": [
        "### Entropie"
      ],
      "metadata": {
        "id": "Krhn29J9roTH"
      }
    },
    {
      "cell_type": "markdown",
      "source": [
        "De entropie van een tabel van gegevens is een maat voor de zuiverheid van de gegevens, gemeten volgens een bepaalde eigenschap. Als je het ID3 algoritme van hierboven nog eens herleest, zal je merken dat de stopconditie gebaseerd is op entropie: je stopt met het uitbreiden van de beslissingsboom wanneer 'allen dezelfde uitkomst hebben'. Entropie zal ons een exact\n",
        "wiskundige manier geven om dit te kunnen berekenen."
      ],
      "metadata": {
        "id": "TjAJvlT0sJ1_"
      }
    },
    {
      "cell_type": "markdown",
      "source": [
        "**Definitie**:\n",
        "\n",
        "> $E(S) = \\sum_{v \\in A} - \\dfrac{|S_{A=v}|}{|S|}.log_2 \\dfrac{|S_{A=v}|}{|S|}$\n",
        "\n",
        "(formule 1)\n"
      ],
      "metadata": {
        "id": "Y2xgMAW5sYUe"
      }
    },
    {
      "cell_type": "markdown",
      "source": [
        "De formule ziet er nogal indrukwekkend uit, maar in feite is ze veel eenvoudiger dan ze laat\n",
        "uitschijnen. We bekijken de verschillende onderdelen en passen ze toe op ons voorbeeld.\n",
        "\n",
        "Eerst moeten we begrijpen waarvoor elk symbool staat:\n",
        "\n",
        "- $S$ is de verzameling (Engels: set) van gegevens, onze dataset. Dit is niets anders dan de tabel van\n",
        "gegevens die we ingelezen hebben als dataframe.\n",
        "- $E$ staat voor entropie. Bij binaire variabelen is dit een getal tussen 0 en 1 dat aangeeft hoe zuiver de verzameling $S$ van gegevens is: 0 komt overeen met een helemaal zuivere verzameling en 1 met een\n",
        "maximale onzuivere verzameling.\n",
        "- $A$ staat voor attribuut of eigenschap. Dit is het attribuut waarvan we de zuiverheid willen\n",
        "berekenen, bijvoorbeeld $A$ = 'Play'.\n",
        "- $v$ staat voor value. Het is in feite een variabele die alle waarden van $A$ kan aannemen. In\n",
        "het geval van $A$ = 'Play' kan $v$ de waarden `'Yes'` en `'No'` aannemen.\n",
        "- $|S_{A=v}|$ is het aantal instanties (of rijen in onze tabel) die de waarde $v$ hebben voor attribuut\n",
        "$A$.\n",
        "- $|S|$ is het totaal aantal instanties, dus het totaal aantal rijen in de tabel.\n",
        "- $\\dfrac{|S_{A=v}|}{|S|}$ is dus eigenlijk een relatieve frequentie, wat men als kans kan interpreteren!"
      ],
      "metadata": {
        "id": "GPORO1e4tD8W"
      }
    },
    {
      "cell_type": "markdown",
      "source": [
        "We berekenen de entropie $E$ van de gegevens $S$ waarbij we 'Play' als het target attribuut (of label) beschouwen:\n",
        "\n",
        "> $E(S) = \\sum_{v \\in \\{Yes, No\\}} - \\dfrac{|S_{Play=v}|}{|S|}.log_2 \\dfrac{|S_{Play=v}|}{|S|}$\n",
        "\n",
        "> $E(S) = -\\dfrac{9}{14}.log_2 \\dfrac{9}{14} -\\dfrac{5}{14}.log_2 \\dfrac{5}{14} = 0.94$"
      ],
      "metadata": {
        "id": "fDVozvNWvdZn"
      }
    },
    {
      "cell_type": "markdown",
      "source": [
        "Laten we dat nu eens coderen:"
      ],
      "metadata": {
        "id": "TC-Fu6pRzwxj"
      }
    },
    {
      "cell_type": "code",
      "source": [
        "n = len(play)  # totaal aantal rijen\n",
        "n_yes = (play['Play'] == 'Yes').sum()  # aantal Play = 'Yes'\n",
        "n_no = (play['Play'] == 'No').sum()  # aantal Play = 'No'\n",
        "\n",
        "print('totaal aantal:', n)\n",
        "print(\"aantal 'Yes':\", n_yes)\n",
        "print(\"aantal 'No':\", n_no)"
      ],
      "metadata": {
        "colab": {
          "base_uri": "https://localhost:8080/"
        },
        "id": "LHHNKQsNwuSg",
        "outputId": "f12c8d9a-6d78-49e8-d96d-09d80cb27c05"
      },
      "execution_count": null,
      "outputs": [
        {
          "output_type": "stream",
          "name": "stdout",
          "text": [
            "totaal aantal: 14\n",
            "aantal 'Yes': 9\n",
            "aantal 'No': 5\n"
          ]
        }
      ]
    },
    {
      "cell_type": "code",
      "source": [
        "import numpy as np\n",
        "\n",
        "f_yes = n_yes / n\n",
        "f_no = n_no / n\n",
        "E = -f_yes * np.log2(f_yes) - f_no * np.log2(f_no)  # pas op! log2!!\n",
        "print('E =', E)"
      ],
      "metadata": {
        "colab": {
          "base_uri": "https://localhost:8080/"
        },
        "id": "9zQ8UHk_xVkA",
        "outputId": "967e07d8-efc4-43ee-87ea-133e6208a6cc"
      },
      "execution_count": null,
      "outputs": [
        {
          "output_type": "stream",
          "name": "stdout",
          "text": [
            "E = 0.9402859586706311\n"
          ]
        }
      ]
    },
    {
      "cell_type": "markdown",
      "source": [
        "We kunnen dat natuurlijk generieker schrijven in een functie `entropy`:"
      ],
      "metadata": {
        "id": "kCYei5y1z3p8"
      }
    },
    {
      "cell_type": "code",
      "source": [
        "def entropy(df, target):\n",
        "    n = len(df)\n",
        "    E = 0.0\n",
        "    for v in np.unique(df[target]):\n",
        "        f = (df[target] == v).sum() / n\n",
        "        E -= f * np.log2(f)\n",
        "    return E\n",
        "\n",
        "print('E =', entropy(play, 'Play'))"
      ],
      "metadata": {
        "colab": {
          "base_uri": "https://localhost:8080/"
        },
        "id": "k5tLJCxsxzkP",
        "outputId": "c7aec873-899d-45df-ff52-fadd4979739e"
      },
      "execution_count": null,
      "outputs": [
        {
          "output_type": "stream",
          "name": "stdout",
          "text": [
            "E = 0.9402859586706311\n"
          ]
        }
      ]
    },
    {
      "cell_type": "markdown",
      "source": [
        "Maar we kunnen dat ook vectoriseren en in één lijn code schrijven!"
      ],
      "metadata": {
        "id": "niTuyLJLz82Z"
      }
    },
    {
      "cell_type": "code",
      "source": [
        "E = lambda x: -x * np.log2(x)\n",
        "print('E =', (play.value_counts('Play') / len(play)).apply(E).sum())"
      ],
      "metadata": {
        "colab": {
          "base_uri": "https://localhost:8080/"
        },
        "id": "yLx2tksPzgS_",
        "outputId": "4d652f35-35d4-492d-ca00-89bcba81c14d"
      },
      "execution_count": null,
      "outputs": [
        {
          "output_type": "stream",
          "name": "stdout",
          "text": [
            "E = 0.9402859586706311\n"
          ]
        }
      ]
    },
    {
      "cell_type": "markdown",
      "source": [
        "De waarde die we vinden ligt dicht tegen 1. Dit betekent dat de het attribuut 'Play' zeer onzuiver is. Mochten er evenveel dagen zijn waarop er gesport wordt als dat er dagen zijn dat er niet gesport wordt, dan zou de entropie van 'Play' zelfs precies 1 geweest zijn (reken dit eens na).\n",
        "\n",
        "De entropiecurve in onderstaande figuur toont hoe de entropie van een binaire variabele zoals 'Play' toeneemt tot 1 wanneer de kans op de beide waarden 0.5 wordt. (Herinner je dat een binaire variabele een toevalsveranderlijke is die slechts twee waarden kan aannemen.) In het geval van het 'Play'-attribuut is de kans op 'Yes' gelijk aan 9/14 = 0.64, en er is dus een iets hogere kans op 'Yes' dan op 'No'. Dit wordt dan ook gereflecteerd in de berekende waarde van E(S) die net iets lager is dan 1."
      ],
      "metadata": {
        "id": "9CE0215b44mB"
      }
    },
    {
      "cell_type": "code",
      "source": [
        "from matplotlib import pyplot as plt\n",
        "\n",
        "p = np.linspace(1e-10, 1-1e-10, 100)  # 1e-10 om delen door 0 te voorkomen!\n",
        "E = -p * np.log2(p) - (1-p) * np.log2(1-p)\n",
        "\n",
        "plt.plot(p, E, 'k-');\n",
        "plt.grid()\n",
        "plt.xlabel('$p$');\n",
        "plt.ylabel('$E$');"
      ],
      "metadata": {
        "colab": {
          "base_uri": "https://localhost:8080/",
          "height": 450
        },
        "id": "ZYQ6S7W65zNV",
        "outputId": "72a8ecf3-301e-46d6-f057-574a34b568ad"
      },
      "execution_count": null,
      "outputs": [
        {
          "output_type": "display_data",
          "data": {
            "text/plain": [
              "<Figure size 640x480 with 1 Axes>"
            ],
            "image/png": "[encoded data removed]"
          },
          "metadata": {}
        }
      ]
    },
    {
      "cell_type": "markdown",
      "source": [
        "### Information Gain"
      ],
      "metadata": {
        "id": "KuDA3YNn7F6N"
      }
    },
    {
      "cell_type": "markdown",
      "source": [
        "Met de information gain (IG) zullen voor elk attribuut kunnen quantifceren wat de winst zal zijn qua 'zuiverheidstoename' na splitsen van de gegevens op basis van de waarden van dat\n",
        "attribuut. Hoe hoger de information gain voor een bepaald attribuut des te beter. We geven eerst de formele defnitie van information gain van een attribuut A."
      ],
      "metadata": {
        "id": "m0vB8AvMP0QY"
      }
    },
    {
      "cell_type": "markdown",
      "source": [
        "**Definitie**:\n",
        "\n",
        "> $IG(A) = E(S_{ouder}) - \\sum_{v \\in A} \\dfrac{|S_{kind,v}|}{|S_{ouder}|}.E(S_{kind,v})$\n",
        "\n",
        "(formule 2)"
      ],
      "metadata": {
        "id": "M-4HjTzOP-Ws"
      }
    },
    {
      "cell_type": "markdown",
      "source": [
        "Deze formule ziet er wederom een beetje indrukwekkend uit, maar ook hier geldt weer dat het eigenlijk allemaal niet zo moeilijk is. Deze formule heeft een intuïtieve betekenis die het makkelijker maakt om ze te begrijpen. Verderop zullen we deze intuïtieve betekenis formuleren zodat je een beter inzicht kan krijgen in de betekenis ervan."
      ],
      "metadata": {
        "id": "oP8qz-nzQXtC"
      }
    },
    {
      "cell_type": "markdown",
      "source": [
        "Om de berekeningswijze van information gain goed te begrijpen is het belangrijk dat je nu goed begrijpt wat het ID3 algoritme inhoudt. We willen een tabel $S$ met gegevens gebruiken om een beslissingsboom op te stellen. Omdat het een recursief algoritme is, zullen we telkens te maken hebben met een oudertabel $S_{ouder}$ en een aantal kindtabellen $S_{kind,v}$. De eerste oudertabel is de originele tabel $S$ met gegevens zoals bijvoorbeeld het dataframe dat we hierboven uit de file \"play.txt\" hebben ingelezen. Voor elk attribuut $A$ waarvoor je de information gain gaat berekenen zullen kindtabellen ontstaan: één kindtabel per waarde $v$ die het attribuut $A$ kan aannemen. Wanneer alle information gains berekend zijn, kan de splitsing van de tabel gebeuren op basis van het attribuut met de grootste information gain. De kindtabellen die dan ontstaan zullen op hun beurt gaan dienen als oudertabel en het algoritme stopt pas als alle kindtabellen zuiver zijn. Met andere woorden zolang een kindtabel niet zuiver is, wordt het een oudertabel en gaat het splitsen door."
      ],
      "metadata": {
        "id": "c85f7al7RPRl"
      }
    },
    {
      "cell_type": "markdown",
      "source": [
        "In het voorbeeld van de weergegevens heb je voor de berekening van de information gain van het attribuut \"Outlook\" drie kindtabellen, één voor elke waarde die het attribuut \"Outlook\" kan aannemen:"
      ],
      "metadata": {
        "id": "v2qMGWy2STUz"
      }
    },
    {
      "cell_type": "code",
      "source": [
        "for v in np.unique(play['Outlook']):   # overloop alle waarden voor 'Outlook'\n",
        "    print(play[play['Outlook'] == v])  # kindtabel\n",
        "    print()"
      ],
      "metadata": {
        "colab": {
          "base_uri": "https://localhost:8080/"
        },
        "id": "d6rFgcLyTSpF",
        "outputId": "e4a346d0-5eb0-4e80-ce23-ade50cd4087a"
      },
      "execution_count": null,
      "outputs": [
        {
          "output_type": "stream",
          "name": "stdout",
          "text": [
            "    Day   Outlook Temperature Humidity    Wind Play\n",
            "2    D3  Overcast         Hot     High    Weak  Yes\n",
            "6    D7  Overcast        Cool   Normal  Strong  Yes\n",
            "11  D12  Overcast        Mild     High  Strong  Yes\n",
            "12  D13  Overcast         Hot   Normal    Weak  Yes\n",
            "\n",
            "    Day Outlook Temperature Humidity    Wind Play\n",
            "3    D4    Rain        Mild     High    Weak  Yes\n",
            "4    D5    Rain        Cool   Normal    Weak  Yes\n",
            "5    D6    Rain        Cool   Normal  Strong   No\n",
            "9   D10    Rain        Mild   Normal    Weak  Yes\n",
            "13  D14    Rain        Mild     High  Strong   No\n",
            "\n",
            "    Day Outlook Temperature Humidity    Wind Play\n",
            "0    D1   Sunny         Hot     High    Weak   No\n",
            "1    D2   Sunny         Hot     High  Strong   No\n",
            "7    D8   Sunny        Mild     High    Weak   No\n",
            "8    D9   Sunny        Cool   Normal    Weak  Yes\n",
            "10  D11   Sunny        Mild   Normal  Strong  Yes\n",
            "\n"
          ]
        }
      ]
    },
    {
      "cell_type": "markdown",
      "source": [
        "Voor elk van deze kindtabellen kan je de entropie $E(S_{kind,v})$ berekenen met formule 1 die we hierboven hebben gegeven. De entropie van de oudertabel $E(S_{ouder})$ hebben we reeds hierboven berekend. We moet dus nog de entropie voor alle kindtabellen berekenen.\n",
        "\n",
        "1. Kindtabel 'Sunny':\n",
        "\n",
        "> $E(S_{Sunny}) = \\sum_{v \\in \\{Yes, No\\}} - \\dfrac{|S_{Sunny,Play=v}|}{|S_{Sunny}|}.log_2 \\dfrac{|S_{Sunny,Play=v}|}{|S_{Sunny}|}$\n",
        "\n",
        "> $E(S_{Sunny}) = -\\dfrac{2}{5}.log_2 \\dfrac{2}{5} -\\dfrac{3}{5}.log_2 \\dfrac{3}{5} = 0.97$\n",
        "\n",
        "2. Kindtabel 'Rain':\n",
        "\n",
        "> $E(S_{Rain}) = \\sum_{v \\in \\{Yes, No\\}} - \\dfrac{|S_{Rain,Play=v}|}{|S_{Rain}|}.log_2 \\dfrac{|S_{Rain,Play=v}|}{|S_{Rain}|}$\n",
        "\n",
        "> $E(S_{Rain}) = -\\dfrac{3}{5}.log_2 \\dfrac{3}{5} -\\dfrac{2}{5}.log_2 \\dfrac{2}{5} = 0.97$\n",
        "\n",
        "3. Kindtabel 'Overcast':\n",
        "\n",
        "> $E(S_{Overcast}) = \\sum_{v \\in \\{Yes, No\\}} - \\dfrac{|S_{Overcast,Play=v}|}{|S_{Overcast}|}.log_2 \\dfrac{|S_{Overcast,Play=v}|}{|S_{Overcast}|}$\n",
        "\n",
        "> $E(S_{Overcast}) = -\\dfrac{4}{4}.log_2 \\dfrac{4}{4} -\\dfrac{0}{4}.log_2 \\dfrac{0}{4} = 0$\n"
      ],
      "metadata": {
        "id": "V7fwRXkTTR7V"
      }
    },
    {
      "cell_type": "markdown",
      "source": [
        "Uiteraard kunnen we dat ook coderen zoals we hierboven al hebben gedaan:"
      ],
      "metadata": {
        "id": "o4fVpjQ1ZA0K"
      }
    },
    {
      "cell_type": "code",
      "source": [
        "for v in np.unique(play['Outlook']):  # overloop alle waarden voor 'Outlook'\n",
        "    child = play[play['Outlook'] == v]  # kindtabel\n",
        "    E_child = (child.value_counts('Play') / len(child)).apply(E).sum()\n",
        "    print('E(Outlook=', v,') = ', E_child, sep='')  # Entropie van de kindtabel"
      ],
      "metadata": {
        "colab": {
          "base_uri": "https://localhost:8080/"
        },
        "id": "DPu84qZ4U5-e",
        "outputId": "54ad632e-4d2e-40b6-e262-e7cf42a2b300"
      },
      "execution_count": null,
      "outputs": [
        {
          "output_type": "stream",
          "name": "stdout",
          "text": [
            "E(Outlook=Overcast) = 0.0\n",
            "E(Outlook=Rain) = 0.9709505944546686\n",
            "E(Outlook=Sunny) = 0.9709505944546686\n"
          ]
        }
      ]
    },
    {
      "cell_type": "markdown",
      "source": [
        "De intuïtieve betekenis van infomation gain is nu als volgt te begrijpen: de information gain is gelijk aan de onzuiverheid van de originele tabel $S_{ouder}$ verminderd met het gewogen gemiddelde van de onzuiverheden van de kindtabellen $S_{kind,v}$. Onze oudertabel is redelijk onzuiver, want $E=$ 0.94. Na splitsing op het attribuut 'Outlook' bekomen we drie kindtabellen waarvan er twee nog steeds redelijk onzuiver zijn: $E(S_{Sunny})=E(S_{Rain})=$ 0.97. De derde tabel is perfect zuiver want de entropie is nul: $E(S_{Overcast})=$ 0. Door het gewogen gemiddelde van de entropies te berekenen van de bekomen kindtabellen bekomen we dus één maatgetal dat de kwaliteit van de splitsing karateriseert in termen van zuiverheid."
      ],
      "metadata": {
        "id": "_r5GdtUcZXkV"
      }
    },
    {
      "cell_type": "markdown",
      "source": [
        "Wat is nu die *gemiddelde* 'zuiverheidsgraadverandering' indien we zouden opsplitsen in deze drie tabellen? Wel, dat hangt natuurlijk af van hoe groot elke kindtabel is. Je voelt intuïtief aan dat elke kindtabel een groter aandeel zou moeten krijgen in de totale 'zuiverheidsgraadverbetering' wanneer dit een grote deeltabel is dan wanneer het maar een klein tabelletje is van bijvoorbeeld één rij. En de grootte van de kindtabel is natuurlijk relatief ten opzichte van de grootte\n",
        "$|S_{ouder}|$ van de originele oudertabel $S_{ouder}$. Vandaar dat we in formule 2 het aantal elementen van elke kindtabel $|S_{kind,v}|$ verhouden tot het aantal elementen in de ouder tabel $|S_{ouder}|$. Door het verschil te nemen van de originele zuiverheid $E(S_{ouder})$ en de gewogen samengestelde zuiverheid\n",
        "van de kindtabellen, bekomen we dus inderdaad een getal dat ons meedeelt hoeveel 'zuiverheidsverandering' er zal plaats vinden als we zouden splitsen op dat attribuut."
      ],
      "metadata": {
        "id": "1Uclv3kla73I"
      }
    },
    {
      "cell_type": "markdown",
      "source": [
        "> $IG(Outlook) = E(S_{ouder}) - \\sum_{v \\in \\{Sunny,Rain,Overcast\\}} - \\dfrac{|S_{kind,v}|}{|S_{ouder}|}.E(S_{kind,v})$\n",
        "\n",
        "> $E(Outlook) = 0.94 - \\dfrac{5}{14} . 0.97 - \\dfrac{5}{14} . 0.97 - \\dfrac{4}{14} . 0 = 0.25$\n"
      ],
      "metadata": {
        "id": "B8Y-j_Hgbvhq"
      }
    },
    {
      "cell_type": "markdown",
      "source": [
        "Uiteraard gaan we dat coderen en we doen dat netjes adhv een functie `information_gain`:"
      ],
      "metadata": {
        "id": "8JTA56zfc8pD"
      }
    },
    {
      "cell_type": "code",
      "source": [
        "def information_gain(parent, target, attr):\n",
        "    \"\"\"\n",
        "    information gain berekenen voor ouder tabel 'parent' waarbij we 'target' voorspellen\n",
        "    en willen splitsen op feature 'attr'\n",
        "\n",
        "    parent: pandas DataFrame\n",
        "    target: column name - string\n",
        "    attr: column name - string\n",
        "    \"\"\"\n",
        "    E = lambda x: -x * np.log2(x)  # entropie E\n",
        "    n_parent = len(parent)  # aantal elementen in oudertabel\n",
        "    E_parent = (parent.value_counts(target) / len(parent)).apply(E).sum()  # E oudertabel\n",
        "    IG = E_parent  # initialiseren van information gain IG\n",
        "    for v in np.unique(parent[attr]):  # overloop alle waarden voor attr\n",
        "        child = parent[parent[attr] == v]  # kindtabel\n",
        "        n_child = len(child)  # aantal element in kindtabel\n",
        "        E_child = (child.value_counts(target) / len(child)).apply(E).sum()  # E kindtabel\n",
        "        IG -= n_child / n_parent * E_child  # information gain IG updaten\n",
        "    return IG  # output is IG"
      ],
      "metadata": {
        "id": "BLeTaxvNcrOy"
      },
      "execution_count": null,
      "outputs": []
    },
    {
      "cell_type": "markdown",
      "source": [
        "Laten we dat nu eens uittesten op de tabel 'play' waarbij we zoals hierboven splitsen op 'Outlook':"
      ],
      "metadata": {
        "id": "7ti6ZEPQfCVX"
      }
    },
    {
      "cell_type": "code",
      "source": [
        "information_gain(play, 'Play', 'Outlook')"
      ],
      "metadata": {
        "colab": {
          "base_uri": "https://localhost:8080/"
        },
        "id": "Yrx8Pq-3e7FO",
        "outputId": "bcfcfd48-3179-459b-89a8-f28ba934922c"
      },
      "execution_count": null,
      "outputs": [
        {
          "output_type": "execute_result",
          "data": {
            "text/plain": [
              "0.24674981977443933"
            ]
          },
          "metadata": {},
          "execution_count": 33
        }
      ]
    },
    {
      "cell_type": "markdown",
      "source": [
        "We krijgen inderdaad een information gain van 0.25 afgerond."
      ],
      "metadata": {
        "id": "y2AtrwZBfI37"
      }
    },
    {
      "cell_type": "markdown",
      "source": [
        "We moeten al deze berekeningen nu herhalen voor de resterende attributen \"Temperature\", \"Humidity\" en \"Wind\", en dat is behoorlijk wat werk als we dat manueel moeten doen, maar met onze functie `information_gain` van hierboven weten we daar gelukkig wel een mouw aan te passen:"
      ],
      "metadata": {
        "id": "LT2eFECEfVgS"
      }
    },
    {
      "cell_type": "code",
      "source": [
        "for attr in ['Outlook', 'Temperature', 'Humidity', 'Wind']:\n",
        "    print('IG(', attr,') = ', information_gain(play, target='Play', attr=attr), sep='')"
      ],
      "metadata": {
        "colab": {
          "base_uri": "https://localhost:8080/"
        },
        "id": "J8kfHpl8fsAI",
        "outputId": "bac99fec-a521-4739-93b6-3cf92166755d"
      },
      "execution_count": null,
      "outputs": [
        {
          "output_type": "stream",
          "name": "stdout",
          "text": [
            "IG(Outlook) = 0.24674981977443933\n",
            "IG(Temperature) = 0.02922256565895487\n",
            "IG(Humidity) = 0.15183550136234164\n",
            "IG(Wind) = 0.04812703040826949\n"
          ]
        }
      ]
    },
    {
      "cell_type": "markdown",
      "source": [
        "De information gain van \"Outlook\" heeft de hoogste waarde. We splitsen de originele tabel dus op m.b.v. het \"Outlook\" attribuut in de drie kindtabellen die we hierboven hebben aangegeven. Nu pas kennen we de eerste node van onze beslissingsboom: een node gelabeled \"Outlook\" met drie uitgaande pijlen voor elk van de waarde die dat attribuut kan aannemen."
      ],
      "metadata": {
        "id": "wTfh08ftgVGv"
      }
    },
    {
      "cell_type": "markdown",
      "source": [
        "Herinner je dat de \"Overcast\" kindtabel perfect zuiver was (entropie was nul), dus die moeten we niet meer verder opsplitsen. De twee andere wel! Laten we beginnen met \"Sunny\":"
      ],
      "metadata": {
        "id": "VFVezsvNhBGg"
      }
    },
    {
      "cell_type": "code",
      "source": [
        "sunny = play[play['Outlook'] == 'Sunny']\n",
        "sunny"
      ],
      "metadata": {
        "colab": {
          "base_uri": "https://localhost:8080/",
          "height": 206
        },
        "id": "HEH1wbRdhAy_",
        "outputId": "409b800a-844e-4cfa-e21f-46543c442fe0"
      },
      "execution_count": null,
      "outputs": [
        {
          "output_type": "execute_result",
          "data": {
            "text/plain": [
              "    Day Outlook Temperature Humidity    Wind Play\n",
              "0    D1   Sunny         Hot     High    Weak   No\n",
              "1    D2   Sunny         Hot     High  Strong   No\n",
              "7    D8   Sunny        Mild     High    Weak   No\n",
              "8    D9   Sunny        Cool   Normal    Weak  Yes\n",
              "10  D11   Sunny        Mild   Normal  Strong  Yes"
            ],
            "text/html": [
              "\n",
              "  <div id=\"df-78dd0982-aced-4a91-b5b0-ab8b9d63fa52\">\n",
              "    <div class=\"colab-df-container\">\n",
              "      <div>\n",
              "<style scoped>\n",
              "    .dataframe tbody tr th:only-of-type {\n",
              "        vertical-align: middle;\n",
              "    }\n",
              "\n",
              "    .dataframe tbody tr th {\n",
              "        vertical-align: top;\n",
              "    }\n",
              "\n",
              "    .dataframe thead th {\n",
              "        text-align: right;\n",
              "    }\n",
              "</style>\n",
              "<table border=\"1\" class=\"dataframe\">\n",
              "  <thead>\n",
              "    <tr style=\"text-align: right;\">\n",
              "      <th></th>\n",
              "      <th>Day</th>\n",
              "      <th>Outlook</th>\n",
              "      <th>Temperature</th>\n",
              "      <th>Humidity</th>\n",
              "      <th>Wind</th>\n",
              "      <th>Play</th>\n",
              "    </tr>\n",
              "  </thead>\n",
              "  <tbody>\n",
              "    <tr>\n",
              "      <th>0</th>\n",
              "      <td>D1</td>\n",
              "      <td>Sunny</td>\n",
              "      <td>Hot</td>\n",
              "      <td>High</td>\n",
              "      <td>Weak</td>\n",
              "      <td>No</td>\n",
              "    </tr>\n",
              "    <tr>\n",
              "      <th>1</th>\n",
              "      <td>D2</td>\n",
              "      <td>Sunny</td>\n",
              "      <td>Hot</td>\n",
              "      <td>High</td>\n",
              "      <td>Strong</td>\n",
              "      <td>No</td>\n",
              "    </tr>\n",
              "    <tr>\n",
              "      <th>7</th>\n",
              "      <td>D8</td>\n",
              "      <td>Sunny</td>\n",
              "      <td>Mild</td>\n",
              "      <td>High</td>\n",
              "      <td>Weak</td>\n",
              "      <td>No</td>\n",
              "    </tr>\n",
              "    <tr>\n",
              "      <th>8</th>\n",
              "      <td>D9</td>\n",
              "      <td>Sunny</td>\n",
              "      <td>Cool</td>\n",
              "      <td>Normal</td>\n",
              "      <td>Weak</td>\n",
              "      <td>Yes</td>\n",
              "    </tr>\n",
              "    <tr>\n",
              "      <th>10</th>\n",
              "      <td>D11</td>\n",
              "      <td>Sunny</td>\n",
              "      <td>Mild</td>\n",
              "      <td>Normal</td>\n",
              "      <td>Strong</td>\n",
              "      <td>Yes</td>\n",
              "    </tr>\n",
              "  </tbody>\n",
              "</table>\n",
              "</div>\n",
              "      <button class=\"colab-df-convert\" onclick=\"convertToInteractive('df-78dd0982-aced-4a91-b5b0-ab8b9d63fa52')\"\n",
              "              title=\"Convert this dataframe to an interactive table.\"\n",
              "              style=\"display:none;\">\n",
              "        \n",
              "  <svg xmlns=\"http://www.w3.org/2000/svg\" height=\"24px\"viewBox=\"0 0 24 24\"\n",
              "       width=\"24px\">\n",
              "    <path d=\"M0 0h24v24H0V0z\" fill=\"none\"/>\n",
              "    <path d=\"M18.56 5.44l.94 2.06.94-2.06 2.06-.94-2.06-.94-.94-2.06-.94 2.06-2.06.94zm-11 1L8.5 8.5l.94-2.06 2.06-.94-2.06-.94L8.5 2.5l-.94 2.06-2.06.94zm10 10l.94 2.06.94-2.06 2.06-.94-2.06-.94-.94-2.06-.94 2.06-2.06.94z\"/><path d=\"M17.41 7.96l-1.37-1.37c-.4-.4-.92-.59-1.43-.59-.52 0-1.04.2-1.43.59L10.3 9.45l-7.72 7.72c-.78.78-.78 2.05 0 2.83L4 21.41c.39.39.9.59 1.41.59.51 0 1.02-.2 1.41-.59l7.78-7.78 2.81-2.81c.8-.78.8-2.07 0-2.86zM5.41 20L4 18.59l7.72-7.72 1.47 1.35L5.41 20z\"/>\n",
              "  </svg>\n",
              "      </button>\n",
              "      \n",
              "  <style>\n",
              "    .colab-df-container {\n",
              "      display:flex;\n",
              "      flex-wrap:wrap;\n",
              "      gap: 12px;\n",
              "    }\n",
              "\n",
              "    .colab-df-convert {\n",
              "      background-color: #E8F0FE;\n",
              "      border: none;\n",
              "      border-radius: 50%;\n",
              "      cursor: pointer;\n",
              "      display: none;\n",
              "      fill: #1967D2;\n",
              "      height: 32px;\n",
              "      padding: 0 0 0 0;\n",
              "      width: 32px;\n",
              "    }\n",
              "\n",
              "    .colab-df-convert:hover {\n",
              "      background-color: #E2EBFA;\n",
              "      box-shadow: 0px 1px 2px rgba(60, 64, 67, 0.3), 0px 1px 3px 1px rgba(60, 64, 67, 0.15);\n",
              "      fill: #174EA6;\n",
              "    }\n",
              "\n",
              "    [theme=dark] .colab-df-convert {\n",
              "      background-color: #3B4455;\n",
              "      fill: #D2E3FC;\n",
              "    }\n",
              "\n",
              "    [theme=dark] .colab-df-convert:hover {\n",
              "      background-color: #434B5C;\n",
              "      box-shadow: 0px 1px 3px 1px rgba(0, 0, 0, 0.15);\n",
              "      filter: drop-shadow(0px 1px 2px rgba(0, 0, 0, 0.3));\n",
              "      fill: #FFFFFF;\n",
              "    }\n",
              "  </style>\n",
              "\n",
              "      <script>\n",
              "        const buttonEl =\n",
              "          document.querySelector('#df-78dd0982-aced-4a91-b5b0-ab8b9d63fa52 button.colab-df-convert');\n",
              "        buttonEl.style.display =\n",
              "          google.colab.kernel.accessAllowed ? 'block' : 'none';\n",
              "\n",
              "        async function convertToInteractive(key) {\n",
              "          const element = document.querySelector('#df-78dd0982-aced-4a91-b5b0-ab8b9d63fa52');\n",
              "          const dataTable =\n",
              "            await google.colab.kernel.invokeFunction('convertToInteractive',\n",
              "                                                     [key], {});\n",
              "          if (!dataTable) return;\n",
              "\n",
              "          const docLinkHtml = 'Like what you see? Visit the ' +\n",
              "            '<a target=\"_blank\" href=https://colab.research.google.com/notebooks/data_table.ipynb>data table notebook</a>'\n",
              "            + ' to learn more about interactive tables.';\n",
              "          element.innerHTML = '';\n",
              "          dataTable['output_type'] = 'display_data';\n",
              "          await google.colab.output.renderOutput(dataTable, element);\n",
              "          const docLink = document.createElement('div');\n",
              "          docLink.innerHTML = docLinkHtml;\n",
              "          element.appendChild(docLink);\n",
              "        }\n",
              "      </script>\n",
              "    </div>\n",
              "  </div>\n",
              "  "
            ]
          },
          "metadata": {},
          "execution_count": 39
        }
      ]
    },
    {
      "cell_type": "markdown",
      "source": [
        "De information gain voor de verschillende attributen die overblijven:"
      ],
      "metadata": {
        "id": "nq3La4kyhhl7"
      }
    },
    {
      "cell_type": "code",
      "source": [
        "for attr in ['Temperature', 'Humidity', 'Wind']:\n",
        "    print('IG(', attr,') = ', information_gain(sunny, target='Play', attr=attr), sep='')"
      ],
      "metadata": {
        "colab": {
          "base_uri": "https://localhost:8080/"
        },
        "id": "r8jkQhyshT1H",
        "outputId": "15356b11-474e-4bac-cde6-020c75739ca2"
      },
      "execution_count": null,
      "outputs": [
        {
          "output_type": "stream",
          "name": "stdout",
          "text": [
            "IG(Temperature) = 0.5709505944546686\n",
            "IG(Humidity) = 0.9709505944546686\n",
            "IG(Wind) = 0.01997309402197489\n"
          ]
        }
      ]
    },
    {
      "cell_type": "markdown",
      "source": [
        "Het is duidelijk dat we hier moeten splitsen op \"Humidity\"!"
      ],
      "metadata": {
        "id": "MKQxAJLoiHKg"
      }
    },
    {
      "cell_type": "markdown",
      "source": [
        "En tenslotte hebben we de \"Rain\" kindtabel:"
      ],
      "metadata": {
        "id": "5zGDH50uiKJ1"
      }
    },
    {
      "cell_type": "code",
      "source": [
        "rain = play[play['Outlook'] == 'Rain']\n",
        "rain"
      ],
      "metadata": {
        "colab": {
          "base_uri": "https://localhost:8080/",
          "height": 206
        },
        "id": "RZUVkqPxiTup",
        "outputId": "d939c1a5-9ab3-4c9c-cdaa-cfcc5b872c62"
      },
      "execution_count": null,
      "outputs": [
        {
          "output_type": "execute_result",
          "data": {
            "text/plain": [
              "    Day Outlook Temperature Humidity    Wind Play\n",
              "3    D4    Rain        Mild     High    Weak  Yes\n",
              "4    D5    Rain        Cool   Normal    Weak  Yes\n",
              "5    D6    Rain        Cool   Normal  Strong   No\n",
              "9   D10    Rain        Mild   Normal    Weak  Yes\n",
              "13  D14    Rain        Mild     High  Strong   No"
            ],
            "text/html": [
              "\n",
              "  <div id=\"df-171e489d-c4ef-4842-8da5-28eccb0a30d8\">\n",
              "    <div class=\"colab-df-container\">\n",
              "      <div>\n",
              "<style scoped>\n",
              "    .dataframe tbody tr th:only-of-type {\n",
              "        vertical-align: middle;\n",
              "    }\n",
              "\n",
              "    .dataframe tbody tr th {\n",
              "        vertical-align: top;\n",
              "    }\n",
              "\n",
              "    .dataframe thead th {\n",
              "        text-align: right;\n",
              "    }\n",
              "</style>\n",
              "<table border=\"1\" class=\"dataframe\">\n",
              "  <thead>\n",
              "    <tr style=\"text-align: right;\">\n",
              "      <th></th>\n",
              "      <th>Day</th>\n",
              "      <th>Outlook</th>\n",
              "      <th>Temperature</th>\n",
              "      <th>Humidity</th>\n",
              "      <th>Wind</th>\n",
              "      <th>Play</th>\n",
              "    </tr>\n",
              "  </thead>\n",
              "  <tbody>\n",
              "    <tr>\n",
              "      <th>3</th>\n",
              "      <td>D4</td>\n",
              "      <td>Rain</td>\n",
              "      <td>Mild</td>\n",
              "      <td>High</td>\n",
              "      <td>Weak</td>\n",
              "      <td>Yes</td>\n",
              "    </tr>\n",
              "    <tr>\n",
              "      <th>4</th>\n",
              "      <td>D5</td>\n",
              "      <td>Rain</td>\n",
              "      <td>Cool</td>\n",
              "      <td>Normal</td>\n",
              "      <td>Weak</td>\n",
              "      <td>Yes</td>\n",
              "    </tr>\n",
              "    <tr>\n",
              "      <th>5</th>\n",
              "      <td>D6</td>\n",
              "      <td>Rain</td>\n",
              "      <td>Cool</td>\n",
              "      <td>Normal</td>\n",
              "      <td>Strong</td>\n",
              "      <td>No</td>\n",
              "    </tr>\n",
              "    <tr>\n",
              "      <th>9</th>\n",
              "      <td>D10</td>\n",
              "      <td>Rain</td>\n",
              "      <td>Mild</td>\n",
              "      <td>Normal</td>\n",
              "      <td>Weak</td>\n",
              "      <td>Yes</td>\n",
              "    </tr>\n",
              "    <tr>\n",
              "      <th>13</th>\n",
              "      <td>D14</td>\n",
              "      <td>Rain</td>\n",
              "      <td>Mild</td>\n",
              "      <td>High</td>\n",
              "      <td>Strong</td>\n",
              "      <td>No</td>\n",
              "    </tr>\n",
              "  </tbody>\n",
              "</table>\n",
              "</div>\n",
              "      <button class=\"colab-df-convert\" onclick=\"convertToInteractive('df-171e489d-c4ef-4842-8da5-28eccb0a30d8')\"\n",
              "              title=\"Convert this dataframe to an interactive table.\"\n",
              "              style=\"display:none;\">\n",
              "        \n",
              "  <svg xmlns=\"http://www.w3.org/2000/svg\" height=\"24px\"viewBox=\"0 0 24 24\"\n",
              "       width=\"24px\">\n",
              "    <path d=\"M0 0h24v24H0V0z\" fill=\"none\"/>\n",
              "    <path d=\"M18.56 5.44l.94 2.06.94-2.06 2.06-.94-2.06-.94-.94-2.06-.94 2.06-2.06.94zm-11 1L8.5 8.5l.94-2.06 2.06-.94-2.06-.94L8.5 2.5l-.94 2.06-2.06.94zm10 10l.94 2.06.94-2.06 2.06-.94-2.06-.94-.94-2.06-.94 2.06-2.06.94z\"/><path d=\"M17.41 7.96l-1.37-1.37c-.4-.4-.92-.59-1.43-.59-.52 0-1.04.2-1.43.59L10.3 9.45l-7.72 7.72c-.78.78-.78 2.05 0 2.83L4 21.41c.39.39.9.59 1.41.59.51 0 1.02-.2 1.41-.59l7.78-7.78 2.81-2.81c.8-.78.8-2.07 0-2.86zM5.41 20L4 18.59l7.72-7.72 1.47 1.35L5.41 20z\"/>\n",
              "  </svg>\n",
              "      </button>\n",
              "      \n",
              "  <style>\n",
              "    .colab-df-container {\n",
              "      display:flex;\n",
              "      flex-wrap:wrap;\n",
              "      gap: 12px;\n",
              "    }\n",
              "\n",
              "    .colab-df-convert {\n",
              "      background-color: #E8F0FE;\n",
              "      border: none;\n",
              "      border-radius: 50%;\n",
              "      cursor: pointer;\n",
              "      display: none;\n",
              "      fill: #1967D2;\n",
              "      height: 32px;\n",
              "      padding: 0 0 0 0;\n",
              "      width: 32px;\n",
              "    }\n",
              "\n",
              "    .colab-df-convert:hover {\n",
              "      background-color: #E2EBFA;\n",
              "      box-shadow: 0px 1px 2px rgba(60, 64, 67, 0.3), 0px 1px 3px 1px rgba(60, 64, 67, 0.15);\n",
              "      fill: #174EA6;\n",
              "    }\n",
              "\n",
              "    [theme=dark] .colab-df-convert {\n",
              "      background-color: #3B4455;\n",
              "      fill: #D2E3FC;\n",
              "    }\n",
              "\n",
              "    [theme=dark] .colab-df-convert:hover {\n",
              "      background-color: #434B5C;\n",
              "      box-shadow: 0px 1px 3px 1px rgba(0, 0, 0, 0.15);\n",
              "      filter: drop-shadow(0px 1px 2px rgba(0, 0, 0, 0.3));\n",
              "      fill: #FFFFFF;\n",
              "    }\n",
              "  </style>\n",
              "\n",
              "      <script>\n",
              "        const buttonEl =\n",
              "          document.querySelector('#df-171e489d-c4ef-4842-8da5-28eccb0a30d8 button.colab-df-convert');\n",
              "        buttonEl.style.display =\n",
              "          google.colab.kernel.accessAllowed ? 'block' : 'none';\n",
              "\n",
              "        async function convertToInteractive(key) {\n",
              "          const element = document.querySelector('#df-171e489d-c4ef-4842-8da5-28eccb0a30d8');\n",
              "          const dataTable =\n",
              "            await google.colab.kernel.invokeFunction('convertToInteractive',\n",
              "                                                     [key], {});\n",
              "          if (!dataTable) return;\n",
              "\n",
              "          const docLinkHtml = 'Like what you see? Visit the ' +\n",
              "            '<a target=\"_blank\" href=https://colab.research.google.com/notebooks/data_table.ipynb>data table notebook</a>'\n",
              "            + ' to learn more about interactive tables.';\n",
              "          element.innerHTML = '';\n",
              "          dataTable['output_type'] = 'display_data';\n",
              "          await google.colab.output.renderOutput(dataTable, element);\n",
              "          const docLink = document.createElement('div');\n",
              "          docLink.innerHTML = docLinkHtml;\n",
              "          element.appendChild(docLink);\n",
              "        }\n",
              "      </script>\n",
              "    </div>\n",
              "  </div>\n",
              "  "
            ]
          },
          "metadata": {},
          "execution_count": 40
        }
      ]
    },
    {
      "cell_type": "code",
      "source": [
        "for attr in ['Temperature', 'Humidity', 'Wind']:\n",
        "    print('IG(', attr,') = ', information_gain(rain, target='Play', attr=attr), sep='')"
      ],
      "metadata": {
        "colab": {
          "base_uri": "https://localhost:8080/"
        },
        "id": "aWgtpnkKilJo",
        "outputId": "65811fa7-3505-4247-8d9d-b9383f2c0117"
      },
      "execution_count": null,
      "outputs": [
        {
          "output_type": "stream",
          "name": "stdout",
          "text": [
            "IG(Temperature) = 0.01997309402197489\n",
            "IG(Humidity) = 0.01997309402197489\n",
            "IG(Wind) = 0.9709505944546686\n"
          ]
        }
      ]
    },
    {
      "cell_type": "markdown",
      "source": [
        "Hier moeten we duidelijk splitsen op \"Wind\"!"
      ],
      "metadata": {
        "id": "w7WkVKNSiqvJ"
      }
    },
    {
      "cell_type": "markdown",
      "source": [
        "En zo krijgen we uiteindelijk de beslissingsboom die we eerder al hebben laten zien:\n",
        "- We kijken eerst naar \"Outlook\".\n",
        "  - Als \"Outlook\" gelijk is aan \"Sunny\", dan kijken we naar \"Humidity\".\n",
        "    - Als \"Humidity\" gelijk is aan \"High\", dan spelen we geen tennis.\n",
        "    - Als \"Humidity\" gelijk is aan \"Normal\", dan spelen we wel tennis.\n",
        "  - Als \"Outlook\" gelijk is aan \"Overcast\", dan spelen we tennis.\n",
        "  - Als \"Outlook\" gelijk is aan \"Rain\", dan kijken we naar \"Wind\".\n",
        "    - Als \"Wind\" gelijk is aan \"Strong\", dan spelen we geen tennis.\n",
        "    - Als \"Wind\" gelijk is aan \"Weak\", dan spelen we wel tennis."
      ],
      "metadata": {
        "id": "xll5NjI-i3I-"
      }
    },
    {
      "cell_type": "markdown",
      "source": [
        "![image.png](data:image/png;base64,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)"
      ],
      "metadata": {
        "id": "Dhw_fAMWi7rP"
      }
    },
    {
      "cell_type": "markdown",
      "source": [
        "## Opdracht"
      ],
      "metadata": {
        "id": "JkrZrM21nhCY"
      }
    },
    {
      "cell_type": "markdown",
      "source": [
        "Implementeer nu zelf het volledige ID3 algoritme in een functie of klasse waarbij je jouw code zo generiek mogelijk schrijft. D.w.z. dat je functie of klasse ook op een andere dataset kan toegepast worden en niet enkel op de dataset die we hier als voorbeeld hebben gebruikt!"
      ],
      "metadata": {
        "id": "cHP26apknl45"
      }
    },
    {
      "cell_type": "code",
      "source": [],
      "metadata": {
        "id": "o8usye2qnvHl"
      },
      "execution_count": null,
      "outputs": []
    },
    {
      "cell_type": "markdown",
      "source": [
        "---\n",
        "---\n",
        "## Bronnen"
      ],
      "metadata": {
        "id": "4c6g8oq2eAFb"
      }
    },
    {
      "cell_type": "markdown",
      "source": [
        "- Leo Breiman, Jerome Friedman, Charles J. Stone, and Richard A. Olshen. Classifcation and regression trees. CRC press, 1984.\n",
        "- J. Ross Quinlan. Induction of decision trees. Machine learning, 1(1):81-106, 1986.\n",
        "- Steven L Salzberg. C4.5: Programs for machine learning by J. Ross Quinlan. Morgan Kaufmann Publishers, inc., 1993. Machine Learning, 16(3):235-240, 1994.\n"
      ],
      "metadata": {
        "id": "fZ6j8wa6eEjC"
      }
    },
    {
      "cell_type": "markdown",
      "source": [
        "---"
      ],
      "metadata": {
        "id": "SxWGvT71eiVx"
      }
    }
  ]
}