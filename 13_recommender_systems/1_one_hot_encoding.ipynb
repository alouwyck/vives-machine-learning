{
  "nbformat": 4,
  "nbformat_minor": 0,
  "metadata": {
    "colab": {
      "provenance": [],
      "toc_visible": true,
      "include_colab_link": true
    },
    "kernelspec": {
      "name": "python3",
      "display_name": "Python 3"
    },
    "language_info": {
      "name": "python"
    }
  },
  "cells": [
    {
      "cell_type": "markdown",
      "metadata": {
        "id": "view-in-github",
        "colab_type": "text"
      },
      "source": [
        "<a href=\"https://colab.research.google.com/github/alouwyck/vives-machine-learning/blob/main/13_recommender_systems/1_one_hot_encoding.ipynb\" target=\"_parent\"><img src=\"https://colab.research.google.com/assets/colab-badge.svg\" alt=\"Open In Colab\"/></a>"
      ]
    },
    {
      "cell_type": "markdown",
      "metadata": {
        "id": "lewAFonyBbSW"
      },
      "source": [
        "<img src=\"data:image/png;base64,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\" align=\"right\" /><br>\n",
        "\n",
        "\n",
        "**MACHINE LEARNING FUNDAMENTALS**<br>\n",
        "Academiejaar 2023-2024<br>\n",
        "Andy Louwyck\n",
        "\n",
        "---\n",
        "\n",
        "\n",
        "\n",
        "---\n",
        "\n"
      ]
    },
    {
      "cell_type": "markdown",
      "metadata": {
        "id": "rCX2XN6c0zys"
      },
      "source": [
        "## One-hot encoding"
      ]
    },
    {
      "cell_type": "markdown",
      "metadata": {
        "id": "aYgxF_nRCnSN"
      },
      "source": [
        "### Uitleg"
      ]
    },
    {
      "cell_type": "markdown",
      "metadata": {
        "id": "OQ0W217U5Pso"
      },
      "source": [
        "Omzetten van **categorische variabelen** naar numerieke waarden:\n",
        "- **ordinaal** (volgorde):\n",
        "  - bv. test scores {A, B, C, D, E, F}\n",
        "  - worden integers {5, 4, 3, 2, 1, 0}\n",
        "  - OK want volgorde blijft\n",
        "- **nominaal** (geen volgorde):\n",
        "  - bv. klassen {kat, hond, konijn}\n",
        "  - worden integers {0, 1, 2}\n",
        "  - niet ok, want 2 > 1 > 0, en volgorde mag niet!\n",
        "\n",
        "Mogelijke oplossing is **one-hot encoding** toepassen:\n",
        "- klassen {kat, hond, konijn}\n",
        "- worden omgezet naar {100, 010, 001}\n",
        "\n"
      ]
    },
    {
      "cell_type": "markdown",
      "metadata": {
        "id": "ntgwC5BuBoln"
      },
      "source": [
        "![image.png](data:image/png;base64,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)"
      ]
    },
    {
      "cell_type": "markdown",
      "metadata": {
        "id": "c5-5gZ-B8FRt"
      },
      "source": [
        "**ONE-HOT ENCODING:**\n",
        "- TRANSFORMATIE van nominale data\n",
        "- tijdens de PREPROCESSING fase\n",
        "- om performantie van algoritmes te verhogen\n",
        "- = DUMMY variabelen in de statistiek\n",
        "\n",
        "**HOE?**\n",
        "- stel: K klassen\n",
        "- klassen nummeren van 0 t.e.m. K-1\n",
        "- klasse i:\n",
        "  - array met allemaal nullen\n",
        "  - uitgezonderd: i-de element = 1\n"
      ]
    },
    {
      "cell_type": "markdown",
      "metadata": {
        "id": "tIkU3i8795cH"
      },
      "source": [
        "**ONE-COLD ENCODING** bestaat ook:\n",
        "- idem als one-hot enconding, maar nullen worden enen en één wordt nul\n",
        "- klasse i:\n",
        "  - array met allemaal enen\n",
        "  - uitgezonderd: i-de element = 0"
      ]
    },
    {
      "cell_type": "markdown",
      "metadata": {
        "id": "9Q5GLMrNCvWr"
      },
      "source": [
        "### Zelf coderen"
      ]
    },
    {
      "cell_type": "markdown",
      "metadata": {
        "id": "fkdsjCOZ-Fvx"
      },
      "source": [
        "Schrijf een functie `one_hot_encoder()` die één klasse uit een lijst van K klassen omzet volgens one-hot encoding"
      ]
    },
    {
      "cell_type": "code",
      "metadata": {
        "id": "adS8oDCl-To9"
      },
      "source": [
        "import numpy as np\n",
        "\n",
        "def one_hot_encoder(value, values):\n",
        "    # value is the class value\n",
        "    # values is the list of class values\n",
        "    # returns numpy array with the one-hot code of the given value\n",
        "    k = len(values)\n",
        "    i = values.index(value)\n",
        "    c = np.zeros(k)\n",
        "    c[i] = 1\n",
        "    return c"
      ],
      "execution_count": 1,
      "outputs": []
    },
    {
      "cell_type": "markdown",
      "metadata": {
        "id": "KeHE83PZ_PDI"
      },
      "source": [
        "Test uit op `['kat', 'hond', 'konijn']`:"
      ]
    },
    {
      "cell_type": "code",
      "metadata": {
        "colab": {
          "base_uri": "https://localhost:8080/"
        },
        "id": "tDdajV8g_Wyt",
        "outputId": "64acad56-b7d3-4c3d-ee76-ce2d6c70e5ef"
      },
      "source": [
        "from random import shuffle\n",
        "\n",
        "classes = ['kat', 'hond', 'konijn']\n",
        "values = classes.copy()\n",
        "shuffle(values)\n",
        "\n",
        "for value in values:\n",
        "    print(value, one_hot_encoder(value, classes), sep='\\t')"
      ],
      "execution_count": 2,
      "outputs": [
        {
          "output_type": "stream",
          "name": "stdout",
          "text": [
            "konijn\t[0. 0. 1.]\n",
            "kat\t[1. 0. 0.]\n",
            "hond\t[0. 1. 0.]\n"
          ]
        }
      ]
    },
    {
      "cell_type": "markdown",
      "metadata": {
        "id": "JBnIEeThB2dx"
      },
      "source": [
        "Schrijf ook een functie `one_cold_encoder()` die één klasse uit een lijst van K klassen omzet volgens one-cold encoding"
      ]
    },
    {
      "cell_type": "code",
      "metadata": {
        "id": "_TdfNcZHB6tV"
      },
      "source": [
        "def one_cold_encoder(value, values):\n",
        "    # value is the class value\n",
        "    # values is the list of class values\n",
        "    # returns numpy array with the one-cold code of the given value\n",
        "    k = len(values)\n",
        "    i = values.index(value)\n",
        "    c = np.ones(k)\n",
        "    c[i] = 0\n",
        "    return c"
      ],
      "execution_count": 3,
      "outputs": []
    },
    {
      "cell_type": "markdown",
      "metadata": {
        "id": "r67sUl8DCCJ8"
      },
      "source": [
        "Test uit op `['appel', 'peer', 'banaan', 'kers', 'kiwi']`:"
      ]
    },
    {
      "cell_type": "code",
      "metadata": {
        "colab": {
          "base_uri": "https://localhost:8080/"
        },
        "id": "0ggrcRzpCNN5",
        "outputId": "3be3dda8-9c14-4b5d-d9af-25fa2d079403"
      },
      "source": [
        "classes = ['appel', 'peer', 'banaan', 'kers', 'kiwi']\n",
        "values = classes.copy()\n",
        "shuffle(values)\n",
        "\n",
        "for value in values:\n",
        "    print(value, one_cold_encoder(value, classes), sep='\\t')"
      ],
      "execution_count": 4,
      "outputs": [
        {
          "output_type": "stream",
          "name": "stdout",
          "text": [
            "kiwi\t[1. 1. 1. 1. 0.]\n",
            "peer\t[1. 0. 1. 1. 1.]\n",
            "banaan\t[1. 1. 0. 1. 1.]\n",
            "kers\t[1. 1. 1. 0. 1.]\n",
            "appel\t[0. 1. 1. 1. 1.]\n"
          ]
        }
      ]
    },
    {
      "cell_type": "markdown",
      "metadata": {
        "id": "fcAFUBZaC24y"
      },
      "source": [
        "### Pandas"
      ]
    },
    {
      "cell_type": "markdown",
      "metadata": {
        "id": "z38YOjwxC5ES"
      },
      "source": [
        "Pandas heeft een functie `get_dummies()`:"
      ]
    },
    {
      "cell_type": "code",
      "metadata": {
        "colab": {
          "base_uri": "https://localhost:8080/",
          "height": 206
        },
        "id": "-BKD1NpvDcT6",
        "outputId": "7865f2ac-54b0-4498-dfe7-54f1a8cb9ef4"
      },
      "source": [
        "import pandas as pd\n",
        "\n",
        "df = pd.DataFrame({'naam':  ['Jan', 'Piet', 'Joris', 'Korneel', 'Jos'],\n",
        "                   'fruit': ['banaan', 'appel', 'peer', 'appel', 'banaan']})\n",
        "df"
      ],
      "execution_count": 5,
      "outputs": [
        {
          "output_type": "execute_result",
          "data": {
            "text/plain": [
              "      naam   fruit\n",
              "0      Jan  banaan\n",
              "1     Piet   appel\n",
              "2    Joris    peer\n",
              "3  Korneel   appel\n",
              "4      Jos  banaan"
            ],
            "text/html": [
              "\n",
              "  <div id=\"df-41fef3b2-0f3e-45af-b6c7-d70b7237bd00\" class=\"colab-df-container\">\n",
              "    <div>\n",
              "<style scoped>\n",
              "    .dataframe tbody tr th:only-of-type {\n",
              "        vertical-align: middle;\n",
              "    }\n",
              "\n",
              "    .dataframe tbody tr th {\n",
              "        vertical-align: top;\n",
              "    }\n",
              "\n",
              "    .dataframe thead th {\n",
              "        text-align: right;\n",
              "    }\n",
              "</style>\n",
              "<table border=\"1\" class=\"dataframe\">\n",
              "  <thead>\n",
              "    <tr style=\"text-align: right;\">\n",
              "      <th></th>\n",
              "      <th>naam</th>\n",
              "      <th>fruit</th>\n",
              "    </tr>\n",
              "  </thead>\n",
              "  <tbody>\n",
              "    <tr>\n",
              "      <th>0</th>\n",
              "      <td>Jan</td>\n",
              "      <td>banaan</td>\n",
              "    </tr>\n",
              "    <tr>\n",
              "      <th>1</th>\n",
              "      <td>Piet</td>\n",
              "      <td>appel</td>\n",
              "    </tr>\n",
              "    <tr>\n",
              "      <th>2</th>\n",
              "      <td>Joris</td>\n",
              "      <td>peer</td>\n",
              "    </tr>\n",
              "    <tr>\n",
              "      <th>3</th>\n",
              "      <td>Korneel</td>\n",
              "      <td>appel</td>\n",
              "    </tr>\n",
              "    <tr>\n",
              "      <th>4</th>\n",
              "      <td>Jos</td>\n",
              "      <td>banaan</td>\n",
              "    </tr>\n",
              "  </tbody>\n",
              "</table>\n",
              "</div>\n",
              "    <div class=\"colab-df-buttons\">\n",
              "\n",
              "  <div class=\"colab-df-container\">\n",
              "    <button class=\"colab-df-convert\" onclick=\"convertToInteractive('df-41fef3b2-0f3e-45af-b6c7-d70b7237bd00')\"\n",
              "            title=\"Convert this dataframe to an interactive table.\"\n",
              "            style=\"display:none;\">\n",
              "\n",
              "  <svg xmlns=\"http://www.w3.org/2000/svg\" height=\"24px\" viewBox=\"0 -960 960 960\">\n",
              "    <path d=\"M120-120v-720h720v720H120Zm60-500h600v-160H180v160Zm220 220h160v-160H400v160Zm0 220h160v-160H400v160ZM180-400h160v-160H180v160Zm440 0h160v-160H620v160ZM180-180h160v-160H180v160Zm440 0h160v-160H620v160Z\"/>\n",
              "  </svg>\n",
              "    </button>\n",
              "\n",
              "  <style>\n",
              "    .colab-df-container {\n",
              "      display:flex;\n",
              "      gap: 12px;\n",
              "    }\n",
              "\n",
              "    .colab-df-convert {\n",
              "      background-color: #E8F0FE;\n",
              "      border: none;\n",
              "      border-radius: 50%;\n",
              "      cursor: pointer;\n",
              "      display: none;\n",
              "      fill: #1967D2;\n",
              "      height: 32px;\n",
              "      padding: 0 0 0 0;\n",
              "      width: 32px;\n",
              "    }\n",
              "\n",
              "    .colab-df-convert:hover {\n",
              "      background-color: #E2EBFA;\n",
              "      box-shadow: 0px 1px 2px rgba(60, 64, 67, 0.3), 0px 1px 3px 1px rgba(60, 64, 67, 0.15);\n",
              "      fill: #174EA6;\n",
              "    }\n",
              "\n",
              "    .colab-df-buttons div {\n",
              "      margin-bottom: 4px;\n",
              "    }\n",
              "\n",
              "    [theme=dark] .colab-df-convert {\n",
              "      background-color: #3B4455;\n",
              "      fill: #D2E3FC;\n",
              "    }\n",
              "\n",
              "    [theme=dark] .colab-df-convert:hover {\n",
              "      background-color: #434B5C;\n",
              "      box-shadow: 0px 1px 3px 1px rgba(0, 0, 0, 0.15);\n",
              "      filter: drop-shadow(0px 1px 2px rgba(0, 0, 0, 0.3));\n",
              "      fill: #FFFFFF;\n",
              "    }\n",
              "  </style>\n",
              "\n",
              "    <script>\n",
              "      const buttonEl =\n",
              "        document.querySelector('#df-41fef3b2-0f3e-45af-b6c7-d70b7237bd00 button.colab-df-convert');\n",
              "      buttonEl.style.display =\n",
              "        google.colab.kernel.accessAllowed ? 'block' : 'none';\n",
              "\n",
              "      async function convertToInteractive(key) {\n",
              "        const element = document.querySelector('#df-41fef3b2-0f3e-45af-b6c7-d70b7237bd00');\n",
              "        const dataTable =\n",
              "          await google.colab.kernel.invokeFunction('convertToInteractive',\n",
              "                                                    [key], {});\n",
              "        if (!dataTable) return;\n",
              "\n",
              "        const docLinkHtml = 'Like what you see? Visit the ' +\n",
              "          '<a target=\"_blank\" href=https://colab.research.google.com/notebooks/data_table.ipynb>data table notebook</a>'\n",
              "          + ' to learn more about interactive tables.';\n",
              "        element.innerHTML = '';\n",
              "        dataTable['output_type'] = 'display_data';\n",
              "        await google.colab.output.renderOutput(dataTable, element);\n",
              "        const docLink = document.createElement('div');\n",
              "        docLink.innerHTML = docLinkHtml;\n",
              "        element.appendChild(docLink);\n",
              "      }\n",
              "    </script>\n",
              "  </div>\n",
              "\n",
              "\n",
              "<div id=\"df-d069639e-dc94-473a-aa0a-2e33df0732dd\">\n",
              "  <button class=\"colab-df-quickchart\" onclick=\"quickchart('df-d069639e-dc94-473a-aa0a-2e33df0732dd')\"\n",
              "            title=\"Suggest charts\"\n",
              "            style=\"display:none;\">\n",
              "\n",
              "<svg xmlns=\"http://www.w3.org/2000/svg\" height=\"24px\"viewBox=\"0 0 24 24\"\n",
              "     width=\"24px\">\n",
              "    <g>\n",
              "        <path d=\"M19 3H5c-1.1 0-2 .9-2 2v14c0 1.1.9 2 2 2h14c1.1 0 2-.9 2-2V5c0-1.1-.9-2-2-2zM9 17H7v-7h2v7zm4 0h-2V7h2v10zm4 0h-2v-4h2v4z\"/>\n",
              "    </g>\n",
              "</svg>\n",
              "  </button>\n",
              "\n",
              "<style>\n",
              "  .colab-df-quickchart {\n",
              "      --bg-color: #E8F0FE;\n",
              "      --fill-color: #1967D2;\n",
              "      --hover-bg-color: #E2EBFA;\n",
              "      --hover-fill-color: #174EA6;\n",
              "      --disabled-fill-color: #AAA;\n",
              "      --disabled-bg-color: #DDD;\n",
              "  }\n",
              "\n",
              "  [theme=dark] .colab-df-quickchart {\n",
              "      --bg-color: #3B4455;\n",
              "      --fill-color: #D2E3FC;\n",
              "      --hover-bg-color: #434B5C;\n",
              "      --hover-fill-color: #FFFFFF;\n",
              "      --disabled-bg-color: #3B4455;\n",
              "      --disabled-fill-color: #666;\n",
              "  }\n",
              "\n",
              "  .colab-df-quickchart {\n",
              "    background-color: var(--bg-color);\n",
              "    border: none;\n",
              "    border-radius: 50%;\n",
              "    cursor: pointer;\n",
              "    display: none;\n",
              "    fill: var(--fill-color);\n",
              "    height: 32px;\n",
              "    padding: 0;\n",
              "    width: 32px;\n",
              "  }\n",
              "\n",
              "  .colab-df-quickchart:hover {\n",
              "    background-color: var(--hover-bg-color);\n",
              "    box-shadow: 0 1px 2px rgba(60, 64, 67, 0.3), 0 1px 3px 1px rgba(60, 64, 67, 0.15);\n",
              "    fill: var(--button-hover-fill-color);\n",
              "  }\n",
              "\n",
              "  .colab-df-quickchart-complete:disabled,\n",
              "  .colab-df-quickchart-complete:disabled:hover {\n",
              "    background-color: var(--disabled-bg-color);\n",
              "    fill: var(--disabled-fill-color);\n",
              "    box-shadow: none;\n",
              "  }\n",
              "\n",
              "  .colab-df-spinner {\n",
              "    border: 2px solid var(--fill-color);\n",
              "    border-color: transparent;\n",
              "    border-bottom-color: var(--fill-color);\n",
              "    animation:\n",
              "      spin 1s steps(1) infinite;\n",
              "  }\n",
              "\n",
              "  @keyframes spin {\n",
              "    0% {\n",
              "      border-color: transparent;\n",
              "      border-bottom-color: var(--fill-color);\n",
              "      border-left-color: var(--fill-color);\n",
              "    }\n",
              "    20% {\n",
              "      border-color: transparent;\n",
              "      border-left-color: var(--fill-color);\n",
              "      border-top-color: var(--fill-color);\n",
              "    }\n",
              "    30% {\n",
              "      border-color: transparent;\n",
              "      border-left-color: var(--fill-color);\n",
              "      border-top-color: var(--fill-color);\n",
              "      border-right-color: var(--fill-color);\n",
              "    }\n",
              "    40% {\n",
              "      border-color: transparent;\n",
              "      border-right-color: var(--fill-color);\n",
              "      border-top-color: var(--fill-color);\n",
              "    }\n",
              "    60% {\n",
              "      border-color: transparent;\n",
              "      border-right-color: var(--fill-color);\n",
              "    }\n",
              "    80% {\n",
              "      border-color: transparent;\n",
              "      border-right-color: var(--fill-color);\n",
              "      border-bottom-color: var(--fill-color);\n",
              "    }\n",
              "    90% {\n",
              "      border-color: transparent;\n",
              "      border-bottom-color: var(--fill-color);\n",
              "    }\n",
              "  }\n",
              "</style>\n",
              "\n",
              "  <script>\n",
              "    async function quickchart(key) {\n",
              "      const quickchartButtonEl =\n",
              "        document.querySelector('#' + key + ' button');\n",
              "      quickchartButtonEl.disabled = true;  // To prevent multiple clicks.\n",
              "      quickchartButtonEl.classList.add('colab-df-spinner');\n",
              "      try {\n",
              "        const charts = await google.colab.kernel.invokeFunction(\n",
              "            'suggestCharts', [key], {});\n",
              "      } catch (error) {\n",
              "        console.error('Error during call to suggestCharts:', error);\n",
              "      }\n",
              "      quickchartButtonEl.classList.remove('colab-df-spinner');\n",
              "      quickchartButtonEl.classList.add('colab-df-quickchart-complete');\n",
              "    }\n",
              "    (() => {\n",
              "      let quickchartButtonEl =\n",
              "        document.querySelector('#df-d069639e-dc94-473a-aa0a-2e33df0732dd button');\n",
              "      quickchartButtonEl.style.display =\n",
              "        google.colab.kernel.accessAllowed ? 'block' : 'none';\n",
              "    })();\n",
              "  </script>\n",
              "</div>\n",
              "    </div>\n",
              "  </div>\n"
            ],
            "application/vnd.google.colaboratory.intrinsic+json": {
              "type": "dataframe",
              "variable_name": "df",
              "summary": "{\n  \"name\": \"df\",\n  \"rows\": 5,\n  \"fields\": [\n    {\n      \"column\": \"naam\",\n      \"properties\": {\n        \"dtype\": \"string\",\n        \"num_unique_values\": 5,\n        \"samples\": [\n          \"Piet\",\n          \"Jos\",\n          \"Joris\"\n        ],\n        \"semantic_type\": \"\",\n        \"description\": \"\"\n      }\n    },\n    {\n      \"column\": \"fruit\",\n      \"properties\": {\n        \"dtype\": \"string\",\n        \"num_unique_values\": 3,\n        \"samples\": [\n          \"banaan\",\n          \"appel\",\n          \"peer\"\n        ],\n        \"semantic_type\": \"\",\n        \"description\": \"\"\n      }\n    }\n  ]\n}"
            }
          },
          "metadata": {},
          "execution_count": 5
        }
      ]
    },
    {
      "cell_type": "code",
      "metadata": {
        "colab": {
          "base_uri": "https://localhost:8080/",
          "height": 206
        },
        "id": "1rTx5iaVEHPP",
        "outputId": "7a84f5b8-3286-42cf-d45e-6c986a548987"
      },
      "source": [
        "pd.get_dummies(df, columns=['fruit'], prefix='', prefix_sep='')  # prefix=None zal prefix 'fruit_' toevoegen aan de kolomnamen"
      ],
      "execution_count": 6,
      "outputs": [
        {
          "output_type": "execute_result",
          "data": {
            "text/plain": [
              "      naam  appel  banaan   peer\n",
              "0      Jan  False    True  False\n",
              "1     Piet   True   False  False\n",
              "2    Joris  False   False   True\n",
              "3  Korneel   True   False  False\n",
              "4      Jos  False    True  False"
            ],
            "text/html": [
              "\n",
              "  <div id=\"df-b67c3c2a-03db-4ba2-8fcc-7551b214044d\" class=\"colab-df-container\">\n",
              "    <div>\n",
              "<style scoped>\n",
              "    .dataframe tbody tr th:only-of-type {\n",
              "        vertical-align: middle;\n",
              "    }\n",
              "\n",
              "    .dataframe tbody tr th {\n",
              "        vertical-align: top;\n",
              "    }\n",
              "\n",
              "    .dataframe thead th {\n",
              "        text-align: right;\n",
              "    }\n",
              "</style>\n",
              "<table border=\"1\" class=\"dataframe\">\n",
              "  <thead>\n",
              "    <tr style=\"text-align: right;\">\n",
              "      <th></th>\n",
              "      <th>naam</th>\n",
              "      <th>appel</th>\n",
              "      <th>banaan</th>\n",
              "      <th>peer</th>\n",
              "    </tr>\n",
              "  </thead>\n",
              "  <tbody>\n",
              "    <tr>\n",
              "      <th>0</th>\n",
              "      <td>Jan</td>\n",
              "      <td>False</td>\n",
              "      <td>True</td>\n",
              "      <td>False</td>\n",
              "    </tr>\n",
              "    <tr>\n",
              "      <th>1</th>\n",
              "      <td>Piet</td>\n",
              "      <td>True</td>\n",
              "      <td>False</td>\n",
              "      <td>False</td>\n",
              "    </tr>\n",
              "    <tr>\n",
              "      <th>2</th>\n",
              "      <td>Joris</td>\n",
              "      <td>False</td>\n",
              "      <td>False</td>\n",
              "      <td>True</td>\n",
              "    </tr>\n",
              "    <tr>\n",
              "      <th>3</th>\n",
              "      <td>Korneel</td>\n",
              "      <td>True</td>\n",
              "      <td>False</td>\n",
              "      <td>False</td>\n",
              "    </tr>\n",
              "    <tr>\n",
              "      <th>4</th>\n",
              "      <td>Jos</td>\n",
              "      <td>False</td>\n",
              "      <td>True</td>\n",
              "      <td>False</td>\n",
              "    </tr>\n",
              "  </tbody>\n",
              "</table>\n",
              "</div>\n",
              "    <div class=\"colab-df-buttons\">\n",
              "\n",
              "  <div class=\"colab-df-container\">\n",
              "    <button class=\"colab-df-convert\" onclick=\"convertToInteractive('df-b67c3c2a-03db-4ba2-8fcc-7551b214044d')\"\n",
              "            title=\"Convert this dataframe to an interactive table.\"\n",
              "            style=\"display:none;\">\n",
              "\n",
              "  <svg xmlns=\"http://www.w3.org/2000/svg\" height=\"24px\" viewBox=\"0 -960 960 960\">\n",
              "    <path d=\"M120-120v-720h720v720H120Zm60-500h600v-160H180v160Zm220 220h160v-160H400v160Zm0 220h160v-160H400v160ZM180-400h160v-160H180v160Zm440 0h160v-160H620v160ZM180-180h160v-160H180v160Zm440 0h160v-160H620v160Z\"/>\n",
              "  </svg>\n",
              "    </button>\n",
              "\n",
              "  <style>\n",
              "    .colab-df-container {\n",
              "      display:flex;\n",
              "      gap: 12px;\n",
              "    }\n",
              "\n",
              "    .colab-df-convert {\n",
              "      background-color: #E8F0FE;\n",
              "      border: none;\n",
              "      border-radius: 50%;\n",
              "      cursor: pointer;\n",
              "      display: none;\n",
              "      fill: #1967D2;\n",
              "      height: 32px;\n",
              "      padding: 0 0 0 0;\n",
              "      width: 32px;\n",
              "    }\n",
              "\n",
              "    .colab-df-convert:hover {\n",
              "      background-color: #E2EBFA;\n",
              "      box-shadow: 0px 1px 2px rgba(60, 64, 67, 0.3), 0px 1px 3px 1px rgba(60, 64, 67, 0.15);\n",
              "      fill: #174EA6;\n",
              "    }\n",
              "\n",
              "    .colab-df-buttons div {\n",
              "      margin-bottom: 4px;\n",
              "    }\n",
              "\n",
              "    [theme=dark] .colab-df-convert {\n",
              "      background-color: #3B4455;\n",
              "      fill: #D2E3FC;\n",
              "    }\n",
              "\n",
              "    [theme=dark] .colab-df-convert:hover {\n",
              "      background-color: #434B5C;\n",
              "      box-shadow: 0px 1px 3px 1px rgba(0, 0, 0, 0.15);\n",
              "      filter: drop-shadow(0px 1px 2px rgba(0, 0, 0, 0.3));\n",
              "      fill: #FFFFFF;\n",
              "    }\n",
              "  </style>\n",
              "\n",
              "    <script>\n",
              "      const buttonEl =\n",
              "        document.querySelector('#df-b67c3c2a-03db-4ba2-8fcc-7551b214044d button.colab-df-convert');\n",
              "      buttonEl.style.display =\n",
              "        google.colab.kernel.accessAllowed ? 'block' : 'none';\n",
              "\n",
              "      async function convertToInteractive(key) {\n",
              "        const element = document.querySelector('#df-b67c3c2a-03db-4ba2-8fcc-7551b214044d');\n",
              "        const dataTable =\n",
              "          await google.colab.kernel.invokeFunction('convertToInteractive',\n",
              "                                                    [key], {});\n",
              "        if (!dataTable) return;\n",
              "\n",
              "        const docLinkHtml = 'Like what you see? Visit the ' +\n",
              "          '<a target=\"_blank\" href=https://colab.research.google.com/notebooks/data_table.ipynb>data table notebook</a>'\n",
              "          + ' to learn more about interactive tables.';\n",
              "        element.innerHTML = '';\n",
              "        dataTable['output_type'] = 'display_data';\n",
              "        await google.colab.output.renderOutput(dataTable, element);\n",
              "        const docLink = document.createElement('div');\n",
              "        docLink.innerHTML = docLinkHtml;\n",
              "        element.appendChild(docLink);\n",
              "      }\n",
              "    </script>\n",
              "  </div>\n",
              "\n",
              "\n",
              "<div id=\"df-f31d609c-939e-4f12-8963-c41b216d97cc\">\n",
              "  <button class=\"colab-df-quickchart\" onclick=\"quickchart('df-f31d609c-939e-4f12-8963-c41b216d97cc')\"\n",
              "            title=\"Suggest charts\"\n",
              "            style=\"display:none;\">\n",
              "\n",
              "<svg xmlns=\"http://www.w3.org/2000/svg\" height=\"24px\"viewBox=\"0 0 24 24\"\n",
              "     width=\"24px\">\n",
              "    <g>\n",
              "        <path d=\"M19 3H5c-1.1 0-2 .9-2 2v14c0 1.1.9 2 2 2h14c1.1 0 2-.9 2-2V5c0-1.1-.9-2-2-2zM9 17H7v-7h2v7zm4 0h-2V7h2v10zm4 0h-2v-4h2v4z\"/>\n",
              "    </g>\n",
              "</svg>\n",
              "  </button>\n",
              "\n",
              "<style>\n",
              "  .colab-df-quickchart {\n",
              "      --bg-color: #E8F0FE;\n",
              "      --fill-color: #1967D2;\n",
              "      --hover-bg-color: #E2EBFA;\n",
              "      --hover-fill-color: #174EA6;\n",
              "      --disabled-fill-color: #AAA;\n",
              "      --disabled-bg-color: #DDD;\n",
              "  }\n",
              "\n",
              "  [theme=dark] .colab-df-quickchart {\n",
              "      --bg-color: #3B4455;\n",
              "      --fill-color: #D2E3FC;\n",
              "      --hover-bg-color: #434B5C;\n",
              "      --hover-fill-color: #FFFFFF;\n",
              "      --disabled-bg-color: #3B4455;\n",
              "      --disabled-fill-color: #666;\n",
              "  }\n",
              "\n",
              "  .colab-df-quickchart {\n",
              "    background-color: var(--bg-color);\n",
              "    border: none;\n",
              "    border-radius: 50%;\n",
              "    cursor: pointer;\n",
              "    display: none;\n",
              "    fill: var(--fill-color);\n",
              "    height: 32px;\n",
              "    padding: 0;\n",
              "    width: 32px;\n",
              "  }\n",
              "\n",
              "  .colab-df-quickchart:hover {\n",
              "    background-color: var(--hover-bg-color);\n",
              "    box-shadow: 0 1px 2px rgba(60, 64, 67, 0.3), 0 1px 3px 1px rgba(60, 64, 67, 0.15);\n",
              "    fill: var(--button-hover-fill-color);\n",
              "  }\n",
              "\n",
              "  .colab-df-quickchart-complete:disabled,\n",
              "  .colab-df-quickchart-complete:disabled:hover {\n",
              "    background-color: var(--disabled-bg-color);\n",
              "    fill: var(--disabled-fill-color);\n",
              "    box-shadow: none;\n",
              "  }\n",
              "\n",
              "  .colab-df-spinner {\n",
              "    border: 2px solid var(--fill-color);\n",
              "    border-color: transparent;\n",
              "    border-bottom-color: var(--fill-color);\n",
              "    animation:\n",
              "      spin 1s steps(1) infinite;\n",
              "  }\n",
              "\n",
              "  @keyframes spin {\n",
              "    0% {\n",
              "      border-color: transparent;\n",
              "      border-bottom-color: var(--fill-color);\n",
              "      border-left-color: var(--fill-color);\n",
              "    }\n",
              "    20% {\n",
              "      border-color: transparent;\n",
              "      border-left-color: var(--fill-color);\n",
              "      border-top-color: var(--fill-color);\n",
              "    }\n",
              "    30% {\n",
              "      border-color: transparent;\n",
              "      border-left-color: var(--fill-color);\n",
              "      border-top-color: var(--fill-color);\n",
              "      border-right-color: var(--fill-color);\n",
              "    }\n",
              "    40% {\n",
              "      border-color: transparent;\n",
              "      border-right-color: var(--fill-color);\n",
              "      border-top-color: var(--fill-color);\n",
              "    }\n",
              "    60% {\n",
              "      border-color: transparent;\n",
              "      border-right-color: var(--fill-color);\n",
              "    }\n",
              "    80% {\n",
              "      border-color: transparent;\n",
              "      border-right-color: var(--fill-color);\n",
              "      border-bottom-color: var(--fill-color);\n",
              "    }\n",
              "    90% {\n",
              "      border-color: transparent;\n",
              "      border-bottom-color: var(--fill-color);\n",
              "    }\n",
              "  }\n",
              "</style>\n",
              "\n",
              "  <script>\n",
              "    async function quickchart(key) {\n",
              "      const quickchartButtonEl =\n",
              "        document.querySelector('#' + key + ' button');\n",
              "      quickchartButtonEl.disabled = true;  // To prevent multiple clicks.\n",
              "      quickchartButtonEl.classList.add('colab-df-spinner');\n",
              "      try {\n",
              "        const charts = await google.colab.kernel.invokeFunction(\n",
              "            'suggestCharts', [key], {});\n",
              "      } catch (error) {\n",
              "        console.error('Error during call to suggestCharts:', error);\n",
              "      }\n",
              "      quickchartButtonEl.classList.remove('colab-df-spinner');\n",
              "      quickchartButtonEl.classList.add('colab-df-quickchart-complete');\n",
              "    }\n",
              "    (() => {\n",
              "      let quickchartButtonEl =\n",
              "        document.querySelector('#df-f31d609c-939e-4f12-8963-c41b216d97cc button');\n",
              "      quickchartButtonEl.style.display =\n",
              "        google.colab.kernel.accessAllowed ? 'block' : 'none';\n",
              "    })();\n",
              "  </script>\n",
              "</div>\n",
              "    </div>\n",
              "  </div>\n"
            ],
            "application/vnd.google.colaboratory.intrinsic+json": {
              "type": "dataframe",
              "summary": "{\n  \"name\": \"pd\",\n  \"rows\": 5,\n  \"fields\": [\n    {\n      \"column\": \"naam\",\n      \"properties\": {\n        \"dtype\": \"string\",\n        \"num_unique_values\": 5,\n        \"samples\": [\n          \"Piet\",\n          \"Jos\",\n          \"Joris\"\n        ],\n        \"semantic_type\": \"\",\n        \"description\": \"\"\n      }\n    },\n    {\n      \"column\": \"appel\",\n      \"properties\": {\n        \"dtype\": \"boolean\",\n        \"num_unique_values\": 2,\n        \"samples\": [\n          true,\n          false\n        ],\n        \"semantic_type\": \"\",\n        \"description\": \"\"\n      }\n    },\n    {\n      \"column\": \"banaan\",\n      \"properties\": {\n        \"dtype\": \"boolean\",\n        \"num_unique_values\": 2,\n        \"samples\": [\n          false,\n          true\n        ],\n        \"semantic_type\": \"\",\n        \"description\": \"\"\n      }\n    },\n    {\n      \"column\": \"peer\",\n      \"properties\": {\n        \"dtype\": \"boolean\",\n        \"num_unique_values\": 2,\n        \"samples\": [\n          true,\n          false\n        ],\n        \"semantic_type\": \"\",\n        \"description\": \"\"\n      }\n    }\n  ]\n}"
            }
          },
          "metadata": {},
          "execution_count": 6
        }
      ]
    },
    {
      "cell_type": "markdown",
      "metadata": {
        "id": "G5bCITdwE_rK"
      },
      "source": [
        "### Scikit-Learn"
      ]
    },
    {
      "cell_type": "markdown",
      "metadata": {
        "id": "IXEduJlTFJ7o"
      },
      "source": [
        "Scikit-Learn heeft de klassen `OneHotEncoder` en `LabelBinarizer` in module `preprocessing`:"
      ]
    },
    {
      "cell_type": "code",
      "metadata": {
        "id": "qBGpf-tnFQ6V"
      },
      "source": [
        "from sklearn.preprocessing import OneHotEncoder, LabelBinarizer"
      ],
      "execution_count": 7,
      "outputs": []
    },
    {
      "cell_type": "code",
      "metadata": {
        "colab": {
          "base_uri": "https://localhost:8080/"
        },
        "id": "-tQhTnuiFW0E",
        "outputId": "ab50d419-96d8-45fb-e41f-73d965d8d8a9"
      },
      "source": [
        "encoder = OneHotEncoder()\n",
        "c = encoder.fit_transform(df[['fruit']])  # input moet 2D zijn, daarom dubbele vierkante haakjes!\n",
        "c.toarray()  # output c is sparse matrix -> omzetten naar numpy array"
      ],
      "execution_count": 8,
      "outputs": [
        {
          "output_type": "execute_result",
          "data": {
            "text/plain": [
              "array([[0., 1., 0.],\n",
              "       [1., 0., 0.],\n",
              "       [0., 0., 1.],\n",
              "       [1., 0., 0.],\n",
              "       [0., 1., 0.]])"
            ]
          },
          "metadata": {},
          "execution_count": 8
        }
      ]
    },
    {
      "cell_type": "code",
      "metadata": {
        "colab": {
          "base_uri": "https://localhost:8080/"
        },
        "id": "1bzSi1mYF-wF",
        "outputId": "230662e4-8945-44bb-cfbc-a06c99aae75f"
      },
      "source": [
        "LabelBinarizer().fit_transform(df.fruit)  # gebruik maken van chaining ipv LabelBinarizer object aan variabele toekennen"
      ],
      "execution_count": 9,
      "outputs": [
        {
          "output_type": "execute_result",
          "data": {
            "text/plain": [
              "array([[0, 1, 0],\n",
              "       [1, 0, 0],\n",
              "       [0, 0, 1],\n",
              "       [1, 0, 0],\n",
              "       [0, 1, 0]])"
            ]
          },
          "metadata": {},
          "execution_count": 9
        }
      ]
    },
    {
      "cell_type": "markdown",
      "metadata": {
        "id": "qLWig5s-FBvo"
      },
      "source": [
        "### `mlxtend`"
      ]
    },
    {
      "cell_type": "markdown",
      "source": [
        "In het topic over association rule learning zullen we gebruik maken van de Python machine learning library `mlxtend`: http://rasbt.github.io/mlxtend/."
      ],
      "metadata": {
        "id": "PB4aZw_U2A_F"
      }
    },
    {
      "cell_type": "markdown",
      "metadata": {
        "id": "w_x6_L4eISA1"
      },
      "source": [
        "Library `mlxtend` heeft een functie `one_hot()`, maar die accepteert enkel een list of array met integers als input:"
      ]
    },
    {
      "cell_type": "code",
      "execution_count": 10,
      "metadata": {
        "id": "UFwIPqxFHYUY"
      },
      "outputs": [],
      "source": [
        "from mlxtend.preprocessing import one_hot"
      ]
    },
    {
      "cell_type": "markdown",
      "metadata": {
        "id": "X6yI4eWQLqdU"
      },
      "source": [
        "Eerst de klassen omzetten naar integers mbv klasse `LabelEncoder` van `sklearn.preprocessing`:"
      ]
    },
    {
      "cell_type": "code",
      "execution_count": 11,
      "metadata": {
        "colab": {
          "base_uri": "https://localhost:8080/"
        },
        "id": "4kkqmEO5H3G3",
        "outputId": "c303c276-34cb-418d-863c-a6a209ac2573"
      },
      "outputs": [
        {
          "output_type": "execute_result",
          "data": {
            "text/plain": [
              "array([1, 0, 2, 0, 1])"
            ]
          },
          "metadata": {},
          "execution_count": 11
        }
      ],
      "source": [
        "from sklearn.preprocessing import LabelEncoder\n",
        "\n",
        "y = LabelEncoder().fit_transform(df.fruit.values)\n",
        "y"
      ]
    },
    {
      "cell_type": "code",
      "execution_count": 12,
      "metadata": {
        "colab": {
          "base_uri": "https://localhost:8080/"
        },
        "id": "EwizVVFCHkqk",
        "outputId": "4e2e1b36-9be5-476a-b732-f18f5ea0ce36"
      },
      "outputs": [
        {
          "output_type": "execute_result",
          "data": {
            "text/plain": [
              "array([[0., 1., 0.],\n",
              "       [1., 0., 0.],\n",
              "       [0., 0., 1.],\n",
              "       [1., 0., 0.],\n",
              "       [0., 1., 0.]])"
            ]
          },
          "metadata": {},
          "execution_count": 12
        }
      ],
      "source": [
        "one_hot(y)  # default dtype is float"
      ]
    },
    {
      "cell_type": "markdown",
      "metadata": {
        "id": "KNLsG6YiLl8R"
      },
      "source": [
        "Omzetten naar one-cold:"
      ]
    },
    {
      "cell_type": "code",
      "execution_count": 13,
      "metadata": {
        "colab": {
          "base_uri": "https://localhost:8080/"
        },
        "id": "OiitK05iLwEM",
        "outputId": "8f1b08de-129e-4035-a73f-fd08519e4123"
      },
      "outputs": [
        {
          "output_type": "execute_result",
          "data": {
            "text/plain": [
              "array([[1, 0, 1],\n",
              "       [0, 1, 1],\n",
              "       [1, 1, 0],\n",
              "       [0, 1, 1],\n",
              "       [1, 0, 1]])"
            ]
          },
          "metadata": {},
          "execution_count": 13
        }
      ],
      "source": [
        "(~one_hot(y, dtype=bool)).astype(int)"
      ]
    },
    {
      "cell_type": "markdown",
      "source": [
        "## Scikit-Learn Encoders"
      ],
      "metadata": {
        "id": "C7ow3_O8GDMX"
      }
    },
    {
      "cell_type": "markdown",
      "source": [
        "We hebben in de cursus al verschillende manieren gezien om categorische variabelen te transformeren, maar wat is nu het verschil tussen al die verschillende encoders in Scikit-Learn?\n",
        "\n",
        "- `OrdinalEncoder`\n",
        "- `OneHotEncoder`\n",
        "- `LabelEncoder`\n",
        "- `LabelBinarizer`"
      ],
      "metadata": {
        "id": "SezhDvuMGq-i"
      }
    },
    {
      "cell_type": "markdown",
      "source": [
        "Laten we deze klassen eerst eens importeren vanuit de module `preprocessing`:"
      ],
      "metadata": {
        "id": "-T1xhVg0J6rm"
      }
    },
    {
      "cell_type": "code",
      "source": [
        "from sklearn.preprocessing import OrdinalEncoder, OneHotEncoder, LabelEncoder, LabelBinarizer"
      ],
      "metadata": {
        "id": "p-i3vTKZIsXp"
      },
      "execution_count": 16,
      "outputs": []
    },
    {
      "cell_type": "markdown",
      "source": [
        "Volgens de [Scikit-Learn documentatie](https://scikit-learn.org/stable/modules/preprocessing.html#encoding-categorical-features) moeten de eerste twee gebruikt worden voor features `X`."
      ],
      "metadata": {
        "id": "_vt5413UH7Nf"
      }
    },
    {
      "cell_type": "markdown",
      "source": [
        "De `OrdinalEncoder` is in principe bedoeld voor ordinale variabelen, wat betekent dat de volgorde belangrijk is. Die volgorde kan je ook meegeven bij het instantiëren van de klasse."
      ],
      "metadata": {
        "id": "M8iaIY5CKUeR"
      }
    },
    {
      "cell_type": "markdown",
      "source": [
        "We definiëren een variabele of feature 'temperature' als voorbeeld met drie categorieën: cold, warm en hot:"
      ],
      "metadata": {
        "id": "8qoGq2adKWzo"
      }
    },
    {
      "cell_type": "code",
      "source": [
        "df = pd.DataFrame(dict(temperature=['hot', 'cold', 'warm', 'hot', 'warm', 'cold']))\n",
        "df"
      ],
      "metadata": {
        "colab": {
          "base_uri": "https://localhost:8080/",
          "height": 237
        },
        "id": "t9FjCbwQF1p6",
        "outputId": "52e9b723-ae85-436e-eaed-f08792d4c0e8"
      },
      "execution_count": 21,
      "outputs": [
        {
          "output_type": "execute_result",
          "data": {
            "text/plain": [
              "  temperature\n",
              "0         hot\n",
              "1        cold\n",
              "2        warm\n",
              "3         hot\n",
              "4        warm\n",
              "5        cold"
            ],
            "text/html": [
              "\n",
              "  <div id=\"df-00218fa9-ecc9-4bf1-88b5-5507c0389fd3\" class=\"colab-df-container\">\n",
              "    <div>\n",
              "<style scoped>\n",
              "    .dataframe tbody tr th:only-of-type {\n",
              "        vertical-align: middle;\n",
              "    }\n",
              "\n",
              "    .dataframe tbody tr th {\n",
              "        vertical-align: top;\n",
              "    }\n",
              "\n",
              "    .dataframe thead th {\n",
              "        text-align: right;\n",
              "    }\n",
              "</style>\n",
              "<table border=\"1\" class=\"dataframe\">\n",
              "  <thead>\n",
              "    <tr style=\"text-align: right;\">\n",
              "      <th></th>\n",
              "      <th>temperature</th>\n",
              "    </tr>\n",
              "  </thead>\n",
              "  <tbody>\n",
              "    <tr>\n",
              "      <th>0</th>\n",
              "      <td>hot</td>\n",
              "    </tr>\n",
              "    <tr>\n",
              "      <th>1</th>\n",
              "      <td>cold</td>\n",
              "    </tr>\n",
              "    <tr>\n",
              "      <th>2</th>\n",
              "      <td>warm</td>\n",
              "    </tr>\n",
              "    <tr>\n",
              "      <th>3</th>\n",
              "      <td>hot</td>\n",
              "    </tr>\n",
              "    <tr>\n",
              "      <th>4</th>\n",
              "      <td>warm</td>\n",
              "    </tr>\n",
              "    <tr>\n",
              "      <th>5</th>\n",
              "      <td>cold</td>\n",
              "    </tr>\n",
              "  </tbody>\n",
              "</table>\n",
              "</div>\n",
              "    <div class=\"colab-df-buttons\">\n",
              "\n",
              "  <div class=\"colab-df-container\">\n",
              "    <button class=\"colab-df-convert\" onclick=\"convertToInteractive('df-00218fa9-ecc9-4bf1-88b5-5507c0389fd3')\"\n",
              "            title=\"Convert this dataframe to an interactive table.\"\n",
              "            style=\"display:none;\">\n",
              "\n",
              "  <svg xmlns=\"http://www.w3.org/2000/svg\" height=\"24px\" viewBox=\"0 -960 960 960\">\n",
              "    <path d=\"M120-120v-720h720v720H120Zm60-500h600v-160H180v160Zm220 220h160v-160H400v160Zm0 220h160v-160H400v160ZM180-400h160v-160H180v160Zm440 0h160v-160H620v160ZM180-180h160v-160H180v160Zm440 0h160v-160H620v160Z\"/>\n",
              "  </svg>\n",
              "    </button>\n",
              "\n",
              "  <style>\n",
              "    .colab-df-container {\n",
              "      display:flex;\n",
              "      gap: 12px;\n",
              "    }\n",
              "\n",
              "    .colab-df-convert {\n",
              "      background-color: #E8F0FE;\n",
              "      border: none;\n",
              "      border-radius: 50%;\n",
              "      cursor: pointer;\n",
              "      display: none;\n",
              "      fill: #1967D2;\n",
              "      height: 32px;\n",
              "      padding: 0 0 0 0;\n",
              "      width: 32px;\n",
              "    }\n",
              "\n",
              "    .colab-df-convert:hover {\n",
              "      background-color: #E2EBFA;\n",
              "      box-shadow: 0px 1px 2px rgba(60, 64, 67, 0.3), 0px 1px 3px 1px rgba(60, 64, 67, 0.15);\n",
              "      fill: #174EA6;\n",
              "    }\n",
              "\n",
              "    .colab-df-buttons div {\n",
              "      margin-bottom: 4px;\n",
              "    }\n",
              "\n",
              "    [theme=dark] .colab-df-convert {\n",
              "      background-color: #3B4455;\n",
              "      fill: #D2E3FC;\n",
              "    }\n",
              "\n",
              "    [theme=dark] .colab-df-convert:hover {\n",
              "      background-color: #434B5C;\n",
              "      box-shadow: 0px 1px 3px 1px rgba(0, 0, 0, 0.15);\n",
              "      filter: drop-shadow(0px 1px 2px rgba(0, 0, 0, 0.3));\n",
              "      fill: #FFFFFF;\n",
              "    }\n",
              "  </style>\n",
              "\n",
              "    <script>\n",
              "      const buttonEl =\n",
              "        document.querySelector('#df-00218fa9-ecc9-4bf1-88b5-5507c0389fd3 button.colab-df-convert');\n",
              "      buttonEl.style.display =\n",
              "        google.colab.kernel.accessAllowed ? 'block' : 'none';\n",
              "\n",
              "      async function convertToInteractive(key) {\n",
              "        const element = document.querySelector('#df-00218fa9-ecc9-4bf1-88b5-5507c0389fd3');\n",
              "        const dataTable =\n",
              "          await google.colab.kernel.invokeFunction('convertToInteractive',\n",
              "                                                    [key], {});\n",
              "        if (!dataTable) return;\n",
              "\n",
              "        const docLinkHtml = 'Like what you see? Visit the ' +\n",
              "          '<a target=\"_blank\" href=https://colab.research.google.com/notebooks/data_table.ipynb>data table notebook</a>'\n",
              "          + ' to learn more about interactive tables.';\n",
              "        element.innerHTML = '';\n",
              "        dataTable['output_type'] = 'display_data';\n",
              "        await google.colab.output.renderOutput(dataTable, element);\n",
              "        const docLink = document.createElement('div');\n",
              "        docLink.innerHTML = docLinkHtml;\n",
              "        element.appendChild(docLink);\n",
              "      }\n",
              "    </script>\n",
              "  </div>\n",
              "\n",
              "\n",
              "<div id=\"df-39e2bdbc-9dd2-4287-8c28-358178ed7359\">\n",
              "  <button class=\"colab-df-quickchart\" onclick=\"quickchart('df-39e2bdbc-9dd2-4287-8c28-358178ed7359')\"\n",
              "            title=\"Suggest charts\"\n",
              "            style=\"display:none;\">\n",
              "\n",
              "<svg xmlns=\"http://www.w3.org/2000/svg\" height=\"24px\"viewBox=\"0 0 24 24\"\n",
              "     width=\"24px\">\n",
              "    <g>\n",
              "        <path d=\"M19 3H5c-1.1 0-2 .9-2 2v14c0 1.1.9 2 2 2h14c1.1 0 2-.9 2-2V5c0-1.1-.9-2-2-2zM9 17H7v-7h2v7zm4 0h-2V7h2v10zm4 0h-2v-4h2v4z\"/>\n",
              "    </g>\n",
              "</svg>\n",
              "  </button>\n",
              "\n",
              "<style>\n",
              "  .colab-df-quickchart {\n",
              "      --bg-color: #E8F0FE;\n",
              "      --fill-color: #1967D2;\n",
              "      --hover-bg-color: #E2EBFA;\n",
              "      --hover-fill-color: #174EA6;\n",
              "      --disabled-fill-color: #AAA;\n",
              "      --disabled-bg-color: #DDD;\n",
              "  }\n",
              "\n",
              "  [theme=dark] .colab-df-quickchart {\n",
              "      --bg-color: #3B4455;\n",
              "      --fill-color: #D2E3FC;\n",
              "      --hover-bg-color: #434B5C;\n",
              "      --hover-fill-color: #FFFFFF;\n",
              "      --disabled-bg-color: #3B4455;\n",
              "      --disabled-fill-color: #666;\n",
              "  }\n",
              "\n",
              "  .colab-df-quickchart {\n",
              "    background-color: var(--bg-color);\n",
              "    border: none;\n",
              "    border-radius: 50%;\n",
              "    cursor: pointer;\n",
              "    display: none;\n",
              "    fill: var(--fill-color);\n",
              "    height: 32px;\n",
              "    padding: 0;\n",
              "    width: 32px;\n",
              "  }\n",
              "\n",
              "  .colab-df-quickchart:hover {\n",
              "    background-color: var(--hover-bg-color);\n",
              "    box-shadow: 0 1px 2px rgba(60, 64, 67, 0.3), 0 1px 3px 1px rgba(60, 64, 67, 0.15);\n",
              "    fill: var(--button-hover-fill-color);\n",
              "  }\n",
              "\n",
              "  .colab-df-quickchart-complete:disabled,\n",
              "  .colab-df-quickchart-complete:disabled:hover {\n",
              "    background-color: var(--disabled-bg-color);\n",
              "    fill: var(--disabled-fill-color);\n",
              "    box-shadow: none;\n",
              "  }\n",
              "\n",
              "  .colab-df-spinner {\n",
              "    border: 2px solid var(--fill-color);\n",
              "    border-color: transparent;\n",
              "    border-bottom-color: var(--fill-color);\n",
              "    animation:\n",
              "      spin 1s steps(1) infinite;\n",
              "  }\n",
              "\n",
              "  @keyframes spin {\n",
              "    0% {\n",
              "      border-color: transparent;\n",
              "      border-bottom-color: var(--fill-color);\n",
              "      border-left-color: var(--fill-color);\n",
              "    }\n",
              "    20% {\n",
              "      border-color: transparent;\n",
              "      border-left-color: var(--fill-color);\n",
              "      border-top-color: var(--fill-color);\n",
              "    }\n",
              "    30% {\n",
              "      border-color: transparent;\n",
              "      border-left-color: var(--fill-color);\n",
              "      border-top-color: var(--fill-color);\n",
              "      border-right-color: var(--fill-color);\n",
              "    }\n",
              "    40% {\n",
              "      border-color: transparent;\n",
              "      border-right-color: var(--fill-color);\n",
              "      border-top-color: var(--fill-color);\n",
              "    }\n",
              "    60% {\n",
              "      border-color: transparent;\n",
              "      border-right-color: var(--fill-color);\n",
              "    }\n",
              "    80% {\n",
              "      border-color: transparent;\n",
              "      border-right-color: var(--fill-color);\n",
              "      border-bottom-color: var(--fill-color);\n",
              "    }\n",
              "    90% {\n",
              "      border-color: transparent;\n",
              "      border-bottom-color: var(--fill-color);\n",
              "    }\n",
              "  }\n",
              "</style>\n",
              "\n",
              "  <script>\n",
              "    async function quickchart(key) {\n",
              "      const quickchartButtonEl =\n",
              "        document.querySelector('#' + key + ' button');\n",
              "      quickchartButtonEl.disabled = true;  // To prevent multiple clicks.\n",
              "      quickchartButtonEl.classList.add('colab-df-spinner');\n",
              "      try {\n",
              "        const charts = await google.colab.kernel.invokeFunction(\n",
              "            'suggestCharts', [key], {});\n",
              "      } catch (error) {\n",
              "        console.error('Error during call to suggestCharts:', error);\n",
              "      }\n",
              "      quickchartButtonEl.classList.remove('colab-df-spinner');\n",
              "      quickchartButtonEl.classList.add('colab-df-quickchart-complete');\n",
              "    }\n",
              "    (() => {\n",
              "      let quickchartButtonEl =\n",
              "        document.querySelector('#df-39e2bdbc-9dd2-4287-8c28-358178ed7359 button');\n",
              "      quickchartButtonEl.style.display =\n",
              "        google.colab.kernel.accessAllowed ? 'block' : 'none';\n",
              "    })();\n",
              "  </script>\n",
              "</div>\n",
              "    </div>\n",
              "  </div>\n"
            ],
            "application/vnd.google.colaboratory.intrinsic+json": {
              "type": "dataframe",
              "variable_name": "df",
              "summary": "{\n  \"name\": \"df\",\n  \"rows\": 6,\n  \"fields\": [\n    {\n      \"column\": \"temperature\",\n      \"properties\": {\n        \"dtype\": \"string\",\n        \"num_unique_values\": 3,\n        \"samples\": [\n          \"hot\",\n          \"cold\",\n          \"warm\"\n        ],\n        \"semantic_type\": \"\",\n        \"description\": \"\"\n      }\n    }\n  ]\n}"
            }
          },
          "metadata": {},
          "execution_count": 21
        }
      ]
    },
    {
      "cell_type": "markdown",
      "source": [
        "Via inputparameter `categories` kunnen we de volgorde vastleggen:"
      ],
      "metadata": {
        "id": "gAD03qYEKsLV"
      }
    },
    {
      "cell_type": "code",
      "source": [
        "OrdinalEncoder(categories=[['cold', 'warm', 'hot']]).fit_transform(df)"
      ],
      "metadata": {
        "colab": {
          "base_uri": "https://localhost:8080/"
        },
        "id": "oWvDrbkpIkK2",
        "outputId": "d5385851-4b6c-49ce-f9ea-cc307c3df10d"
      },
      "execution_count": 23,
      "outputs": [
        {
          "output_type": "execute_result",
          "data": {
            "text/plain": [
              "array([[2.],\n",
              "       [0.],\n",
              "       [1.],\n",
              "       [2.],\n",
              "       [1.],\n",
              "       [0.]])"
            ]
          },
          "metadata": {},
          "execution_count": 23
        }
      ]
    },
    {
      "cell_type": "markdown",
      "source": [
        "We zien inderdaad dat cold wordt afgebeeld op 0, warm op 1, en hot op 2."
      ],
      "metadata": {
        "id": "I3A43LmBK-9r"
      }
    },
    {
      "cell_type": "markdown",
      "source": [
        "Als de variabele niet ordinaal maar nominaal is, dan kunnen we beter de `OneHotEncoder` gebruiken:"
      ],
      "metadata": {
        "id": "7Mtr8o6yLJmb"
      }
    },
    {
      "cell_type": "code",
      "source": [
        "OneHotEncoder(categories=[['cold', 'warm', 'hot']]).fit_transform(df).toarray()"
      ],
      "metadata": {
        "colab": {
          "base_uri": "https://localhost:8080/"
        },
        "id": "7AE9D_JRIp9H",
        "outputId": "140beb9e-d7cb-4bb8-ffac-3f9908cd9886"
      },
      "execution_count": 26,
      "outputs": [
        {
          "output_type": "execute_result",
          "data": {
            "text/plain": [
              "array([[0., 0., 1.],\n",
              "       [1., 0., 0.],\n",
              "       [0., 1., 0.],\n",
              "       [0., 0., 1.],\n",
              "       [0., 1., 0.],\n",
              "       [1., 0., 0.]])"
            ]
          },
          "metadata": {},
          "execution_count": 26
        }
      ]
    },
    {
      "cell_type": "markdown",
      "source": [
        "Ook hier hebben we de volgorde opgegeven via `categories`, en daar houdt de `fit` methode wel rekening mee, maar bij one-hot encoding speelt die volgorde dus geen rol."
      ],
      "metadata": {
        "id": "PNRyMD2vLXqS"
      }
    },
    {
      "cell_type": "markdown",
      "source": [
        "Volgens de [Scikit-Learn documentatie](https://scikit-learn.org/stable/modules/preprocessing_targets.html#preprocessing-targets) moeten de twee laatste klassen gebruikt worden om de labels in een target om te zetten."
      ],
      "metadata": {
        "id": "Vx3n9LDtLv5P"
      }
    },
    {
      "cell_type": "markdown",
      "source": [
        "De `LabelEncoder` kan gezien worden als het equivalent van de `OrdinalEncoder`, maar dus bedoeld voor labels. Dat betekent dat er slechts 1 kolom `y` wordt doorgegeven, die liefst een 1D vector is."
      ],
      "metadata": {
        "id": "XymU4tvkL8kG"
      }
    },
    {
      "cell_type": "code",
      "source": [
        "LabelEncoder().fit_transform(df['temperature'])  # df['temperature'] is 1D series!"
      ],
      "metadata": {
        "colab": {
          "base_uri": "https://localhost:8080/"
        },
        "id": "t9918daiJiO1",
        "outputId": "3f4374f5-1376-434d-aa47-2d26ff34c7cf"
      },
      "execution_count": 29,
      "outputs": [
        {
          "output_type": "execute_result",
          "data": {
            "text/plain": [
              "array([1, 0, 2, 1, 2, 0])"
            ]
          },
          "metadata": {},
          "execution_count": 29
        }
      ]
    },
    {
      "cell_type": "markdown",
      "source": [
        "De volgorde speelt hier geen rol!"
      ],
      "metadata": {
        "id": "V97PiUhJNf2i"
      }
    },
    {
      "cell_type": "markdown",
      "source": [
        "De `LabelBinarizer` is tenslotte het equivalent van de `OneHotEncoder`, maar dan bedoeld voor een target vector `y`:"
      ],
      "metadata": {
        "id": "AaXt9g05Nh_3"
      }
    },
    {
      "cell_type": "code",
      "source": [
        "LabelBinarizer().fit_transform(df['temperature'])  # df['temperature'] is 1D series!"
      ],
      "metadata": {
        "colab": {
          "base_uri": "https://localhost:8080/"
        },
        "id": "yasA5v1jMDPS",
        "outputId": "1134676a-dda4-4d6f-b545-0e8fff985210"
      },
      "execution_count": 30,
      "outputs": [
        {
          "output_type": "execute_result",
          "data": {
            "text/plain": [
              "array([[0, 1, 0],\n",
              "       [1, 0, 0],\n",
              "       [0, 0, 1],\n",
              "       [0, 1, 0],\n",
              "       [0, 0, 1],\n",
              "       [1, 0, 0]])"
            ]
          },
          "metadata": {},
          "execution_count": 30
        }
      ]
    },
    {
      "cell_type": "markdown",
      "source": [
        "Hier speelt de volgorde sowieso geen enkele rol."
      ],
      "metadata": {
        "id": "7SGou2FuONTp"
      }
    },
    {
      "cell_type": "markdown",
      "source": [
        "Is het een ramp wanneer je nu de `OneHotEncoder` gebruikt om een multi-class target `y` om te zetten? Uiteraard niet, maar weet dat het eigenlijk niet de bedoeling is..."
      ],
      "metadata": {
        "id": "buGs6pMdOXbc"
      }
    },
    {
      "cell_type": "markdown",
      "source": [
        "### Voorbeeld"
      ],
      "metadata": {
        "id": "oEB-FxA_P2vt"
      }
    },
    {
      "cell_type": "markdown",
      "source": [
        "We creëren een Pandas DataFrame met 10 samples en 4 variabelen die we random genereren:\n",
        "\n",
        "- vak: programming, machine learning, deep learning\n",
        "- taal: java, python, R, C#   \n",
        "- niveau: graduaat, bachelor, master\n",
        "- gevorderd: ja, nee\n",
        "\n",
        "Stel nu dat we het label van variabele \"gevorderd\" willen voorspellen aan de hand van de andere drie variabelen.\n",
        "\n",
        "Features \"vak\" en \"taal\" zijn nominaal, het \"niveau\" is ordinaal waarbij de rangschikking als volgt is: master > bachelor > graduaat.\n",
        "\n",
        "We definiëren een feature matrix `X` en een target vector `y`. We passen hierbij de juiste encoding toe door gebruik te maken van de juiste Scikit-Learn klassen."
      ],
      "metadata": {
        "id": "twD974-uP50I"
      }
    },
    {
      "cell_type": "code",
      "source": [
        "vak = ['programming', 'machine learning', 'deep learning']\n",
        "taal = ['java', 'python', 'R', 'C#']\n",
        "niveau = ['graduaat', 'bachelor', 'master']\n",
        "gevorderd = ['ja', 'nee']\n",
        "\n",
        "n_samples = 10\n",
        "np.random.seed(0)\n",
        "df = pd.DataFrame(dict(vak=np.random.choice(vak, size=n_samples),\n",
        "                       taal=np.random.choice(taal, size=n_samples),\n",
        "                       niveau=np.random.choice(niveau, size=n_samples),\n",
        "                       gevorderd=np.random.choice(gevorderd, size=n_samples)))\n",
        "df"
      ],
      "metadata": {
        "colab": {
          "base_uri": "https://localhost:8080/",
          "height": 363
        },
        "id": "JPbbKrydSUj5",
        "outputId": "31d6b1ac-cfdb-4a79-dcbb-ff416f0edd13"
      },
      "execution_count": 38,
      "outputs": [
        {
          "output_type": "execute_result",
          "data": {
            "text/plain": [
              "                vak    taal    niveau gevorderd\n",
              "0       programming    java  bachelor       nee\n",
              "1  machine learning       R  bachelor        ja\n",
              "2       programming  python  graduaat       nee\n",
              "3  machine learning       R  bachelor       nee\n",
              "4  machine learning      C#  graduaat       nee\n",
              "5     deep learning      C#  graduaat       nee\n",
              "6       programming       R  bachelor       nee\n",
              "7     deep learning    java    master        ja\n",
              "8       programming  python  graduaat       nee\n",
              "9       programming  python    master        ja"
            ],
            "text/html": [
              "\n",
              "  <div id=\"df-75b2b9ac-9b57-4875-9803-1a046cab4b1e\" class=\"colab-df-container\">\n",
              "    <div>\n",
              "<style scoped>\n",
              "    .dataframe tbody tr th:only-of-type {\n",
              "        vertical-align: middle;\n",
              "    }\n",
              "\n",
              "    .dataframe tbody tr th {\n",
              "        vertical-align: top;\n",
              "    }\n",
              "\n",
              "    .dataframe thead th {\n",
              "        text-align: right;\n",
              "    }\n",
              "</style>\n",
              "<table border=\"1\" class=\"dataframe\">\n",
              "  <thead>\n",
              "    <tr style=\"text-align: right;\">\n",
              "      <th></th>\n",
              "      <th>vak</th>\n",
              "      <th>taal</th>\n",
              "      <th>niveau</th>\n",
              "      <th>gevorderd</th>\n",
              "    </tr>\n",
              "  </thead>\n",
              "  <tbody>\n",
              "    <tr>\n",
              "      <th>0</th>\n",
              "      <td>programming</td>\n",
              "      <td>java</td>\n",
              "      <td>bachelor</td>\n",
              "      <td>nee</td>\n",
              "    </tr>\n",
              "    <tr>\n",
              "      <th>1</th>\n",
              "      <td>machine learning</td>\n",
              "      <td>R</td>\n",
              "      <td>bachelor</td>\n",
              "      <td>ja</td>\n",
              "    </tr>\n",
              "    <tr>\n",
              "      <th>2</th>\n",
              "      <td>programming</td>\n",
              "      <td>python</td>\n",
              "      <td>graduaat</td>\n",
              "      <td>nee</td>\n",
              "    </tr>\n",
              "    <tr>\n",
              "      <th>3</th>\n",
              "      <td>machine learning</td>\n",
              "      <td>R</td>\n",
              "      <td>bachelor</td>\n",
              "      <td>nee</td>\n",
              "    </tr>\n",
              "    <tr>\n",
              "      <th>4</th>\n",
              "      <td>machine learning</td>\n",
              "      <td>C#</td>\n",
              "      <td>graduaat</td>\n",
              "      <td>nee</td>\n",
              "    </tr>\n",
              "    <tr>\n",
              "      <th>5</th>\n",
              "      <td>deep learning</td>\n",
              "      <td>C#</td>\n",
              "      <td>graduaat</td>\n",
              "      <td>nee</td>\n",
              "    </tr>\n",
              "    <tr>\n",
              "      <th>6</th>\n",
              "      <td>programming</td>\n",
              "      <td>R</td>\n",
              "      <td>bachelor</td>\n",
              "      <td>nee</td>\n",
              "    </tr>\n",
              "    <tr>\n",
              "      <th>7</th>\n",
              "      <td>deep learning</td>\n",
              "      <td>java</td>\n",
              "      <td>master</td>\n",
              "      <td>ja</td>\n",
              "    </tr>\n",
              "    <tr>\n",
              "      <th>8</th>\n",
              "      <td>programming</td>\n",
              "      <td>python</td>\n",
              "      <td>graduaat</td>\n",
              "      <td>nee</td>\n",
              "    </tr>\n",
              "    <tr>\n",
              "      <th>9</th>\n",
              "      <td>programming</td>\n",
              "      <td>python</td>\n",
              "      <td>master</td>\n",
              "      <td>ja</td>\n",
              "    </tr>\n",
              "  </tbody>\n",
              "</table>\n",
              "</div>\n",
              "    <div class=\"colab-df-buttons\">\n",
              "\n",
              "  <div class=\"colab-df-container\">\n",
              "    <button class=\"colab-df-convert\" onclick=\"convertToInteractive('df-75b2b9ac-9b57-4875-9803-1a046cab4b1e')\"\n",
              "            title=\"Convert this dataframe to an interactive table.\"\n",
              "            style=\"display:none;\">\n",
              "\n",
              "  <svg xmlns=\"http://www.w3.org/2000/svg\" height=\"24px\" viewBox=\"0 -960 960 960\">\n",
              "    <path d=\"M120-120v-720h720v720H120Zm60-500h600v-160H180v160Zm220 220h160v-160H400v160Zm0 220h160v-160H400v160ZM180-400h160v-160H180v160Zm440 0h160v-160H620v160ZM180-180h160v-160H180v160Zm440 0h160v-160H620v160Z\"/>\n",
              "  </svg>\n",
              "    </button>\n",
              "\n",
              "  <style>\n",
              "    .colab-df-container {\n",
              "      display:flex;\n",
              "      gap: 12px;\n",
              "    }\n",
              "\n",
              "    .colab-df-convert {\n",
              "      background-color: #E8F0FE;\n",
              "      border: none;\n",
              "      border-radius: 50%;\n",
              "      cursor: pointer;\n",
              "      display: none;\n",
              "      fill: #1967D2;\n",
              "      height: 32px;\n",
              "      padding: 0 0 0 0;\n",
              "      width: 32px;\n",
              "    }\n",
              "\n",
              "    .colab-df-convert:hover {\n",
              "      background-color: #E2EBFA;\n",
              "      box-shadow: 0px 1px 2px rgba(60, 64, 67, 0.3), 0px 1px 3px 1px rgba(60, 64, 67, 0.15);\n",
              "      fill: #174EA6;\n",
              "    }\n",
              "\n",
              "    .colab-df-buttons div {\n",
              "      margin-bottom: 4px;\n",
              "    }\n",
              "\n",
              "    [theme=dark] .colab-df-convert {\n",
              "      background-color: #3B4455;\n",
              "      fill: #D2E3FC;\n",
              "    }\n",
              "\n",
              "    [theme=dark] .colab-df-convert:hover {\n",
              "      background-color: #434B5C;\n",
              "      box-shadow: 0px 1px 3px 1px rgba(0, 0, 0, 0.15);\n",
              "      filter: drop-shadow(0px 1px 2px rgba(0, 0, 0, 0.3));\n",
              "      fill: #FFFFFF;\n",
              "    }\n",
              "  </style>\n",
              "\n",
              "    <script>\n",
              "      const buttonEl =\n",
              "        document.querySelector('#df-75b2b9ac-9b57-4875-9803-1a046cab4b1e button.colab-df-convert');\n",
              "      buttonEl.style.display =\n",
              "        google.colab.kernel.accessAllowed ? 'block' : 'none';\n",
              "\n",
              "      async function convertToInteractive(key) {\n",
              "        const element = document.querySelector('#df-75b2b9ac-9b57-4875-9803-1a046cab4b1e');\n",
              "        const dataTable =\n",
              "          await google.colab.kernel.invokeFunction('convertToInteractive',\n",
              "                                                    [key], {});\n",
              "        if (!dataTable) return;\n",
              "\n",
              "        const docLinkHtml = 'Like what you see? Visit the ' +\n",
              "          '<a target=\"_blank\" href=https://colab.research.google.com/notebooks/data_table.ipynb>data table notebook</a>'\n",
              "          + ' to learn more about interactive tables.';\n",
              "        element.innerHTML = '';\n",
              "        dataTable['output_type'] = 'display_data';\n",
              "        await google.colab.output.renderOutput(dataTable, element);\n",
              "        const docLink = document.createElement('div');\n",
              "        docLink.innerHTML = docLinkHtml;\n",
              "        element.appendChild(docLink);\n",
              "      }\n",
              "    </script>\n",
              "  </div>\n",
              "\n",
              "\n",
              "<div id=\"df-9dddb207-c4d7-41db-9332-54ce3087b395\">\n",
              "  <button class=\"colab-df-quickchart\" onclick=\"quickchart('df-9dddb207-c4d7-41db-9332-54ce3087b395')\"\n",
              "            title=\"Suggest charts\"\n",
              "            style=\"display:none;\">\n",
              "\n",
              "<svg xmlns=\"http://www.w3.org/2000/svg\" height=\"24px\"viewBox=\"0 0 24 24\"\n",
              "     width=\"24px\">\n",
              "    <g>\n",
              "        <path d=\"M19 3H5c-1.1 0-2 .9-2 2v14c0 1.1.9 2 2 2h14c1.1 0 2-.9 2-2V5c0-1.1-.9-2-2-2zM9 17H7v-7h2v7zm4 0h-2V7h2v10zm4 0h-2v-4h2v4z\"/>\n",
              "    </g>\n",
              "</svg>\n",
              "  </button>\n",
              "\n",
              "<style>\n",
              "  .colab-df-quickchart {\n",
              "      --bg-color: #E8F0FE;\n",
              "      --fill-color: #1967D2;\n",
              "      --hover-bg-color: #E2EBFA;\n",
              "      --hover-fill-color: #174EA6;\n",
              "      --disabled-fill-color: #AAA;\n",
              "      --disabled-bg-color: #DDD;\n",
              "  }\n",
              "\n",
              "  [theme=dark] .colab-df-quickchart {\n",
              "      --bg-color: #3B4455;\n",
              "      --fill-color: #D2E3FC;\n",
              "      --hover-bg-color: #434B5C;\n",
              "      --hover-fill-color: #FFFFFF;\n",
              "      --disabled-bg-color: #3B4455;\n",
              "      --disabled-fill-color: #666;\n",
              "  }\n",
              "\n",
              "  .colab-df-quickchart {\n",
              "    background-color: var(--bg-color);\n",
              "    border: none;\n",
              "    border-radius: 50%;\n",
              "    cursor: pointer;\n",
              "    display: none;\n",
              "    fill: var(--fill-color);\n",
              "    height: 32px;\n",
              "    padding: 0;\n",
              "    width: 32px;\n",
              "  }\n",
              "\n",
              "  .colab-df-quickchart:hover {\n",
              "    background-color: var(--hover-bg-color);\n",
              "    box-shadow: 0 1px 2px rgba(60, 64, 67, 0.3), 0 1px 3px 1px rgba(60, 64, 67, 0.15);\n",
              "    fill: var(--button-hover-fill-color);\n",
              "  }\n",
              "\n",
              "  .colab-df-quickchart-complete:disabled,\n",
              "  .colab-df-quickchart-complete:disabled:hover {\n",
              "    background-color: var(--disabled-bg-color);\n",
              "    fill: var(--disabled-fill-color);\n",
              "    box-shadow: none;\n",
              "  }\n",
              "\n",
              "  .colab-df-spinner {\n",
              "    border: 2px solid var(--fill-color);\n",
              "    border-color: transparent;\n",
              "    border-bottom-color: var(--fill-color);\n",
              "    animation:\n",
              "      spin 1s steps(1) infinite;\n",
              "  }\n",
              "\n",
              "  @keyframes spin {\n",
              "    0% {\n",
              "      border-color: transparent;\n",
              "      border-bottom-color: var(--fill-color);\n",
              "      border-left-color: var(--fill-color);\n",
              "    }\n",
              "    20% {\n",
              "      border-color: transparent;\n",
              "      border-left-color: var(--fill-color);\n",
              "      border-top-color: var(--fill-color);\n",
              "    }\n",
              "    30% {\n",
              "      border-color: transparent;\n",
              "      border-left-color: var(--fill-color);\n",
              "      border-top-color: var(--fill-color);\n",
              "      border-right-color: var(--fill-color);\n",
              "    }\n",
              "    40% {\n",
              "      border-color: transparent;\n",
              "      border-right-color: var(--fill-color);\n",
              "      border-top-color: var(--fill-color);\n",
              "    }\n",
              "    60% {\n",
              "      border-color: transparent;\n",
              "      border-right-color: var(--fill-color);\n",
              "    }\n",
              "    80% {\n",
              "      border-color: transparent;\n",
              "      border-right-color: var(--fill-color);\n",
              "      border-bottom-color: var(--fill-color);\n",
              "    }\n",
              "    90% {\n",
              "      border-color: transparent;\n",
              "      border-bottom-color: var(--fill-color);\n",
              "    }\n",
              "  }\n",
              "</style>\n",
              "\n",
              "  <script>\n",
              "    async function quickchart(key) {\n",
              "      const quickchartButtonEl =\n",
              "        document.querySelector('#' + key + ' button');\n",
              "      quickchartButtonEl.disabled = true;  // To prevent multiple clicks.\n",
              "      quickchartButtonEl.classList.add('colab-df-spinner');\n",
              "      try {\n",
              "        const charts = await google.colab.kernel.invokeFunction(\n",
              "            'suggestCharts', [key], {});\n",
              "      } catch (error) {\n",
              "        console.error('Error during call to suggestCharts:', error);\n",
              "      }\n",
              "      quickchartButtonEl.classList.remove('colab-df-spinner');\n",
              "      quickchartButtonEl.classList.add('colab-df-quickchart-complete');\n",
              "    }\n",
              "    (() => {\n",
              "      let quickchartButtonEl =\n",
              "        document.querySelector('#df-9dddb207-c4d7-41db-9332-54ce3087b395 button');\n",
              "      quickchartButtonEl.style.display =\n",
              "        google.colab.kernel.accessAllowed ? 'block' : 'none';\n",
              "    })();\n",
              "  </script>\n",
              "</div>\n",
              "    </div>\n",
              "  </div>\n"
            ],
            "application/vnd.google.colaboratory.intrinsic+json": {
              "type": "dataframe",
              "variable_name": "df",
              "summary": "{\n  \"name\": \"df\",\n  \"rows\": 10,\n  \"fields\": [\n    {\n      \"column\": \"vak\",\n      \"properties\": {\n        \"dtype\": \"category\",\n        \"num_unique_values\": 3,\n        \"samples\": [\n          \"programming\",\n          \"machine learning\",\n          \"deep learning\"\n        ],\n        \"semantic_type\": \"\",\n        \"description\": \"\"\n      }\n    },\n    {\n      \"column\": \"taal\",\n      \"properties\": {\n        \"dtype\": \"category\",\n        \"num_unique_values\": 4,\n        \"samples\": [\n          \"R\",\n          \"C#\",\n          \"java\"\n        ],\n        \"semantic_type\": \"\",\n        \"description\": \"\"\n      }\n    },\n    {\n      \"column\": \"niveau\",\n      \"properties\": {\n        \"dtype\": \"category\",\n        \"num_unique_values\": 3,\n        \"samples\": [\n          \"bachelor\",\n          \"graduaat\",\n          \"master\"\n        ],\n        \"semantic_type\": \"\",\n        \"description\": \"\"\n      }\n    },\n    {\n      \"column\": \"gevorderd\",\n      \"properties\": {\n        \"dtype\": \"category\",\n        \"num_unique_values\": 2,\n        \"samples\": [\n          \"ja\",\n          \"nee\"\n        ],\n        \"semantic_type\": \"\",\n        \"description\": \"\"\n      }\n    }\n  ]\n}"
            }
          },
          "metadata": {},
          "execution_count": 38
        }
      ]
    },
    {
      "cell_type": "code",
      "source": [
        "X = np.hstack((\n",
        "    OneHotEncoder().fit_transform(df[['vak', 'taal']]).toarray(),\n",
        "    OrdinalEncoder(categories=[niveau]).fit_transform(df[['niveau']])  # df[['niveau']] is 2D!\n",
        "))\n",
        "X"
      ],
      "metadata": {
        "colab": {
          "base_uri": "https://localhost:8080/"
        },
        "id": "5-D7RzYBTCpI",
        "outputId": "acd59814-6292-4783-a7b8-bfea16a40c43"
      },
      "execution_count": 40,
      "outputs": [
        {
          "output_type": "execute_result",
          "data": {
            "text/plain": [
              "array([[0., 0., 1., 0., 0., 1., 0., 1.],\n",
              "       [0., 1., 0., 0., 1., 0., 0., 1.],\n",
              "       [0., 0., 1., 0., 0., 0., 1., 0.],\n",
              "       [0., 1., 0., 0., 1., 0., 0., 1.],\n",
              "       [0., 1., 0., 1., 0., 0., 0., 0.],\n",
              "       [1., 0., 0., 1., 0., 0., 0., 0.],\n",
              "       [0., 0., 1., 0., 1., 0., 0., 1.],\n",
              "       [1., 0., 0., 0., 0., 1., 0., 2.],\n",
              "       [0., 0., 1., 0., 0., 0., 1., 0.],\n",
              "       [0., 0., 1., 0., 0., 0., 1., 2.]])"
            ]
          },
          "metadata": {},
          "execution_count": 40
        }
      ]
    },
    {
      "cell_type": "code",
      "source": [
        "y = LabelEncoder().fit_transform(df.gevorderd)  # df.gevorderd is 1D!\n",
        "y"
      ],
      "metadata": {
        "colab": {
          "base_uri": "https://localhost:8080/"
        },
        "id": "i7BKqwxEUaLc",
        "outputId": "26e5cf16-6068-47ca-f2a5-3ffb3daf4b0d"
      },
      "execution_count": 41,
      "outputs": [
        {
          "output_type": "execute_result",
          "data": {
            "text/plain": [
              "array([1, 0, 1, 1, 1, 1, 1, 0, 1, 0])"
            ]
          },
          "metadata": {},
          "execution_count": 41
        }
      ]
    },
    {
      "cell_type": "markdown",
      "source": [
        "---"
      ],
      "metadata": {
        "id": "9aJCgOVpO0eJ"
      }
    }
  ]
}