{
  "nbformat": 4,
  "nbformat_minor": 0,
  "metadata": {
    "colab": {
      "provenance": [],
      "toc_visible": true,
      "authorship_tag": "ABX9TyOWaDkS+PiY1B8t75u7MuHo",
      "include_colab_link": true
    },
    "kernelspec": {
      "name": "python3",
      "display_name": "Python 3"
    },
    "language_info": {
      "name": "python"
    }
  },
  "cells": [
    {
      "cell_type": "markdown",
      "metadata": {
        "id": "view-in-github",
        "colab_type": "text"
      },
      "source": [
        "<a href=\"https://colab.research.google.com/github/alouwyck/vives-machine-learning/blob/main/12_naive_bayes/3_naive_bayes_oefeningen.ipynb\" target=\"_parent\"><img src=\"https://colab.research.google.com/assets/colab-badge.svg\" alt=\"Open In Colab\"/></a>"
      ]
    },
    {
      "cell_type": "markdown",
      "metadata": {
        "id": "lewAFonyBbSW"
      },
      "source": [
        "<img src=\"data:image/png;base64,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\" align=\"right\" /><br>\n",
        "\n",
        "\n",
        "**MACHINE LEARNING FUNDAMENTALS**<br>\n",
        "Academiejaar 2023-2024<br>\n",
        "Andy Louwyck\n",
        "\n",
        "---\n",
        "\n",
        "\n",
        "\n",
        "---\n",
        "\n"
      ]
    },
    {
      "cell_type": "markdown",
      "metadata": {
        "id": "kR2UuW1LkEl9"
      },
      "source": [
        "# **TOPIC 11: NAIVE BAYES - OEFENINGEN**"
      ]
    },
    {
      "cell_type": "markdown",
      "source": [
        "## Oefening 1"
      ],
      "metadata": {
        "id": "izBbxVIUL9Mq"
      }
    },
    {
      "cell_type": "markdown",
      "source": [
        "Lees het Excelbestand \"Play_Golf.xlsx\" in. Zal er gespeeld worden als het zonnig en heet is met hoge vochtigheid en wind?\n",
        "\n",
        "Pas Naive Bayes toe om het antwoord op deze vraag te voorspellen. Bereken zelf de kansen en maak dus geen gebruik van Scikit-Learn.\n",
        "\n",
        "Pas daarna Scikit-Learn toe om te voorspellen of er al dan niet zal worden gespeeld. Welk Naive Bayes algoritme zal je hier toepassen?\n",
        "\n",
        "Een gelijkaardig voorbeeld dat over het spelen van tennis gaat, wordt vaak gebruikt in de context van beslissingsbomen. Maak gebruik van Scikit-Learn om een decision tree op te stellen. Beperk hierbij de maximale diepte tot 2. Plot de bekomen beslissingsboom. Voorspel opnieuw of er al dan niet zal gespeeld worden."
      ],
      "metadata": {
        "id": "jjc2qNyyL_GV"
      }
    },
    {
      "cell_type": "code",
      "source": [],
      "metadata": {
        "id": "T9I6rAKXrcIr"
      },
      "execution_count": null,
      "outputs": []
    },
    {
      "cell_type": "markdown",
      "source": [
        "## Oefening 2"
      ],
      "metadata": {
        "id": "9yizqVFQLrT2"
      }
    },
    {
      "cell_type": "markdown",
      "metadata": {
        "id": "UyWrLOVlTE4Z"
      },
      "source": [
        "Naive Bayes kan natuurlijk ook voor andere classificatieproblemen worden gebruikt dan tekstclassificatie, zoals voor het voorspellen van de diagnose van een patiënt.\n",
        "\n",
        "Lees de file \"covid.csv\" in die we eerder al hebben gezien, en pas er Naive Bayes op toe. Maak gebruik van één van de Scikit-Learn algoritmes. Waarom kies je voor een bepaald algoritme? Of maakt het niet uit in dit geval? Welke nauwkeurigheid krijg je?\n",
        "\n",
        "Gebruik tenslotte het bekomen model om te voorspellen of de volgende patiënten al dan niet ziek zijn:\n",
        "- een patiënt die enkel hoest;\n",
        "- een patiënt die hoest en koorts heeft, maar niet moe is en ook geen ademhalingsproblemen heeft.\n"
      ]
    },
    {
      "cell_type": "code",
      "source": [],
      "metadata": {
        "id": "oO_-iTrOreHr"
      },
      "execution_count": null,
      "outputs": []
    },
    {
      "cell_type": "markdown",
      "source": [
        "## Oefening 3"
      ],
      "metadata": {
        "id": "LKVRmzfaRqCB"
      }
    },
    {
      "cell_type": "markdown",
      "source": [
        "Naive Bayes kan ook gebruikt worden voor recommender systems. We geven hier een heel eenvoudig voorbeeld.\n",
        "\n",
        "Lees het bestand \"boeken.csv\" in. Deze dataset geeft aan of een klant al dan niet een boek heeft gekocht. Zou je Kaat aanbevelen om Boek 10 te kopen?\n",
        "\n",
        "Pas één van de twee geziene Naive Bayes algoritmes toe uit Scikit-Learn om deze vraag te beantwoorden. Leg uit waarom je dit algoritme toepast."
      ],
      "metadata": {
        "id": "kYxvRMbfRtIB"
      }
    },
    {
      "cell_type": "code",
      "source": [],
      "metadata": {
        "id": "HPBvVTgtrhDb"
      },
      "execution_count": null,
      "outputs": []
    },
    {
      "cell_type": "markdown",
      "source": [
        "## Oefening 4"
      ],
      "metadata": {
        "id": "nMfwu6hc9BCj"
      }
    },
    {
      "cell_type": "markdown",
      "source": [
        "Lees file `'reviews_python.csv'` in met de (fictieve) reviews van het vak Python. Classificeer de reviews adhv het sentiment. Doe dit door de Naive Bayes algoritmes toe te passen die rekening houden met (1) het aantal keer een woord voorkomt in een review en (2) of een woord al dan niet voorkomt. Bereken telkens de nauwkeurigheid. Je hoeft de dataset niet op te splitsen, dus je traint de algoritmes op de volledige dataset. Maak gebruik van de `CountVectorizer` van Scikit-Learn."
      ],
      "metadata": {
        "id": "OtWqSIYfoRo3"
      }
    },
    {
      "cell_type": "code",
      "source": [],
      "metadata": {
        "id": "nQM64BYOridE"
      },
      "execution_count": null,
      "outputs": []
    },
    {
      "cell_type": "markdown",
      "source": [
        "## Oefening 5"
      ],
      "metadata": {
        "id": "hmd6PeX99F2Q"
      }
    },
    {
      "cell_type": "markdown",
      "source": [
        "Lees file `'candy-data.csv'` in. Classificeer de snoepjes obv feature `winpercent`. Deze feature moet je dus transformeren naar een binaire variabele. Neem een drempelwaarde van 50%. Doe hetzelfde voor de andere kwantitatieve variabelen zodat je een binaire matrix krijgt. Pas nu het geschikte Naive Bayes algoritme toe om een classifier te trainen. Doe dit op de volledige dataset. Stel een confusion matrix op en een classificatierapport met verschillende metrieken (accuracy, precision, recall en F1-score). Pas ook KNN toe en vergelijk."
      ],
      "metadata": {
        "id": "Y60VOJTYC00y"
      }
    },
    {
      "cell_type": "code",
      "source": [],
      "metadata": {
        "id": "dKgILsB4rlIj"
      },
      "execution_count": null,
      "outputs": []
    },
    {
      "cell_type": "markdown",
      "source": [
        "## Oefening 6"
      ],
      "metadata": {
        "id": "RLUYjmG-VZ3v"
      }
    },
    {
      "cell_type": "markdown",
      "source": [
        "- Download de volgende dataset: https://github.com/jeffprosise/Machine-Learning/blob/master/Data/ham-spam.csv.\n",
        "- Lees de dataset in als Pandas DataFrame en gebruik methode `info` om een overzicht te krijgen van het aantal samples en de kolommen.\n",
        "- Ga na of de dataset al dan niet gebalanceerd is.\n",
        "- Vectoriseer de tekst door gebruik te maken van Scikit-Learn klasse `CountVectorizer`.\n",
        "- Pas de 2 Naive Bayes algoritmes toe die we in dit topic hebben besproken om de berichten te classificeren als ham of spam. Je hoeft de dataset niet op te splitsen.\n",
        "- Evalueer beide modellen adhv een `classification_report`. Welk van de twee scoort het best?\n",
        "- Pas ook logistic regression toe en stel opnieuw een `classification_report` op. Is dit model beter of slechter dan de Naive Bayes modellen?"
      ],
      "metadata": {
        "id": "Afqzzu7XYVYN"
      }
    },
    {
      "cell_type": "code",
      "source": [],
      "metadata": {
        "id": "uvV4v05ErqCs"
      },
      "execution_count": null,
      "outputs": []
    },
    {
      "cell_type": "markdown",
      "source": [
        "## Oefening 7"
      ],
      "metadata": {
        "id": "TSzg5FhCkIrk"
      }
    },
    {
      "cell_type": "markdown",
      "source": [
        "In dit topic hebben we de focus gelegd op het classificeren van tekst. In die gevallen bestaan de features uit aantallen (Multinomial Naive Bayes) of zijn ze binair (Bernoulli Naive Bayes). In deze oefening gaan we een voorbeeld geven van een binair classificatieprobleem waarbij alle features continu zijn en normaal verdeeld. In dit geval kunnen we Gaussian Naive Bayes toepassen.\n",
        "\n",
        "- Download de volgende dataset: https://www.kaggle.com/datasets/nelgiriyewithana/apple-quality.\n",
        "- Lees de gedownloade file `'apple_quality.csv'` in als Pandas DataFrame.\n",
        "- Check het DataFrame door de nodige `info` op te vragen.\n",
        "- Kuis het DataFrame op.\n",
        "- Vraag de samenvattende statistieken op van de numerieke features.\n",
        "- Maak een histogram van elk van de numerieke features. Zet de histogrammen naast elkaar door gebruik te maken van `subplots`.\n",
        "- Check of er effectief slechts 2 labels zijn.\n",
        "- Train een Guassian Naive Bayes model op de dataset. Je hoeft de dataset niet op te splitsen.\n",
        "- Pas ook K Nearest Neighbors toe. Neem K gelijk aan de standaardwaarde van Scikit-Learn.\n",
        "- Evalueer beide modellen a.d.h.v. een `classification_report`. Welk scoort het best?\n"
      ],
      "metadata": {
        "id": "pKYyVeZFoEbB"
      }
    },
    {
      "cell_type": "code",
      "source": [],
      "metadata": {
        "id": "h2-8HqoXrskz"
      },
      "execution_count": null,
      "outputs": []
    },
    {
      "cell_type": "markdown",
      "source": [
        "## Oefening 8"
      ],
      "metadata": {
        "id": "LkCxcLJZHo-j"
      }
    },
    {
      "cell_type": "markdown",
      "source": [
        "- Lees het bestand `'colors.csv'` in. Het bevat tekst en bijhorende labels.\n",
        "- Stel een model op dat de tekst classificeert obv de gegeven labels.\n",
        "- Splits de dataset op in training- (80%), validatie- (10%) en testset (10%).\n",
        "- Train en valideer volgende modellen:\n",
        "  - logistic regression;\n",
        "  - naive Bayes.\n",
        "- Kies het beste model en test dit.\n",
        "- Doe een finale training en evaluatie met de volledige dataset.\n",
        "- Stel bij zowel validatie als testen telkens een classificatierapport op met accuracy, precision, recall en F1-score.\n",
        "- Onderbouw je keuzes."
      ],
      "metadata": {
        "id": "-65cz9yYJgCO"
      }
    },
    {
      "cell_type": "code",
      "source": [],
      "metadata": {
        "id": "HfgSnMaOrvEy"
      },
      "execution_count": null,
      "outputs": []
    }
  ]
}