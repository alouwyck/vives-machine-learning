{
  "nbformat": 4,
  "nbformat_minor": 0,
  "metadata": {
    "colab": {
      "provenance": [],
      "toc_visible": true,
      "include_colab_link": true
    },
    "kernelspec": {
      "name": "python3",
      "display_name": "Python 3"
    },
    "language_info": {
      "name": "python"
    }
  },
  "cells": [
    {
      "cell_type": "markdown",
      "metadata": {
        "id": "view-in-github",
        "colab_type": "text"
      },
      "source": [
        "<a href=\"https://colab.research.google.com/github/alouwyck/vives-machine-learning/blob/main/04_polynomial_regression/3_polynomial_regression_oefeningen.ipynb\" target=\"_parent\"><img src=\"https://colab.research.google.com/assets/colab-badge.svg\" alt=\"Open In Colab\"/></a>"
      ]
    },
    {
      "cell_type": "markdown",
      "metadata": {
        "id": "lewAFonyBbSW"
      },
      "source": [
        "<img src=\"data:image/png;base64,iVBORw0KGgoAAAANSUhEUgAAALsAAABPCAYAAACzk7RlAAAT0ElEQVR4nO2df2wbZZrHv2nSi7jgSfcaTtHZ40onisCTtixlW09aEkRpHLckaRNPWk7i/khSwUnHae2s+Af24qBb0EkXu0f3VntXp9pdVrCxveLHtsSTtnAt1JPCsmohDhLs/UE81d4aUGon0PTSMPeHmcG//Y49Ths8H6mi2M+87zv1933neZ/3ed+pkSRJgo5OFbDuZjdAR2e10MWuUzXoYtepGnSx61QNuth1qgZd7DpVgy52naqh7mY3gITlyzP4Op7I+/26Rgrrt7VoUtf18+GC39duMqFuk1mTunRWl5q1sKj02d7ugiJct6ERf/Pn/ym7nuXLM/jzjgcL2mz4t3/B7U8+UXZdOqvPmhjZ69t2FxT711fjmtTzdbx4Oeu3bSEqy+v1AAA4joPJRJfVrluRm3F/P/vZfwAA7r77bjz00B7V168JsZNw/fwF1LftKq+Mcxc0as23YrBa2e+02Ffz/n796xchiiJ+8YtflnT9mpigkvjjX/7q5bLr+erF3xS1KbdD6ZRDTVlXr4mR/bbufVjXSBWcpH714m9gePKJkieqi8d+jhufzhVuR5dddbmJRBwnToyD50OgqEY4HA7YbJ1pNqIYxfj4OGZnIwAAjutHR4cNFEWllJPA+LgP09MCKKoRNpsNVqsVgUAAAOB0uhRbng8hGAwikYjDZKLhcHBgWTatrGAwAJ4PAQBstk44HFxafaltkutzODhN7i9XfSTtBsqbXq6JCSoAfOF4DNd+N1nQZv22Ftwx9RrWbWhUVfby5Rl81tFT1Pf/3vFjaPj7R4nKNJtNAACKopBIpHdSp9OliDMQ8GN42JV1PcMwmJgIKNcfOsQhEolk2cifzc2JAACXy4lgMJBVXmqdnZ0dmJ2dzVsfz4dw5MhQwTaR3h/PhzA87MqyMZlo+P1+xQXK1+7BwSGMjLgBAK2tVsWNKcVnh7RGWPzlS1L0LzYW/RPb2y2tzF8lLvf/Ln0o/Wnz94nKVlMuTRslmjZKNtteKRwOSzMzM9Lg4IBE00aJYe6RJEmSotE5iWHukWjaKDmdP5TC4bAUCk1KNtteiaaN0uDggCRJkuR0/lCiaaNksdwt+f0TUjgclny+40odNG2UJEmS/P4JxS4cDqd9RtNGaWZmRgqHwxJNGyWrdacUj8eleDyu1Of3T0jxeDytTdHonBQKTUoWy90STRsln+941v2FQpPSzMyM0k6aNiplF7q//n6HJEmSci/57k++F5bdKdG0UTp79gzx75DKmhG7JEnS/97fTiTKP23+vrR07p2i5S0c+7l05a//lqjM+LP/qqqt8g8VCk0qn8Xj8TThyT+o1boz7VpZkLJoZKH5/RNpdiMj/5wmdrkzuVxOSRAE5U9nZ4dE00bJ4xmTZmZmlGs8njEpGp1LK1PuHJltkjvKzMwM0f2lCjZXWbJdNDqniF/uSDJy55E7fbliXxM+u8yGsZ/gs709Re1ufDqHz/b2oG6TGbf/0+NYv3VLms9/7fU38NWLLxOHLNc1Urj9ycdLajNFNab8Pd0Hlx/tDMOkXZPqp0YiESwsLABAVtSDZVmcODGeUmbyfgIBPwIBf1ZbIpEInE4XBgYGceLEOLxeD7xeD0wmGkNDQxgYGIQoJt0hmjalXZvZxmL3J99jsbKiUVFxqSyW9Dpomk67r6qYoMrUt+3CbV32or67zI1P53B1+Omy66V+/JTqeYAavv0xk4hiVPl7qlAy7TL9bpmBgcGsSWJqWW73KFyuYfB8CIIgIBgMwO0egcFgUAQrdzAtyCwr1X+nKAoGgwELCwtZ9xfPWvcob3q5JkKPqXzP91Os36pNagAJf/nY4YqtmHZ02AAA09PTSmQEADyeZAzbYrHAZKIVu6NHvUpHiEQiGB/3pZXHsq0AgIsXp8EwDFiWBUVROHrUg6NHPYhGRQQCfhw6xGF01A2O64fH41Umk6IowmazKeXLT4dEIgG73Qaz2QSXy0l8fxzHZZUFAG73CADAaDSBYRilYx496lU6QiQSUSasHNdPXGch1tTIDiRTAzYGf4XYDx4sGIrUgvq2VvyV76cVK59hGDgcHILBAI4cGYLJRCORiCs/+NiYF0AyuiEIYUQiEbS2JhdxRDEKg8GQVt7g4BB4PoRIJILOThto2gRBEAAkOw7LshBFE9zuEQiC8E1YkVIiOiaTCSYTrbg5w8MunDgxrnxvMBjgcmVHjvKRWZbX6027P48neX9u96jS7pYWS1qUyWKxaCb2NTeyA0DdJjPuOP06as2VW7m7rcuOjYEXK1a+jDyyGo0miGIUiUQCHR02TE7yim/LMAz8/iCsViuApJvjcHCKWGQoioLfH4TDwSEevwpBEGAwGOB0uuD3BwHIIb8gOjpsiEQi39hQGBlxK6Jyu0cxMuKG0WhSROdwcOD5KdWrpW73KMbGPDnvT56bJMOdU0ocPxKJZLVbZuPGjarqT2XNxNlz8fXVOL7gHiuaqaiW2//xcWwY+4mmZVYCOUZvtVqzRKGTzZoc2WXWbWjEHadfB/XMU1jXSBW/oAi1Zhp3nH7tlhO62z0Cs9kEu92muADyKiiQHaXRyc2aHtlT+fpqHIvH/hOLx36u2pevNdOgfvwU8eroaiOKUdhsHVhYWABFUYpPm0gkYDAY4PcH84YGdb7lOyP2VK6fv4Brr72B5Q8+zOniyJs9buveh/q23Zpt/KgkcvQldUndarViZGRUFzoh30mx5+LGp3NY19hY0Xi5zq1N1YhdR2dNT1B1dNSgi12nalhzK6gkXL16VZX9hg0bKtSSm8v09DREMYpoNJr1HcMwynJ9pUkkEpidncXsbCRHvkuyLXJqRCVRLfZw+AIOHz5EbD8xEcjYbULO/v378OGHHxDZ9vQcwLFjyaX948f/C8eOvUB03UsvvYzdux/AjRs3sGULgy+//JLouscffwJPP/0MkW0mHs8Yjh71FjdEcnXx0qUPUFdX/KeSY++CIKTl2hQrn2Vb8+5EKhVRjCIQCGBqis/adFKoLfIuplI1UwjVbgzLtqK5uZnYnvQfPZNYLEYsdAA4eLC3pHpk6urq0NXVTWx/6tSpkutS829y4MDBokJPJBIYHXWjtdUKt3tEVfmJRAI8H4LL5URrK6tspC6VRCKB4WGXUhap0OVr5US1XDuzykW12GtqalQJ6+TJ36mtAgDwxhvkYmpqakJ7e3tJ9aTS29tHbCuKUXz88ceq6xDFKD766CPN2sTzIbS2WjE+7sva+lZK27xeD+x2W0lCk9uSK5deLYIgwG63ld35UilpgiqnbpIQi8Xy5l0Xgud5Ytvu7h7U1taqriOTnTt3qnpqTU2Rt1EmFCIfdc1mM+6777683w8Pu3DkyFDZIs8kEonAbrepEm0g4K9IW7xeT849uqVQktjvvHMzLBYLsb1aV2ZxcQHT0wKxvZoRuRA1NTXo63MQ25fioqm5plBbhoddmoyghSCtIxKJaCbIXAQCfk1G+JJDj2oEpnYEnJo6jZWVFSJbs9mMrVu3qiq/EI8++nfEtpcvX0YsFiO2n5+fx7vvvktsn0/sqyH01LqKddAf/ahyQpdR6//noiyx19SQ7QmMRCKqRKGmcxw+rG3yltlsxpYt5J1HzUh95sxpkC5Yb99+P8zm7ANUeT60akKXyXUURmp7tJ5I5uPZZ91lXV+y2JuamrB79wPE9qdOnSSyW15exptvniWyramp0TRcJtPbSz4BVzO3UGObqw3JqMsocRlakUgklK10mciHNJFgsVjgdLowMRHA8eM+ZdMKKYIgpO3PVUtZK6h9feSuDOkI+Pbb57G0tERku2PHDlUTSlJ6eg4QT3gvXHgHi4vFNycvLS3hrbfeJCqzrq4OPT0Hsj4fH/ep+rGNRhPGxjwIhwXMzYnKn8lJXvUgEQwGctZNGnxwODiEQlNwOl1gWRY2W+c32w2nlUOQSPD5fMWN8lCW2PfvfwT19fVEthcvXiQShRq3oLeXfDKphqamJrS1tRHZrqys4M03i4v43Ln/xvLyMlGZe/Y8nHUsBYCsDdaFkLfRcVx/1sokwzDweLyYnOSz9rEWQt4Ingpp5xsczD5hLPU7UsHLR+iVQllir6+vx759+4hsV1ZWMDU1VdBGkiTi0FxdXR26u8kXgdRy8KCap1Zx90SNC5NrHYPnQ8RhPavVCo/Hm7PDpCLvbSUVfCmhVpnGIjvJ5FMNijE9PV1yG8rOjentdeCVV14hsuX5UMEozvvv/x7z8/NEZXV02NDQ0EBkWwp2ux0NDQ1E6QOnT09heXkZ69evz/n9ysoKcSduaGhAR0dH1udqOkvmRuxCMAwDjutPO2wpH/Jqa64zaYoxOprceJ2vA5pMNCYmyP3/Uihb7Lt370ZTUxM+//zzorZvvfVWQVEUG/lTUTOJLIX6+np0dtrx298W38i8tLSEcDicdxX3vffeI3LhAKCnpydnegDpiGa1WlUnVNlsnURiB5I+eqrYrVYrUdvkqA3HcXlfYFCJfJhUyhZ7bW0tDhw4CJ/veFHbpaUlnD9/Dnv2PJzz+5MnySI2FEWVdoqrSvr6+ojEDiR/zHxiVzcPyf3kI/WNadqs+lF/5YpIbJsZZrTZOonrk9MR5CP3WJYFy7IlddBS0CTFt6+vj0jsQPJxnEvsn3zyMfEPSpIcpQW7dpE/taameDz33PM5vyN1QZqbm7Fjx86sz+WDjkjId86jVmQeUZc8VWxM9XF5yazIqNJWk4mGzWYDy7LKCWhao8nmDYZpwZ13biay5flQzoWVcidwlUBN+kAsFsOlS5eyPp+dnSXuxFqdfFVJRPFK2v9TFAW3u/zYf/KFBT4MDQ2ipcWC4WFXWTH1XGi2U8nhIBPF/Pw83n//91mfkz7qzWYztm/frqpt5aAmLSLXPahxYQ4dOkxse7PIJUCO68fYmHbZiXKqb2srq6noNRO7mvSBzFE8Fovh8uXLRNeqSdTSgnvuuUfFUyv76UQartu2bVvO9IC1Asf1Y2IioGpFlIRAwI/OztJSjjPRTOzNzc3KWYTFyNz4oFUmYKXo7ydzL/74x0/SRqFYLEb8I2mVuVlpComZZVkIwrRytqNW5HvNjlo0neX19vYRTaZEMYpPPvkYmzffBYDcX9++fftNGf0cDg7PP/8cURLXyZMn8cQT/wCAPB+otrZWs05ssViKLiaVV37xPasc1w+O61eOqp6eFkra05BKIpHAkSNDCIX4ku9PU7E/8kgXnnnmaVy/fr2oLc/z2Lz5LiwuLuDChXeIyr9Zo19TUxN27dqNd955u6gtz/OK2EmfWO3tDxb8AdVsipZzTm4FGIYBwyQnr4lEAoIQ/mZ/LK8q3CkjT2JLvT9Nj9JoaGjA3r3Zq3+5kH3Zs2fPEuWu50uOWi1IF7H+8If3MT8/j8XFBVy8eFGTsuW3U5CQ6ySBWwF5M7XbPQpBmEY4LGBszEPs+sqoybLMRPNzY0ijMpcuXUIsFiN2YR56aE9FH8/FsNv3ESW9SZIEng+B53miTtzQ0EC0/C6/VaMYU1O85lvjKoHJRIPj+uH3BxEOC8Q73+Qz3ktB85UZWZQkDTp16iTOnDlNVO7NnsA1NDTAbrfj1VdfLWrL8zzWryf7p923bz9RJ7LZbESRHfnlwKSP+iNHhojdLYPBgEgkuVlcFKNobSVb3h8YGCwYi5dfkNDSQib4SCRSUmpBRU4EI81zf+GFfyfKXTcYDMTZlZWENBPy7NkzOHfuHJEt6cRUzY/r9XqIVlEDAb+qSFjqE0jN8j5JzhNFURV/cldE7KSi+OKLL4jsurq6ymmOZrS1taGpqYnI9tq1a0VtmpubiUUsv96clOFhV94FGVGMYnTUrXqTdGZOOumyvihGi9YlnzdfSSoi9nvvvVfTEKGa3PJKUltbi+7u4u9hJeXgwV7ihTgAql7eBUBZhbTbbcrBQ3a7Da2trKqNIEAyuzEzKkSag57alsxXtsunmB06RN6RSz2yr2IHm2qV59Hc3IydO7OTo24WarYiFkPN+TtAcnQvJewmvyhMEISSF2Zy5chzXL+qxSNRjMLlcsJsNqGlxaL81+VyqtqYUqq7UzGxa5XncaslR23ZslWTpxbDMMRpCKk4nS5VZ/ZowdiYJ6+PrmajSCqluizl6KFiYm9ubsb99/+g7HJuxeQoLY7vKCdz0+8Pap6Dkg+HgysoMJZlMTAwuCptsVqtt6bYgfIf+Vu33prJUQ4Hp8rXzqSmpqasUCpFUQgEAhUf4XO9azUXbvdoRY40ScVoNMHnO1FWGRUVe1dXd1mbLLT0j7Wk3HnEAw+QR3XykfryXq0xGAwYG/OoclE8Hi/GxjyqTisgxWKxIBAIlB2arKjYKYrCww/n3oJXjNraWlVHSK825USItNo/S1EUfL5xHD/u08ytsVqtyhEcauG4fvD8lOoUgEIMDAzC7w9qsm2v4q+ZKfVsl/b29rJHv0rS3V3aU6u+vh779z+iaVtstk4ltbYU18ZgMMDh4DAxEShbWPITZ2IiAIeDK2mkl9sTDgtwu0c1W2xalbfllXICa3v7gwWPay4E6U55ALjrrrtUHeOXit8/gStXrhQ3TGHTpk0VT32Qj7wQRRGCkHwPbDQq4soVEUajCTSdfAqwbCssFktJR2OoQRAETE8L3ywcxZXXzgDfpiRTVCMYhoHVylbslAH91ZA6VYP+tjydqkEXu07VoItdp2rQxa5TNehi16kadLHrVA262HWqBl3sOlWDLnadqkEXu07VoItdp2rQxa5TNfw/229EA1oT9UMAAAAASUVORK5CYII=\" align=\"right\" /><br>\n",
        "\n",
        "\n",
        "**MACHINE LEARNING FUNDAMENTALS**<br>\n",
        "Academiejaar 2023-2024<br>\n",
        "Andy Louwyck\n",
        "\n",
        "---\n",
        "\n",
        "\n",
        "\n",
        "---\n",
        "\n"
      ]
    },
    {
      "cell_type": "markdown",
      "source": [
        "# POLYNOMIALE REGRESSIE: OEFENINGEN"
      ],
      "metadata": {
        "id": "TbsPqSukdYms"
      }
    },
    {
      "cell_type": "markdown",
      "source": [
        "## Veeltermen"
      ],
      "metadata": {
        "id": "Ah0f_WK34ZXy"
      }
    },
    {
      "cell_type": "markdown",
      "source": [
        "### Oefening 1"
      ],
      "metadata": {
        "id": "72jgkxMm_nkL"
      }
    },
    {
      "cell_type": "markdown",
      "source": [
        "Plot de volgende [Laguerre-veelterm](https://nl.wikipedia.org/wiki/Laguerre-polynoom):\n",
        "\n",
        "> $L_6(x) = \\frac{1}{720}(x^6-36x^5+450x^4-2400x^3+5400x^2-4320x+720)$\n",
        "\n",
        "Laat $x$ variëren tussen -1 en 16.\n",
        "\n",
        "Voeg een grid toe aan je plot. Benoem je assen."
      ],
      "metadata": {
        "id": "bxhqk3oI_ucH"
      }
    },
    {
      "cell_type": "code",
      "source": [],
      "metadata": {
        "id": "Z3idcQMH5536"
      },
      "execution_count": null,
      "outputs": []
    },
    {
      "cell_type": "markdown",
      "source": [
        "### Oefening 2"
      ],
      "metadata": {
        "id": "yPywXM-H763s"
      }
    },
    {
      "cell_type": "markdown",
      "source": [
        "Zet de [kogelbaan](https://nl.wikipedia.org/wiki/Kogelbaan) uit voor een projectiel dat horizontaal wordt afgevuurd met een snelheid $v$ van 500 m/s.\n",
        "\n",
        "De afstand $x$ in meter bereken je als volgt:\n",
        "\n",
        "> $x = v.t$\n",
        "\n",
        "De hoogte $y$ in meter is gelijk aan:\n",
        "\n",
        "> $y = -\\frac{1}{2}.g.t^2$\n",
        "\n",
        "Hierbij is $t$ de tijd in seconden. Constante $g$ is de valversnelling die je gelijk mag nemen aan 9.8 m/s².\n",
        "\n",
        "Als je de 2 vergelijkingen combineert, dan krijg je de volgende polynoom:\n",
        "\n",
        "> $y(x) = -\\frac{g.x^2}{2.v^2}$\n",
        "\n",
        "Plot de kogelbaan over het interval $x = [0, 1000]$. Voeg labels toe aan de assen en voeg ook een grid toe."
      ],
      "metadata": {
        "id": "aXKD6Od_79fa"
      }
    },
    {
      "cell_type": "code",
      "source": [],
      "metadata": {
        "id": "_pBHAG9-58M8"
      },
      "execution_count": null,
      "outputs": []
    },
    {
      "cell_type": "markdown",
      "source": [
        "### Oefening 3"
      ],
      "metadata": {
        "id": "od7Di_AF7mF8"
      }
    },
    {
      "cell_type": "markdown",
      "source": [
        "Plot de eerste 6 zogenaamde [Chebyshev-polynomen](https://nl.wikipedia.org/wiki/Chebyshev-polynoom) over het interval $[-1, 1]$:\n",
        "\n",
        "> $T_0(x) = 1$\n",
        "\n",
        "> $T_1(x) = x$\n",
        "\n",
        "> $T_2(x) = 2x^2 - 1$\n",
        "\n",
        "> $T_3(x) = 4x^3 - 3x$\n",
        "\n",
        "> $T_4(x) = 8x^4 - 8x^2 + 1$\n",
        "\n",
        "> $T_5(x) = 16x^5 - 20x^3 + 5x$\n",
        "\n",
        "Plot alle veeltermen op dezelfde grafiek. Voeg een legende toe en benoem de assen. Voeg ook een grid toe."
      ],
      "metadata": {
        "id": "12zsjjBw4e02"
      }
    },
    {
      "cell_type": "code",
      "source": [],
      "metadata": {
        "id": "JBp5gJZn5_E-"
      },
      "execution_count": null,
      "outputs": []
    },
    {
      "cell_type": "markdown",
      "source": [
        "## Polynomiale regressie"
      ],
      "metadata": {
        "id": "-zo6zPE1DKN2"
      }
    },
    {
      "cell_type": "markdown",
      "source": [
        "### Oefening 4"
      ],
      "metadata": {
        "id": "uweEGslZJ4L6"
      }
    },
    {
      "cell_type": "markdown",
      "source": [
        "Lees het bestand \"oef_poly_reg.csv\" in als Pandas DataFrame. De data in deze file werden gegenereerd adhv volgende veelterm:\n",
        "\n",
        "> $y = -x^3 - x^2 + 2x$\n",
        "\n",
        "Probeer nu deze veelterm opnieuw te fitten. Maak gebruik van NumPy's `polyfit` functie en van Scikit-Learn. Check voor beide gevallen de coëfficiënten en bereken MAE en MSE. Krijg je hetzelfde resultaat?\n",
        "\n",
        "Zet tenslotte de data uit in een scatterplot samen met de echte veelterm en met de veelterm bekomen uit de polynomiale regressie. Maak je grafiek mooi op."
      ],
      "metadata": {
        "id": "QiFHtAsID_aw"
      }
    },
    {
      "cell_type": "code",
      "source": [],
      "metadata": {
        "id": "vd1hxhZN6Dgo"
      },
      "execution_count": null,
      "outputs": []
    },
    {
      "cell_type": "markdown",
      "source": [
        "### Oefening 5"
      ],
      "metadata": {
        "id": "kDAzHGrjLNwc"
      }
    },
    {
      "cell_type": "markdown",
      "source": [
        "Lees het bestand \"china_gdp.csv\" in met het [Bruto Binnenlands Product](https://en.wikipedia.org/wiki/Gross_domestic_product) van China voor de periode 1960 t.e.m. 2014.\n",
        "\n",
        "Probeer de curve zo goed als mogelijk te fitten. Maak een scatterplot van de data en voeg er de bekomen regressiecurve aan toe. Je hoeft hier niet te valideren of regularisatie toe te passen.\n",
        "\n",
        "Tip: herschaal de jaartallen en pas een logaritmische transformatie toe op de waarden van het BBP.\n",
        "\n",
        "Lukt het om te voorspellen hoeveel het BBP van China in 2050 zal zijn?"
      ],
      "metadata": {
        "id": "KIboFiQtL_ez"
      }
    },
    {
      "cell_type": "code",
      "source": [],
      "metadata": {
        "id": "4KT6Gibx6Isi"
      },
      "execution_count": null,
      "outputs": []
    },
    {
      "cell_type": "markdown",
      "source": [
        "### Oefening 6"
      ],
      "metadata": {
        "id": "pcCzFTbQOCJa"
      }
    },
    {
      "cell_type": "markdown",
      "source": [
        "De file \"GDP.csv\" bevat het BBP per inwoner in USD van een hele reeks landen voor de periode 1960 t.e.m. 2021. Lees de file in, pik een land uit (bijv. Frankrijk), en probeer de tijdreeks zo goed mogelijk te fitten m.b.v. een polynoom."
      ],
      "metadata": {
        "id": "bJFb_QWiPMZ_"
      }
    },
    {
      "cell_type": "code",
      "source": [],
      "metadata": {
        "id": "1qwIvw1n6MgF"
      },
      "execution_count": null,
      "outputs": []
    },
    {
      "cell_type": "markdown",
      "source": [
        "## Underfitting en overfitting"
      ],
      "metadata": {
        "id": "1PMbmQn2RidX"
      }
    },
    {
      "cell_type": "markdown",
      "source": [
        "### Oefening 7"
      ],
      "metadata": {
        "id": "4mMIR2JhdDCt"
      }
    },
    {
      "cell_type": "markdown",
      "source": [
        "Lees opnieuw het bestand \"oef_poly_reg.csv\" in als Pandas DataFrame met de data die werden gegenereerd adhv volgende veelterm:\n",
        "\n",
        "> $y = -x^3 - x^2 + 2x$\n",
        "\n",
        "Probeer nu deze (volledige) dataset opnieuw te fitten door toepassing van Lasso- en Ridge-regressie waarbij je uitgaat van een polynoom van graad 6.\n",
        "\n",
        "Check voor beide gevallen de coëfficiënten en bereken MAE en MSE. Krijg je een beter resultaat dan in oefening 4?\n",
        "\n",
        "Zet ook hier de datapunten uit in een scatterplot samen met de echte veelterm en met de veeltermen bekomen uit de regressies. Maak je grafiek mooi op."
      ],
      "metadata": {
        "id": "VFlOPW9sdGEe"
      }
    },
    {
      "cell_type": "code",
      "source": [],
      "metadata": {
        "id": "BRNb6Ecw6PYT"
      },
      "execution_count": null,
      "outputs": []
    },
    {
      "cell_type": "markdown",
      "source": [
        "### Oefening 8"
      ],
      "metadata": {
        "id": "9wl1lFxdRvTI"
      }
    },
    {
      "cell_type": "markdown",
      "source": [
        "Lees de file \"loon_vs_geluk.json\" in met (fictieve) data die het verband tussen iemands loon en geluksgevoel weergeven. Het bruto jaarloon heeft als eenheid 10000 euro. Het geluksgevoel is een score van 0 t.e.m. 10.\n",
        "\n",
        "Plot de data uit en pas polynomiale regressie toe. Selecteer het beste model a.d.h.v. een \"model complexity graph\". Splits je dataset in 3 delen op zodat je het geselecteerde model ook kan testen. Neem 400 datapunten voor de trainingset en 400 voor de validatieset. De resterende datapunten vormen de testset.\n",
        "\n",
        "Hertrain het finale model op de volledige dataset en plot het resultaat."
      ],
      "metadata": {
        "id": "xXcG0brsSddQ"
      }
    },
    {
      "cell_type": "code",
      "source": [],
      "metadata": {
        "id": "FFJEDYmm6SKH"
      },
      "execution_count": null,
      "outputs": []
    },
    {
      "cell_type": "markdown",
      "source": [
        "### Oefening 9"
      ],
      "metadata": {
        "id": "T2Mo6NbuXAv0"
      }
    },
    {
      "cell_type": "markdown",
      "source": [
        "Lees opnieuw de file \"loon_vs_geluk.json\" in en pas Lasso- en Ridge-regressie toe op de volledige dataset. Neem een veelterm van graad 10.\n",
        "\n",
        "Bereken de MAE en plot het resultaat.\n",
        "\n",
        "Krijg je een betere oplossing dan bij oefening 8?"
      ],
      "metadata": {
        "id": "7GnrvvD9YzOt"
      }
    },
    {
      "cell_type": "code",
      "source": [],
      "metadata": {
        "id": "xx7Ll3vr6UvZ"
      },
      "execution_count": null,
      "outputs": []
    }
  ]
}