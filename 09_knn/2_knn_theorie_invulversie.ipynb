{
  "nbformat": 4,
  "nbformat_minor": 0,
  "metadata": {
    "colab": {
      "provenance": [],
      "include_colab_link": true
    },
    "kernelspec": {
      "name": "python3",
      "display_name": "Python 3"
    },
    "language_info": {
      "name": "python"
    }
  },
  "cells": [
    {
      "cell_type": "markdown",
      "metadata": {
        "id": "view-in-github",
        "colab_type": "text"
      },
      "source": [
        "<a href=\"https://colab.research.google.com/github/alouwyck/vives-machine-learning/blob/main/09_knn/2_knn_theorie_invulversie.ipynb\" target=\"_parent\"><img src=\"https://colab.research.google.com/assets/colab-badge.svg\" alt=\"Open In Colab\"/></a>"
      ]
    },
    {
      "cell_type": "markdown",
      "metadata": {
        "id": "p34cmLp6FrA6"
      },
      "source": [
        "<img src=\"data:image/png;base64,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\" align=\"right\" /><br>\n",
        "\n",
        "\n",
        "**MACHINE LEARNING FUNDAMENTALS**<br>\n",
        "Academiejaar 2023-2024<br>\n",
        "Andy Louwyck\n",
        "\n",
        "---\n",
        "\n",
        "\n",
        "\n",
        "---\n",
        "\n"
      ]
    },
    {
      "cell_type": "markdown",
      "metadata": {
        "id": "mbPLrM-UrYOp"
      },
      "source": [
        "# K NEAREST NEIGHBORS: THEORIE"
      ]
    },
    {
      "cell_type": "markdown",
      "metadata": {
        "id": "4i4Upb0UD82g"
      },
      "source": [
        "## 1. Uitleg"
      ]
    },
    {
      "cell_type": "markdown",
      "metadata": {
        "id": "fQ2611dQAPU6"
      },
      "source": [
        "K Nearest Neighbors (KNN) bestaat voor:\n",
        "- unsupervised learning\n",
        "- supervised learning\n",
        "  - regressie\n",
        "  - classificatie\n",
        "\n",
        "In deze notebook: classificatie\n"
      ]
    },
    {
      "cell_type": "markdown",
      "metadata": {
        "id": "JhZIvb_dBtV_"
      },
      "source": [
        "![image.png](data:image/png;base64,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)"
      ]
    },
    {
      "cell_type": "markdown",
      "metadata": {
        "id": "5c8wkgmUBv-E"
      },
      "source": [
        "Figuur:\n",
        "- 2 klassen:\n",
        "  - blauwe vierkantjes (links)\n",
        "  - rode driehoekjes (rechts)\n",
        "- = gelabelde trainingsdata!\n",
        "- in het midden: nieuw data punt\n",
        "- tot welke klasse behoort dit punt?"
      ]
    },
    {
      "cell_type": "markdown",
      "metadata": {
        "id": "u2aZVkKrDp7T"
      },
      "source": [
        "Oplossing 1:\n",
        "- 3 dichtste punten nemen:\n",
        " - 1 blauw vierkantje en 2 rode driehoekjes\n",
        " - => nieuwe datapunt is een rood driehoekje\n",
        "- 5 dichtste punten nemen:\n",
        " - 3 blauwe vierkantjes en 2 rode driehoekjes\n",
        " - => nieuwe datapunt is een blauw vierkantje\n",
        "- K = aantal dichtste punten (= hyperparameter)\n",
        "- Hoe K dichtste punten bepalen? Afstand berekenen:\n",
        "  - Euclidische afstand\n",
        "  - Manhattan afstand\n",
        "  - ..."
      ]
    },
    {
      "cell_type": "markdown",
      "metadata": {
        "id": "Rhycan0TPwcV"
      },
      "source": [
        "Oplossing 2:\n",
        "- Cirkel tekenen:\n",
        "  - middelpunt = nieuwe datapunt\n",
        "  - gegeven straal R (= hyperparameter)\n",
        "- datapunten binnen cirkel checken:\n",
        "  - cirkel in volle lijn:\n",
        "    - 1 blauw vierkantje, 2 rode driehoekjes\n",
        "    - => nieuw punt is rood driehoekje\n",
        "  - cirkel in stippellijn:\n",
        "    - 3 blauw vierkantjes, 2 rode driehoekjes\n",
        "    - => nieuw punt is blauw vierkantje"
      ]
    },
    {
      "cell_type": "markdown",
      "metadata": {
        "id": "ZobOm5yJQWa0"
      },
      "source": [
        "Conclusie:\n",
        "- nieuw label hangt af van K of R\n",
        "- hangt ook af van de afstandsmaat (Euclidisch bv.)"
      ]
    },
    {
      "cell_type": "markdown",
      "metadata": {
        "id": "ysFC062EDwxS"
      },
      "source": [
        "In deze notebook:\n",
        "- K dichtste punten bekijken\n",
        "- adhv Euclidische afstand"
      ]
    },
    {
      "cell_type": "markdown",
      "metadata": {
        "id": "9tUJfnG1EDoB"
      },
      "source": [
        "## 2. Dataset"
      ]
    },
    {
      "cell_type": "markdown",
      "metadata": {
        "id": "w2QpLlKBEGRd"
      },
      "source": [
        "Pandas en Numpy importeren:"
      ]
    },
    {
      "cell_type": "code",
      "metadata": {
        "id": "hK1FcK87rMdB"
      },
      "source": [
        "# vul hier je code aan\n"
      ],
      "execution_count": null,
      "outputs": []
    },
    {
      "cell_type": "markdown",
      "metadata": {
        "id": "2cFBY76NEJ0V"
      },
      "source": [
        "Data-file \"aliens2.csv\" inlezen (zie topic over logistic regression):"
      ]
    },
    {
      "cell_type": "code",
      "metadata": {
        "id": "SzdI6Ke-ruP2"
      },
      "source": [
        "# vul hier je code aan\n"
      ],
      "execution_count": null,
      "outputs": []
    },
    {
      "cell_type": "markdown",
      "metadata": {
        "id": "K2DA0UTcEX4V"
      },
      "source": [
        "Matrix `X` met de 2 features creëren, nl. aantal keren \"Crack\" en aantal keren \"Dunk\":"
      ]
    },
    {
      "cell_type": "code",
      "metadata": {
        "id": "5iTMWEy1r4fA"
      },
      "source": [
        "# vul hier je code aan\n"
      ],
      "execution_count": null,
      "outputs": []
    },
    {
      "cell_type": "markdown",
      "metadata": {
        "id": "nVeZzo7FEtQU"
      },
      "source": [
        "Vector `y` met de labels, nl. 1 indien \"happy\", 0 indien \"sad\":"
      ]
    },
    {
      "cell_type": "code",
      "metadata": {
        "id": "P7MEr6PWsUZ-"
      },
      "source": [
        "# vul hier je code aan\n"
      ],
      "execution_count": null,
      "outputs": []
    },
    {
      "cell_type": "markdown",
      "metadata": {
        "id": "rTcBwhPfFJTU"
      },
      "source": [
        "## 3. Implementatie"
      ]
    },
    {
      "cell_type": "markdown",
      "metadata": {
        "id": "TstzlhfSFRGp"
      },
      "source": [
        "### Euclidische afstand"
      ]
    },
    {
      "cell_type": "markdown",
      "metadata": {
        "id": "TVk7jAd191f-"
      },
      "source": [
        "Wiskundig:\n",
        "- $n$ features $x_1$, $x_2$, ..., $x_n$\n",
        "- afstand $d_{i,j}$ tussen 2 datapunten $i$ en $j$\n",
        "  - **Euclidische afstand** in $n$ dimensies:\n",
        "  - $d_{i,j} = \\sqrt{\\sum_{k=1}^{n}{(x_{i,k} - x_{j,k})^2}}$\n",
        "\n",
        "Code:\n",
        "- `n` features `x1`, `x2`, ...,  `xn` = `n` vectoren = `n` kolommen in matrix `X`\n",
        "- afstand `d` tussen 2 datapunten (= rijen) `i` en `j`:\n",
        "  - `d = sqrt(sum((X[i, :] - X[j, :])**2))`\n",
        "- Alle datapunten: matrix `D` met `D[i, j] = d`\n",
        "\n",
        "Meer uitleg: zie Topic over Clustering"
      ]
    },
    {
      "cell_type": "markdown",
      "metadata": {
        "id": "6WUfhhFBFvII"
      },
      "source": [
        "Hier moeten we afstand tussen (nieuw) datapunt `x` en de trainingsdataset `X` berekenen:\n",
        "\n",
        "`d = sqrt(sum((X - x)**2))`"
      ]
    },
    {
      "cell_type": "markdown",
      "metadata": {
        "id": "oCF7FJ4rGvRr"
      },
      "source": [
        "Voorbeeld: nieuw datapunt `x = [0, 0]`"
      ]
    },
    {
      "cell_type": "code",
      "metadata": {
        "id": "h0HGWtjNGJel"
      },
      "source": [
        "x = np.array([0, 0])\n",
        "\n",
        "# bereken X - x\n",
        "# Laat numpy broadcasting toepassen: x wordt automatisch afgetrokken van elke rij van matrix X!\n"
      ],
      "execution_count": null,
      "outputs": []
    },
    {
      "cell_type": "code",
      "metadata": {
        "id": "v8ZlOfjXGd_J"
      },
      "source": [
        "# bereken (X - x)**2 en maak gebruik van np.square()\n"
      ],
      "execution_count": null,
      "outputs": []
    },
    {
      "cell_type": "code",
      "metadata": {
        "id": "SZIw8WLKGixV"
      },
      "source": [
        "# neem nu de som van alle (X - x)**2\n",
        "# axis=1 niet vergeten, want we werken per rij!\n"
      ],
      "execution_count": null,
      "outputs": []
    },
    {
      "cell_type": "code",
      "metadata": {
        "id": "RKZjcUBaG9_X"
      },
      "source": [
        "# geef nu de volledige gevectoriseerde expressie\n",
        "# dus ook nog eens de vierkantswortel nemen van alle sommen\n",
        "# dat geeft de gevraagde afstanden\n",
        ""
      ],
      "execution_count": null,
      "outputs": []
    },
    {
      "cell_type": "markdown",
      "metadata": {
        "id": "l55o6GmqG3kq"
      },
      "source": [
        "We maken er een functie van:"
      ]
    },
    {
      "cell_type": "code",
      "metadata": {
        "id": "wtitp3zesc0j"
      },
      "source": [
        "# creëer een functie \"distance\" met input X en x en output de vector met afstanden\n",
        "# maak gebruik van lambda\n"
      ],
      "execution_count": null,
      "outputs": []
    },
    {
      "cell_type": "markdown",
      "metadata": {
        "id": "cmPr0pE2HNx_"
      },
      "source": [
        "Testen:"
      ]
    },
    {
      "cell_type": "code",
      "metadata": {
        "id": "Kg6JQuuStCTU"
      },
      "source": [
        "d = distance(X, np.array([0, 0]))\n",
        "d"
      ],
      "execution_count": null,
      "outputs": []
    },
    {
      "cell_type": "markdown",
      "metadata": {
        "id": "B5v9tJB8HRQt"
      },
      "source": [
        "### K dichtste punten"
      ]
    },
    {
      "cell_type": "markdown",
      "metadata": {
        "id": "ACy1gW33Ha3G"
      },
      "source": [
        "Afstanden sorteren van klein naar groot\n",
        "\n",
        "MAAR we hebben de indices nodig!"
      ]
    },
    {
      "cell_type": "code",
      "metadata": {
        "id": "hjihEuA9HlEt"
      },
      "source": [
        "# creëer variabele indices met de integers van 0 tot en met m-1\n",
        "# met m het aantal datapunten\n",
        "# leid m af uit de shape van X\n",
        "# maak gebruik van np.arange()\n"
      ],
      "execution_count": null,
      "outputs": []
    },
    {
      "cell_type": "markdown",
      "metadata": {
        "id": "s9kw-kltHpVV"
      },
      "source": [
        "Indices sorteren met functie `sorted` en de berekende afstanden als `key`:"
      ]
    },
    {
      "cell_type": "code",
      "metadata": {
        "colab": {
          "base_uri": "https://localhost:8080/"
        },
        "id": "Jb5Fk98otML9",
        "outputId": "02a72e01-cf61-4027-e741-66fb47117461"
      },
      "source": [
        "sorted_indices = sorted(indices, key=lambda i: d[i])  # key moet functie zijn...\n",
        "sorted_indices"
      ],
      "execution_count": null,
      "outputs": [
        {
          "output_type": "execute_result",
          "data": {
            "text/plain": [
              "[0, 2, 1, 3, 5, 4, 6, 7]"
            ]
          },
          "metadata": {
            "tags": []
          },
          "execution_count": 76
        }
      ]
    },
    {
      "cell_type": "markdown",
      "metadata": {
        "id": "IGxb2vhJIIkH"
      },
      "source": [
        "K eerste indices nemen:"
      ]
    },
    {
      "cell_type": "code",
      "metadata": {
        "id": "EaQmrmAWILXQ"
      },
      "source": [
        "k = 3\n",
        "# geef hier de k eerste indices uit sorted_indices\n"
      ],
      "execution_count": null,
      "outputs": []
    },
    {
      "cell_type": "markdown",
      "metadata": {
        "id": "uqTx7VSAKFfx"
      },
      "source": [
        "Labels van de K dichtste punten:"
      ]
    },
    {
      "cell_type": "code",
      "metadata": {
        "id": "HHhA1r7-KIcU"
      },
      "source": [
        "# stop de labels van de k dichtste punten in variabele k_labels\n"
      ],
      "execution_count": null,
      "outputs": []
    },
    {
      "cell_type": "markdown",
      "metadata": {
        "id": "nhxhiLXfIdqk"
      },
      "source": [
        "### Label bepalen"
      ]
    },
    {
      "cell_type": "markdown",
      "metadata": {
        "id": "AQ-ZU3SkIjGf"
      },
      "source": [
        "nieuw label:\n",
        "- bij regressie: gewogen gemiddelde van de labels van de K dichtste punten\n",
        "- bij classificatie: modus van de labels van de K dichtste punten"
      ]
    },
    {
      "cell_type": "markdown",
      "metadata": {
        "id": "xaB_pnGYIzu7"
      },
      "source": [
        "**Modus** (Engels: mode) = meest voorkomende element.\n",
        "\n",
        "Functie `mode()` uit `scipy.stats` module gebruiken:\n"
      ]
    },
    {
      "cell_type": "code",
      "metadata": {
        "colab": {
          "base_uri": "https://localhost:8080/"
        },
        "id": "6HeJzcyOtvaL",
        "outputId": "99144a8c-2352-448a-b5d9-c7da2cd7a3dd"
      },
      "source": [
        "from scipy.stats import mode  # functie mode() uit scipy.stats module\n",
        "\n",
        "reeks = [1, 2, 3, 2, 1, 2, 3, 2, 1]  # 2 komt het meest voor\n",
        "\n",
        "mode(reeks)"
      ],
      "execution_count": null,
      "outputs": [
        {
          "output_type": "execute_result",
          "data": {
            "text/plain": [
              "ModeResult(mode=array([2]), count=array([4]))"
            ]
          },
          "metadata": {
            "tags": []
          },
          "execution_count": 78
        }
      ]
    },
    {
      "cell_type": "markdown",
      "metadata": {
        "id": "z5IEdkX_JgjE"
      },
      "source": [
        "Resultaat:\n",
        "- eerste element is de modus\n",
        "- tweede element is het aantal keren dat de modus voorkomt"
      ]
    },
    {
      "cell_type": "code",
      "metadata": {
        "colab": {
          "base_uri": "https://localhost:8080/"
        },
        "id": "w4GT7Au7JVLC",
        "outputId": "76edc38c-b757-44d3-af02-0ce9e44c1ff9"
      },
      "source": [
        "mode(reeks)[0]  # geeft de modus als numpy array"
      ],
      "execution_count": null,
      "outputs": [
        {
          "output_type": "execute_result",
          "data": {
            "text/plain": [
              "array([2])"
            ]
          },
          "metadata": {
            "tags": []
          },
          "execution_count": 80
        }
      ]
    },
    {
      "cell_type": "markdown",
      "metadata": {
        "id": "GRQrT9WdJ0fs"
      },
      "source": [
        "Toepassen op ons voorbeeld:"
      ]
    },
    {
      "cell_type": "code",
      "metadata": {
        "id": "K18zofYeJ203"
      },
      "source": [
        "# pas mode() toe op array k_labels\n",
        "# stop het voorspelde label in variabele yp\n"
      ],
      "execution_count": null,
      "outputs": []
    },
    {
      "cell_type": "markdown",
      "metadata": {
        "id": "GzeYRNaJKl6B"
      },
      "source": [
        "### Functie `k_nearest`"
      ]
    },
    {
      "cell_type": "markdown",
      "metadata": {
        "id": "37qIrFjQKti0"
      },
      "source": [
        "Code uit de vorige stappen samenvoegen in een functie `k_nearest()`:"
      ]
    },
    {
      "cell_type": "code",
      "metadata": {
        "id": "2mQYwNv1JDe5"
      },
      "source": [
        "import numpy as np\n",
        "from scipy.stats import mode\n",
        "\n",
        "def k_nearest(Xnew, X, y, k=1, distance=None):\n",
        "    # Xnew is an numpy array with p rows (= examples) and n columns (= features)\n",
        "    # X and y is the training dataset:\n",
        "    #   X is an numpy array with m rows (= examples) and n columns (= features)\n",
        "    #   y is an numpy array with m elements (= labels)\n",
        "    # k is the number of nearest points (default is 1)\n",
        "    # distance is a function to calculate distances between points\n",
        "    #   distance(X, x) is called where x is a new data point with n elements\n",
        "    #   distance(X, x) returns vector d with m distances\n",
        "    #   by default Euclidean distance is calculated\n",
        "    # return value: numpy array yp with p predicted labels for dataset Xnew\n",
        "\n",
        "    # vervang pass door jou code\n",
        "    pass\n"
      ],
      "execution_count": null,
      "outputs": []
    },
    {
      "cell_type": "markdown",
      "metadata": {
        "id": "5I7ADMpDO29G"
      },
      "source": [
        "Testen met de trainingsdataset:"
      ]
    },
    {
      "cell_type": "code",
      "metadata": {
        "id": "sgDDqNPGO6DM"
      },
      "source": [
        "k_nearest(X, X, y)"
      ],
      "execution_count": null,
      "outputs": []
    },
    {
      "cell_type": "markdown",
      "metadata": {
        "id": "Af-QzW0IQ4EK"
      },
      "source": [
        "De voorspelde labels komen overeen met de echte labels."
      ]
    },
    {
      "cell_type": "markdown",
      "metadata": {
        "id": "-4RUTehpN-03"
      },
      "source": [
        "Testen met punten `x1  = [0, 0]` en `x2 = [3, 3]`"
      ]
    },
    {
      "cell_type": "code",
      "metadata": {
        "id": "yOeU_bpuN-Yt"
      },
      "source": [
        "Xnew = np.array([[0, 0], [3, 3]])\n",
        "k_nearest(Xnew, X, y, k=3)"
      ],
      "execution_count": null,
      "outputs": []
    },
    {
      "cell_type": "markdown",
      "metadata": {
        "id": "-aYdJDDoOeo_"
      },
      "source": [
        "De voorspelde labels kloppen:\n",
        "- Het eerste punt moet \"sad\" zijn (Alien zegt niks)\n",
        "- Het tweede punt moet \"happy\" zijn (Alien zegt veel)"
      ]
    },
    {
      "cell_type": "markdown",
      "metadata": {
        "id": "3wlPrdWgO_Z6"
      },
      "source": [
        "## 4. Scikit-Learn"
      ]
    },
    {
      "cell_type": "markdown",
      "metadata": {
        "id": "jZ0ofiLqQ8S-"
      },
      "source": [
        "Scikit-Learn voorziet verschillende K Nearest Neighbors algoritmes voor supervised en unsupervised learning:\n",
        "\n",
        "https://scikit-learn.org/stable/modules/neighbors.html\n",
        "\n",
        "Wij bekijken de KNN classifier:"
      ]
    },
    {
      "cell_type": "code",
      "metadata": {
        "id": "WPe2Wl9yxN4y"
      },
      "source": [
        "from sklearn.neighbors import KNeighborsClassifier as KNN"
      ],
      "execution_count": null,
      "outputs": []
    },
    {
      "cell_type": "markdown",
      "metadata": {
        "id": "Etr73LplR_6S"
      },
      "source": [
        "`KNeighborsClassifier` is een klasse met dezelfde interface als `Perceptron`, `LogisticRegression`, ..."
      ]
    },
    {
      "cell_type": "markdown",
      "metadata": {
        "id": "WW72X1pYR6z6"
      },
      "source": [
        "Toepassen op ons voorbeeld:"
      ]
    },
    {
      "cell_type": "code",
      "metadata": {
        "id": "3m-BdQ2zx3hJ"
      },
      "source": [
        "knn = KNN(n_neighbors=3)  # n_neighbors = K"
      ],
      "execution_count": null,
      "outputs": []
    },
    {
      "cell_type": "code",
      "metadata": {
        "colab": {
          "base_uri": "https://localhost:8080/"
        },
        "id": "GoYFNM_OyAWX",
        "outputId": "e233e6a0-8bd7-46bd-fdec-10f8cb3fb690"
      },
      "source": [
        "knn.fit(X, y)"
      ],
      "execution_count": null,
      "outputs": [
        {
          "output_type": "execute_result",
          "data": {
            "text/plain": [
              "KNeighborsClassifier(algorithm='auto', leaf_size=30, metric='minkowski',\n",
              "                     metric_params=None, n_jobs=None, n_neighbors=3, p=2,\n",
              "                     weights='uniform')"
            ]
          },
          "metadata": {
            "tags": []
          },
          "execution_count": 94
        }
      ]
    },
    {
      "cell_type": "markdown",
      "metadata": {
        "id": "IeGfL_fYgE0n"
      },
      "source": [
        "- parameter `n_neighbors`: aantal dichtstbijzijnde punten K\n",
        "- parameter `metric`:\n",
        "  - bepaalt hoe de afstand wordt berekend\n",
        "  - indien gelijk aan `\"minkowski\"` met parameter `p=2`: Euclidische afstand\n",
        "  - zie documentatie\n",
        "- parameter `algorithm`:\n",
        "  - verschillende algoritmes mogelijk\n",
        "  - zie documentatie\n",
        "\n",
        "https://scikit-learn.org/stable/modules/generated/sklearn.neighbors.KNeighborsClassifier.html\n",
        "  "
      ]
    },
    {
      "cell_type": "markdown",
      "metadata": {
        "id": "m9IIoq9ISXo0"
      },
      "source": [
        "Testen op de traingsdataset `X`:"
      ]
    },
    {
      "cell_type": "code",
      "metadata": {
        "id": "ifj1b5uzyBwm"
      },
      "source": [
        "# roep methode predict() aan met X als input\n"
      ],
      "execution_count": null,
      "outputs": []
    },
    {
      "cell_type": "markdown",
      "metadata": {
        "id": "cZqRIIIzSaO1"
      },
      "source": [
        "Testen op de nieuwe punten `Xnew`:"
      ]
    },
    {
      "cell_type": "code",
      "metadata": {
        "id": "bRoMBmZXyDcT"
      },
      "source": [
        "# roep methode predict() aan met Xnew als input\n"
      ],
      "execution_count": null,
      "outputs": []
    },
    {
      "cell_type": "markdown",
      "metadata": {
        "id": "HA9H3ZAqhA_7"
      },
      "source": [
        "## 5. Meer info"
      ]
    },
    {
      "cell_type": "markdown",
      "metadata": {
        "id": "hVzqBIJlhD7H"
      },
      "source": [
        "Omdat K Nearest Neighbors een eenvoudig algoritme is, vind je op het internet veel blogs die dit algoritme uitleggen, bijvoorbeeld:\n",
        "\n",
        "- https://towardsdatascience.com/machine-learning-basics-with-the-k-nearest-neighbors-algorithm-6a6e71d01761\n",
        "- https://towardsdatascience.com/k-nearest-neighbours-introduction-to-machine-learning-algorithms-18e7ce3d802a\n",
        "\n",
        "Nuttig om blogs van anderen door te nemen, maar wees kritisch!"
      ]
    },
    {
      "cell_type": "markdown",
      "metadata": {
        "id": "teyGxpZXXVvQ"
      },
      "source": [
        "\n",
        "\n",
        "---\n",
        "\n",
        "\n",
        "\n",
        "---\n",
        "## Bronnen:\n",
        "*  https://en.wikipedia.org/wiki/K-nearest_neighbors_algorithm\n",
        "*  https://scikit-learn.org/stable/modules/neighbors.html"
      ]
    }
  ]
}